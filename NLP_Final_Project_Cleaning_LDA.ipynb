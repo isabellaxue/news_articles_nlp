{
 "cells": [
  {
   "cell_type": "markdown",
   "metadata": {},
   "source": [
    "## NLP Class Final Project: Data Processing and LDA\n",
    "### Isabella Xue"
   ]
  },
  {
   "cell_type": "code",
   "execution_count": 41,
   "metadata": {},
   "outputs": [],
   "source": [
    "import pandas as pd\n",
    "import re\n",
    "from gensim import corpora, models\n",
    "import gensim\n",
    "import time\n",
    "import re\n",
    "import string\n",
    "from collections import defaultdict\n",
    "import matplotlib.pyplot as plt\n",
    "import seaborn as sns\n",
    "#plt.rcParams['font.family'] = 'serif'\n",
    "sns.set_palette(\"pastel\")"
   ]
  },
  {
   "cell_type": "code",
   "execution_count": 4,
   "metadata": {},
   "outputs": [
    {
     "name": "stderr",
     "output_type": "stream",
     "text": [
      "[nltk_data] Downloading collection 'popular'\n",
      "[nltk_data]    | \n",
      "[nltk_data]    | Downloading package cmudict to\n",
      "[nltk_data]    |     /Users/isabellaxue/nltk_data...\n",
      "[nltk_data]    |   Package cmudict is already up-to-date!\n",
      "[nltk_data]    | Downloading package gazetteers to\n",
      "[nltk_data]    |     /Users/isabellaxue/nltk_data...\n",
      "[nltk_data]    |   Package gazetteers is already up-to-date!\n",
      "[nltk_data]    | Downloading package genesis to\n",
      "[nltk_data]    |     /Users/isabellaxue/nltk_data...\n",
      "[nltk_data]    |   Package genesis is already up-to-date!\n",
      "[nltk_data]    | Downloading package gutenberg to\n",
      "[nltk_data]    |     /Users/isabellaxue/nltk_data...\n",
      "[nltk_data]    |   Package gutenberg is already up-to-date!\n",
      "[nltk_data]    | Downloading package inaugural to\n",
      "[nltk_data]    |     /Users/isabellaxue/nltk_data...\n",
      "[nltk_data]    |   Package inaugural is already up-to-date!\n",
      "[nltk_data]    | Downloading package movie_reviews to\n",
      "[nltk_data]    |     /Users/isabellaxue/nltk_data...\n",
      "[nltk_data]    |   Package movie_reviews is already up-to-date!\n",
      "[nltk_data]    | Downloading package names to\n",
      "[nltk_data]    |     /Users/isabellaxue/nltk_data...\n",
      "[nltk_data]    |   Package names is already up-to-date!\n",
      "[nltk_data]    | Downloading package shakespeare to\n",
      "[nltk_data]    |     /Users/isabellaxue/nltk_data...\n",
      "[nltk_data]    |   Package shakespeare is already up-to-date!\n",
      "[nltk_data]    | Downloading package stopwords to\n",
      "[nltk_data]    |     /Users/isabellaxue/nltk_data...\n",
      "[nltk_data]    |   Package stopwords is already up-to-date!\n",
      "[nltk_data]    | Downloading package treebank to\n",
      "[nltk_data]    |     /Users/isabellaxue/nltk_data...\n",
      "[nltk_data]    |   Package treebank is already up-to-date!\n",
      "[nltk_data]    | Downloading package twitter_samples to\n",
      "[nltk_data]    |     /Users/isabellaxue/nltk_data...\n",
      "[nltk_data]    |   Package twitter_samples is already up-to-date!\n",
      "[nltk_data]    | Downloading package omw to\n",
      "[nltk_data]    |     /Users/isabellaxue/nltk_data...\n",
      "[nltk_data]    |   Package omw is already up-to-date!\n",
      "[nltk_data]    | Downloading package omw-1.4 to\n",
      "[nltk_data]    |     /Users/isabellaxue/nltk_data...\n",
      "[nltk_data]    |   Package omw-1.4 is already up-to-date!\n",
      "[nltk_data]    | Downloading package wordnet to\n",
      "[nltk_data]    |     /Users/isabellaxue/nltk_data...\n",
      "[nltk_data]    |   Package wordnet is already up-to-date!\n",
      "[nltk_data]    | Downloading package wordnet2021 to\n",
      "[nltk_data]    |     /Users/isabellaxue/nltk_data...\n",
      "[nltk_data]    |   Package wordnet2021 is already up-to-date!\n",
      "[nltk_data]    | Downloading package wordnet31 to\n",
      "[nltk_data]    |     /Users/isabellaxue/nltk_data...\n",
      "[nltk_data]    |   Package wordnet31 is already up-to-date!\n",
      "[nltk_data]    | Downloading package wordnet_ic to\n",
      "[nltk_data]    |     /Users/isabellaxue/nltk_data...\n",
      "[nltk_data]    |   Package wordnet_ic is already up-to-date!\n",
      "[nltk_data]    | Downloading package words to\n",
      "[nltk_data]    |     /Users/isabellaxue/nltk_data...\n",
      "[nltk_data]    |   Package words is already up-to-date!\n",
      "[nltk_data]    | Downloading package maxent_ne_chunker to\n",
      "[nltk_data]    |     /Users/isabellaxue/nltk_data...\n",
      "[nltk_data]    |   Package maxent_ne_chunker is already up-to-date!\n",
      "[nltk_data]    | Downloading package punkt to\n",
      "[nltk_data]    |     /Users/isabellaxue/nltk_data...\n",
      "[nltk_data]    |   Package punkt is already up-to-date!\n",
      "[nltk_data]    | Downloading package snowball_data to\n",
      "[nltk_data]    |     /Users/isabellaxue/nltk_data...\n",
      "[nltk_data]    |   Package snowball_data is already up-to-date!\n",
      "[nltk_data]    | Downloading package averaged_perceptron_tagger to\n",
      "[nltk_data]    |     /Users/isabellaxue/nltk_data...\n",
      "[nltk_data]    |   Package averaged_perceptron_tagger is already up-\n",
      "[nltk_data]    |       to-date!\n",
      "[nltk_data]    | \n",
      "[nltk_data]  Done downloading collection popular\n"
     ]
    },
    {
     "data": {
      "text/plain": [
       "True"
      ]
     },
     "execution_count": 4,
     "metadata": {},
     "output_type": "execute_result"
    }
   ],
   "source": [
    "from nltk.tokenize import word_tokenize\n",
    "from nltk.stem import WordNetLemmatizer\n",
    "from nltk.corpus import stopwords\n",
    "\n",
    "import nltk\n",
    "nltk.download('popular')"
   ]
  },
  {
   "cell_type": "code",
   "execution_count": 3,
   "metadata": {},
   "outputs": [],
   "source": [
    "from gensim.models.ldamulticore import LdaMulticore\n",
    "from gensim.utils import simple_preprocess\n",
    "import pyLDAvis.gensim\n",
    "from gensim.corpora.dictionary import Dictionary\n",
    "from gensim import corpora, models\n",
    "from gensim.models.ldamulticore import LdaMulticore\n",
    "from gensim.models import CoherenceModel\n",
    "\n",
    "import pyLDAvis\n",
    "import pyLDAvis.gensim_models as gensimvis\n",
    "pyLDAvis.enable_notebook()"
   ]
  },
  {
   "cell_type": "code",
   "execution_count": 5,
   "metadata": {},
   "outputs": [
    {
     "name": "stdout",
     "output_type": "stream",
     "text": [
      "Using 7 workers\n"
     ]
    }
   ],
   "source": [
    "import multiprocessing\n",
    "\n",
    "num_processors = multiprocessing.cpu_count()\n",
    "\n",
    "workers = num_processors-1\n",
    "\n",
    "print(f'Using {workers} workers')"
   ]
  },
  {
   "cell_type": "code",
   "execution_count": 6,
   "metadata": {},
   "outputs": [
    {
     "name": "stdout",
     "output_type": "stream",
     "text": [
      "CPU times: user 7.91 s, sys: 5.46 s, total: 13.4 s\n",
      "Wall time: 39.7 s\n"
     ]
    },
    {
     "data": {
      "text/plain": [
       "(199208, 5)"
      ]
     },
     "execution_count": 6,
     "metadata": {},
     "output_type": "execute_result"
    }
   ],
   "source": [
    "%%time\n",
    "\n",
    "df_news_final_project = pd.read_parquet('https://storage.googleapis.com/msca-bdp-data-open/news_final_project/news_final_project.parquet', engine='pyarrow')\n",
    "df_news_final_project.shape"
   ]
  },
  {
   "cell_type": "code",
   "execution_count": 11,
   "metadata": {},
   "outputs": [
    {
     "data": {
      "text/html": [
       "<div>\n",
       "<style scoped>\n",
       "    .dataframe tbody tr th:only-of-type {\n",
       "        vertical-align: middle;\n",
       "    }\n",
       "\n",
       "    .dataframe tbody tr th {\n",
       "        vertical-align: top;\n",
       "    }\n",
       "\n",
       "    .dataframe thead th {\n",
       "        text-align: right;\n",
       "    }\n",
       "</style>\n",
       "<table border=\"1\" class=\"dataframe\">\n",
       "  <thead>\n",
       "    <tr style=\"text-align: right;\">\n",
       "      <th></th>\n",
       "      <th>url</th>\n",
       "      <th>date</th>\n",
       "      <th>language</th>\n",
       "      <th>title</th>\n",
       "      <th>text</th>\n",
       "      <th>combined_text</th>\n",
       "    </tr>\n",
       "  </thead>\n",
       "  <tbody>\n",
       "    <tr>\n",
       "      <th>0</th>\n",
       "      <td>http://newsparliament.com/2020/02/27/children-...</td>\n",
       "      <td>2020-02-27</td>\n",
       "      <td>en</td>\n",
       "      <td>Children With Autism Saw Their Learning and So...</td>\n",
       "      <td>\\nChildren With Autism Saw Their Learning and ...</td>\n",
       "      <td>Children With Autism Saw Their Learning and So...</td>\n",
       "    </tr>\n",
       "    <tr>\n",
       "      <th>1</th>\n",
       "      <td>http://thedailycougar.com/2021/11/24/college-o...</td>\n",
       "      <td>2021-11-24</td>\n",
       "      <td>en</td>\n",
       "      <td>College of Technology to launch AI Retail Lab ...</td>\n",
       "      <td>\\nCollege of Technology to launch AI Retail L...</td>\n",
       "      <td>College of Technology to launch AI Retail Lab ...</td>\n",
       "    </tr>\n",
       "    <tr>\n",
       "      <th>2</th>\n",
       "      <td>http://www.desototimes.com/news/child-actor-cl...</td>\n",
       "      <td>2022-06-09</td>\n",
       "      <td>en</td>\n",
       "      <td>Child actor Claude Jarman Jr. looks back on hi...</td>\n",
       "      <td>\\nChild actor Claude Jarman Jr. looks back on ...</td>\n",
       "      <td>Child actor Claude Jarman Jr. looks back on hi...</td>\n",
       "    </tr>\n",
       "    <tr>\n",
       "      <th>3</th>\n",
       "      <td>http://www.mysmartrend.com/news-briefs/technic...</td>\n",
       "      <td>2020-04-17</td>\n",
       "      <td>en</td>\n",
       "      <td>Cr Bard Inc Has Returned 48.9% Since SmarTrend...</td>\n",
       "      <td>\\n\\nCr Bard Inc Has Returned 48.9% Since SmarT...</td>\n",
       "      <td>Cr Bard Inc Has Returned 48.9% Since SmarTrend...</td>\n",
       "    </tr>\n",
       "    <tr>\n",
       "      <th>4</th>\n",
       "      <td>http://www.peripherals.consumerelectronicsnet....</td>\n",
       "      <td>2021-02-25</td>\n",
       "      <td>en</td>\n",
       "      <td>MulticoreWare Inc. Becomes CEVA’s Trusted Part...</td>\n",
       "      <td>\\n\\nMulticoreWare Inc. Becomes CEVA’s Trusted ...</td>\n",
       "      <td>MulticoreWare Inc. Becomes CEVA’s Trusted Part...</td>\n",
       "    </tr>\n",
       "  </tbody>\n",
       "</table>\n",
       "</div>"
      ],
      "text/plain": [
       "                                                 url        date language  \\\n",
       "0  http://newsparliament.com/2020/02/27/children-...  2020-02-27       en   \n",
       "1  http://thedailycougar.com/2021/11/24/college-o...  2021-11-24       en   \n",
       "2  http://www.desototimes.com/news/child-actor-cl...  2022-06-09       en   \n",
       "3  http://www.mysmartrend.com/news-briefs/technic...  2020-04-17       en   \n",
       "4  http://www.peripherals.consumerelectronicsnet....  2021-02-25       en   \n",
       "\n",
       "                                               title  \\\n",
       "0  Children With Autism Saw Their Learning and So...   \n",
       "1  College of Technology to launch AI Retail Lab ...   \n",
       "2  Child actor Claude Jarman Jr. looks back on hi...   \n",
       "3  Cr Bard Inc Has Returned 48.9% Since SmarTrend...   \n",
       "4  MulticoreWare Inc. Becomes CEVA’s Trusted Part...   \n",
       "\n",
       "                                                text  \\\n",
       "0  \\nChildren With Autism Saw Their Learning and ...   \n",
       "1   \\nCollege of Technology to launch AI Retail L...   \n",
       "2  \\nChild actor Claude Jarman Jr. looks back on ...   \n",
       "3  \\n\\nCr Bard Inc Has Returned 48.9% Since SmarT...   \n",
       "4  \\n\\nMulticoreWare Inc. Becomes CEVA’s Trusted ...   \n",
       "\n",
       "                                       combined_text  \n",
       "0  Children With Autism Saw Their Learning and So...  \n",
       "1  College of Technology to launch AI Retail Lab ...  \n",
       "2  Child actor Claude Jarman Jr. looks back on hi...  \n",
       "3  Cr Bard Inc Has Returned 48.9% Since SmarTrend...  \n",
       "4  MulticoreWare Inc. Becomes CEVA’s Trusted Part...  "
      ]
     },
     "execution_count": 11,
     "metadata": {},
     "output_type": "execute_result"
    }
   ],
   "source": [
    "df_news_final_project.head()"
   ]
  },
  {
   "cell_type": "code",
   "execution_count": 7,
   "metadata": {},
   "outputs": [
    {
     "name": "stdout",
     "output_type": "stream",
     "text": [
      "<class 'pandas.core.frame.DataFrame'>\n",
      "RangeIndex: 199208 entries, 0 to 199207\n",
      "Data columns (total 5 columns):\n",
      " #   Column    Non-Null Count   Dtype \n",
      "---  ------    --------------   ----- \n",
      " 0   url       199208 non-null  object\n",
      " 1   date      199208 non-null  object\n",
      " 2   language  199208 non-null  object\n",
      " 3   title     199208 non-null  object\n",
      " 4   text      199208 non-null  object\n",
      "dtypes: object(5)\n",
      "memory usage: 7.6+ MB\n"
     ]
    }
   ],
   "source": [
    "df_news_final_project.info()\n"
   ]
  },
  {
   "cell_type": "code",
   "execution_count": 8,
   "metadata": {},
   "outputs": [
    {
     "data": {
      "text/plain": [
       "language\n",
       "en    199208\n",
       "Name: count, dtype: int64"
      ]
     },
     "execution_count": 8,
     "metadata": {},
     "output_type": "execute_result"
    }
   ],
   "source": [
    "#check if all articles are in English\n",
    "df_news_final_project['language'].value_counts()"
   ]
  },
  {
   "cell_type": "code",
   "execution_count": 9,
   "metadata": {},
   "outputs": [
    {
     "data": {
      "text/plain": [
       "False"
      ]
     },
     "execution_count": 9,
     "metadata": {},
     "output_type": "execute_result"
    }
   ],
   "source": [
    "#Check If any Value is NaN in data\n",
    "df_news_final_project.isnull().values.any()"
   ]
  },
  {
   "cell_type": "code",
   "execution_count": 11,
   "metadata": {},
   "outputs": [
    {
     "name": "stdout",
     "output_type": "stream",
     "text": [
      "Start Date: 2020-01-01 00:00:00\n",
      "End Date: 2023-07-15 00:00:00\n"
     ]
    }
   ],
   "source": [
    "df_news_final_project['date'] = pd.to_datetime(df_news_final_project['date'])\n",
    "\n",
    "# Get the start and end dates\n",
    "start_date = df_news_final_project['date'].min()\n",
    "end_date = df_news_final_project['date'].max()\n",
    "\n",
    "# Print the start and end dates\n",
    "print(\"Start Date:\", start_date)\n",
    "print(\"End Date:\", end_date)"
   ]
  },
  {
   "cell_type": "code",
   "execution_count": 49,
   "metadata": {},
   "outputs": [],
   "source": [
    "# Extract the month and year from the 'date' column\n",
    "df_news_final_project['month'] = df_news_final_project['date'].dt.to_period('M')\n",
    "\n",
    "# Group by month and count the articles\n",
    "articles_by_month = df_news_final_project.groupby('month').size().reset_index(name='article_count')\n"
   ]
  },
  {
   "cell_type": "code",
   "execution_count": 50,
   "metadata": {},
   "outputs": [
    {
     "data": {
      "text/html": [
       "<div>\n",
       "<style scoped>\n",
       "    .dataframe tbody tr th:only-of-type {\n",
       "        vertical-align: middle;\n",
       "    }\n",
       "\n",
       "    .dataframe tbody tr th {\n",
       "        vertical-align: top;\n",
       "    }\n",
       "\n",
       "    .dataframe thead th {\n",
       "        text-align: right;\n",
       "    }\n",
       "</style>\n",
       "<table border=\"1\" class=\"dataframe\">\n",
       "  <thead>\n",
       "    <tr style=\"text-align: right;\">\n",
       "      <th></th>\n",
       "      <th>month</th>\n",
       "      <th>article_count</th>\n",
       "    </tr>\n",
       "  </thead>\n",
       "  <tbody>\n",
       "    <tr>\n",
       "      <th>0</th>\n",
       "      <td>2020-01</td>\n",
       "      <td>2562</td>\n",
       "    </tr>\n",
       "    <tr>\n",
       "      <th>1</th>\n",
       "      <td>2020-02</td>\n",
       "      <td>2272</td>\n",
       "    </tr>\n",
       "    <tr>\n",
       "      <th>2</th>\n",
       "      <td>2020-03</td>\n",
       "      <td>2616</td>\n",
       "    </tr>\n",
       "    <tr>\n",
       "      <th>3</th>\n",
       "      <td>2020-04</td>\n",
       "      <td>2550</td>\n",
       "    </tr>\n",
       "    <tr>\n",
       "      <th>4</th>\n",
       "      <td>2020-05</td>\n",
       "      <td>2495</td>\n",
       "    </tr>\n",
       "  </tbody>\n",
       "</table>\n",
       "</div>"
      ],
      "text/plain": [
       "     month  article_count\n",
       "0  2020-01           2562\n",
       "1  2020-02           2272\n",
       "2  2020-03           2616\n",
       "3  2020-04           2550\n",
       "4  2020-05           2495"
      ]
     },
     "execution_count": 50,
     "metadata": {},
     "output_type": "execute_result"
    }
   ],
   "source": [
    "articles_by_month.head()"
   ]
  },
  {
   "cell_type": "code",
   "execution_count": 55,
   "metadata": {},
   "outputs": [
    {
     "data": {
      "image/png": "[encoded data removed]",
      "text/plain": [
       "<Figure size 800x500 with 1 Axes>"
      ]
     },
     "metadata": {},
     "output_type": "display_data"
    }
   ],
   "source": [
    "sns.set_palette(\"pastel\")\n",
    "bar_color = '#AED6F1'  # Soft blue color\n",
    "plt.figure(figsize=(8, 5))\n",
    "ax = sns.barplot(data=articles_by_month, x='month', y='article_count', color=bar_color)\n",
    "ax.set_title('Count of Articles by Month')\n",
    "ax.set_xlabel('Month')\n",
    "ax.set_ylabel('Article Count')\n",
    "plt.xticks(rotation=90)\n",
    "sns.despine()\n",
    "plt.tight_layout()\n",
    "plt.show()"
   ]
  },
  {
   "cell_type": "code",
   "execution_count": null,
   "metadata": {},
   "outputs": [],
   "source": []
  },
  {
   "cell_type": "markdown",
   "metadata": {},
   "source": [
    "Outline:\n",
    "\n",
    "**1. Data Preprocessing:**\n",
    "- Remove noise like newlines, tabs, and other irrelevant text.\n",
    "- Perform tokenization and stemming/lemmatization to standardize words.\n",
    "- Remove irrelevant articles using techniques like keyword filtering.\n",
    "\n",
    "**2. Detect Major Topics:**\n",
    "- Apply topic modeling techniques like Latent Dirichlet Allocation (LDA) or BERTopic to identify major themes in the articles.\n",
    "\n",
    "**3. Identify AI-Impacted Industries and Job Lines:**\n",
    "- Utilize sentiment analysis to gauge the sentiment of articles towards AI in different industries.\n",
    "- Use keyword matching or named entity recognition (NER) to identify industries and job lines being discussed.\n",
    "\n",
    "**4. Identify AI Integration Candidates:**\n",
    "- Apply sentiment analysis to determine positive/negative sentiments towards AI integration in specific industries and job lines.\n",
    "- Consider industries where tasks are rule-based, repetitive, or data-driven, making them more suitable for automation.\n",
    "- Use a timeline to visualize the changing sentiment over the years.\n",
    "\n",
    "**5. Identify New AI Technologies and Solutions:**\n",
    "- Employ NER to identify mentions of new AI technologies and solutions in the articles.\n",
    "- Use keyword frequency analysis to understand the popularity and growth of these technologies over time.\n",
    "- Create a timeline visualization to showcase the introduction of these technologies.\n",
    "\n",
    "**6. Recommendations for Accelerating Development:**\n",
    "- Suggest that companies invest in research and development in AI technologies.\n",
    "- Encourage collaboration between academic institutions, companies, and government entities for knowledge sharing and resource allocation.\n",
    "\n",
    "**7. Company Plans and Sentiment:**\n",
    "- Extract organizations, people, and locations using NER.\n",
    "- Perform targeted sentiment analysis on specific organizations' plans and sentiments towards AI adoption.\n",
    "- Create visualizations like word clouds or bubble charts to summarize recommendations and sentiments.\n",
    "\n",
    "**8. Applications Beyond AI's Current Reach:**\n",
    "- Use sentiment analysis to identify areas where AI has not made significant progress due to limitations in technology.\n",
    "- Visualize these findings using word clouds or bubble charts.\n",
    "\n",
    "**Additional Guidance:**\n",
    "- Experiment with various NLP techniques like topic modeling, classification, clustering, and zero-shot learning for better topic identification.\n",
    "- Fine-tune sentiment analysis models using domain-specific data or lexicons.\n",
    "- Consider combining techniques to enhance the accuracy of your insights."
   ]
  },
  {
   "cell_type": "markdown",
   "metadata": {},
   "source": [
    "### Data Preprocessing"
   ]
  },
  {
   "cell_type": "code",
   "execution_count": 10,
   "metadata": {},
   "outputs": [],
   "source": [
    "# Combine 'title' and 'text' columns\n",
    "df_news_final_project['combined_text'] = df_news_final_project['title'] + ' ' + df_news_final_project['text']"
   ]
  },
  {
   "cell_type": "code",
   "execution_count": 12,
   "metadata": {},
   "outputs": [],
   "source": [
    "def clean_text(text):\n",
    "    # Remove newlines, tabs, and other unwanted characters\n",
    "    text = re.sub(r'\\n+', ' ', text)\n",
    "    text = re.sub(r'\\t+', ' ', text)\n",
    "    text = re.sub(r'\\s+', ' ', text)\n",
    "    \n",
    "    # Remove punctuation\n",
    "    text = text.translate(str.maketrans(\"\", \"\", string.punctuation))\n",
    "    \n",
    "    # Remove URLs\n",
    "    text = re.sub(r\"http\\S+|www\\S+|https\\S+\", \"\", text)\n",
    "    \n",
    "    # Remove special characters and punctuation\n",
    "    text = re.sub(r'[^\\w\\s]', '', text)\n",
    "    \n",
    "    # Convert to lowercase\n",
    "    text = text.lower()\n",
    "    \n",
    "    return text\n",
    "\n",
    "# Apply text cleaning to combined_text\n",
    "df_news_final_project['cleaned_text'] = df_news_final_project['combined_text'].apply(clean_text)"
   ]
  },
  {
   "cell_type": "code",
   "execution_count": 13,
   "metadata": {},
   "outputs": [],
   "source": [
    "# Initialize lemmatizer\n",
    "lemmatizer = WordNetLemmatizer()\n",
    "\n",
    "# Tokenization \n",
    "def tokenize(text):\n",
    "    tokens = word_tokenize(text)\n",
    "    return tokens\n",
    "\n",
    "# Lemmatization \n",
    "def lemmatize(token):\n",
    "    return lemmatizer.lemmatize(token)\n",
    "\n",
    "# Stopwords\n",
    "stop_words = set(stopwords.words('english'))\n"
   ]
  },
  {
   "cell_type": "code",
   "execution_count": 14,
   "metadata": {},
   "outputs": [],
   "source": [
    "# Function to perform lemmatization and keyword filtering\n",
    "def preprocess_text(text):\n",
    "    tokens = word_tokenize(text)\n",
    "    lemmatized_tokens = [lemmatizer.lemmatize(token) for token in tokens if token not in stop_words]\n",
    "    lemmatized_text = ' '.join(lemmatized_tokens)\n",
    "    return lemmatized_text\n",
    "\n",
    "# Apply lemmatization and keyword filtering\n",
    "df_news_final_project['processed_text'] = df_news_final_project['cleaned_text'].apply(preprocess_text)\n"
   ]
  },
  {
   "cell_type": "code",
   "execution_count": 15,
   "metadata": {},
   "outputs": [],
   "source": [
    "# Define relevant keywords for filtering\n",
    "#keywords = ['data science', 'machine learning', 'artificial intelligence']\n",
    "keywords = ['[Aa]rtificial [Ii]ntelligence',\n",
    "        '[Mm]achine [Ll]earning',\n",
    "        '[Dd]eep [Ll]earning',\n",
    "        '[Nn]eural [Nn]etworks',\n",
    "        '[Cc]onvolutional [Nn]eural [Nn]etworks',\n",
    "        '[Rr]ecurrent [Nn]eural [Nn]etworks',\n",
    "        '[Nn]atural [Ll]anguage [Pp]rocessing',\n",
    "        '[Dd]ata [Mm]ining',\n",
    "        '[Bb]ig [Dd]ata',\n",
    "        '[Dd]ata [Ss]cience',\n",
    "        '[Dd]ata [Aa]nalytics',\n",
    "        '[Pp]redictive [Aa]nalytics',\n",
    "        '[Mm]achine [Vv]ision',\n",
    "        '[Ii]mage [Rr]ecognition',\n",
    "        '[Oo]bject [Dd]etection',\n",
    "        '[Ss]emantic [Ss]egmentation',\n",
    "        '[Ee]motion [Rr]ecognition',\n",
    "        '[Ff]acial [Rr]ecognition',\n",
    "        '[Vv]oice [Rr]ecognition',\n",
    "        '[Aa]utomated [Tt]esting',\n",
    "        '[Aa]utomated [Rr]easoning',\n",
    "        '[Kk]nowledge [Rr]epresentation',\n",
    "        '[Rr]obotics',\n",
    "        '[Aa]utonomous [Vv]ehicles',\n",
    "        '[Cc]ognitive [Aa]rchitecture',\n",
    "        '[Cc]omputational [Ii]ntelligence',\n",
    "        '[Ss]warm [Ii]ntelligence',\n",
    "        '[Ee]volutionary [Cc]omputation',\n",
    "        '[Ff]uzzy [Ll]ogic',\n",
    "        '[Aa]rtificial [Ll]ife',\n",
    "        '[Gg]enetic [Aa]lgorithms',\n",
    "        '[Nn]euroevolution',\n",
    "        '[Nn]euroscience [Ii]nspired [Aa]rtificial [Ii]ntelligence',\n",
    "        '[Aa]ugmented [Rr]eality',\n",
    "        '[Vv]irtual [Rr]eality',\n",
    "        '[Gg]enerative [Aa]dversarial [Nn]etworks',\n",
    "        '[Tt]ransformer [Mm]odels',\n",
    "        '[Bb]ayesian [Nn]etworks',\n",
    "        '[Hh]idden [Mm]arkov [Mm]odels',\n",
    "        '[Ss]upport [Vv]ector [Mm]achines',\n",
    "        '[Ee]xtreme [Ll]earning [Mm]achines',\n",
    "        '[Rr]einforcement [Ll]earning',\n",
    "        '[Qq]-learning',\n",
    "        '[Aa]dversarial [Ll]earning',\n",
    "        '[Gg]radient [Dd]escent',\n",
    "        '[Bb]ackpropagation',\n",
    "        '[Oo]ptimization [Aa]lgorithms',\n",
    "        '[Ll]ogistic [Rr]egression',\n",
    "        '[Ss]entiment [Aa]nalysis',\n",
    "        '[Ss]ocial [Nn]etwork [Aa]nalysis',\n",
    "        '[Cc]omputer [Vv]ision',\n",
    "        '[Ii]mage [Pp]rocessing',\n",
    "        '[Ii]mage [Gg]eneration',\n",
    "        '[Ii]mage [Cc]lassification',\n",
    "        '[Ii]mage [Rr]ecognition',\n",
    "        '[Cc]hat [Bb]ots',\n",
    "        '[Nn]atural [Ll]anguage [Gg]eneration'\n",
    "        '[Cc]hat GPT',\n",
    "        '[Cc]onversational AI',\n",
    "        'AI'\n",
    "        '[Cc]hatGPT']"
   ]
  },
  {
   "cell_type": "code",
   "execution_count": 16,
   "metadata": {},
   "outputs": [],
   "source": [
    "# Filter out irrelevant articles based on keywords\n",
    "#df_relevant_articles = df_news_final_project[df_news_final_project['processed_text'].str.contains('|'.join(keywords), case=False)]\n",
    "#df_relevant_articles.reset_index(drop=True, inplace=True)\n",
    "\n",
    "keywords_pattern = '|'.join(keywords)\n",
    "\n",
    "# Function to filter AI-related articles\n",
    "def is_ai_related(text):\n",
    "    return bool(re.search(keywords_pattern, text))\n",
    "\n",
    "df_relevant_articles = df_news_final_project[df_news_final_project['processed_text'].apply(is_ai_related)]\n",
    "\n",
    "df_relevant_articles.reset_index(drop=True, inplace=True)"
   ]
  },
  {
   "cell_type": "code",
   "execution_count": 17,
   "metadata": {},
   "outputs": [
    {
     "data": {
      "text/html": [
       "<div>\n",
       "<style scoped>\n",
       "    .dataframe tbody tr th:only-of-type {\n",
       "        vertical-align: middle;\n",
       "    }\n",
       "\n",
       "    .dataframe tbody tr th {\n",
       "        vertical-align: top;\n",
       "    }\n",
       "\n",
       "    .dataframe thead th {\n",
       "        text-align: right;\n",
       "    }\n",
       "</style>\n",
       "<table border=\"1\" class=\"dataframe\">\n",
       "  <thead>\n",
       "    <tr style=\"text-align: right;\">\n",
       "      <th></th>\n",
       "      <th>url</th>\n",
       "      <th>date</th>\n",
       "      <th>language</th>\n",
       "      <th>title</th>\n",
       "      <th>text</th>\n",
       "      <th>combined_text</th>\n",
       "      <th>cleaned_text</th>\n",
       "      <th>processed_text</th>\n",
       "    </tr>\n",
       "  </thead>\n",
       "  <tbody>\n",
       "    <tr>\n",
       "      <th>0</th>\n",
       "      <td>http://newsparliament.com/2020/02/27/children-...</td>\n",
       "      <td>2020-02-27</td>\n",
       "      <td>en</td>\n",
       "      <td>Children With Autism Saw Their Learning and So...</td>\n",
       "      <td>\\nChildren With Autism Saw Their Learning and ...</td>\n",
       "      <td>Children With Autism Saw Their Learning and So...</td>\n",
       "      <td>children with autism saw their learning and so...</td>\n",
       "      <td>child autism saw learning social skill boosted...</td>\n",
       "    </tr>\n",
       "    <tr>\n",
       "      <th>1</th>\n",
       "      <td>http://thedailycougar.com/2021/11/24/college-o...</td>\n",
       "      <td>2021-11-24</td>\n",
       "      <td>en</td>\n",
       "      <td>College of Technology to launch AI Retail Lab ...</td>\n",
       "      <td>\\nCollege of Technology to launch AI Retail L...</td>\n",
       "      <td>College of Technology to launch AI Retail Lab ...</td>\n",
       "      <td>college of technology to launch ai retail lab ...</td>\n",
       "      <td>college technology launch ai retail lab cougar...</td>\n",
       "    </tr>\n",
       "    <tr>\n",
       "      <th>2</th>\n",
       "      <td>http://www.peripherals.consumerelectronicsnet....</td>\n",
       "      <td>2021-02-25</td>\n",
       "      <td>en</td>\n",
       "      <td>MulticoreWare Inc. Becomes CEVA’s Trusted Part...</td>\n",
       "      <td>\\n\\nMulticoreWare Inc. Becomes CEVA’s Trusted ...</td>\n",
       "      <td>MulticoreWare Inc. Becomes CEVA’s Trusted Part...</td>\n",
       "      <td>multicoreware inc becomes cevas trusted partne...</td>\n",
       "      <td>multicoreware inc becomes cevas trusted partne...</td>\n",
       "    </tr>\n",
       "    <tr>\n",
       "      <th>3</th>\n",
       "      <td>http://www.sbwire.com/press-releases/healthcar...</td>\n",
       "      <td>2022-10-06</td>\n",
       "      <td>en</td>\n",
       "      <td>Healthcare Artificial Intelligence Market Anal...</td>\n",
       "      <td>\\n\\nHealthcare Artificial Intelligence Market ...</td>\n",
       "      <td>Healthcare Artificial Intelligence Market Anal...</td>\n",
       "      <td>healthcare artificial intelligence market anal...</td>\n",
       "      <td>healthcare artificial intelligence market anal...</td>\n",
       "    </tr>\n",
       "    <tr>\n",
       "      <th>4</th>\n",
       "      <td>https://3wnews.org/uncategorised/1351502/artif...</td>\n",
       "      <td>2020-06-14</td>\n",
       "      <td>en</td>\n",
       "      <td>Artificial Intelligence In Behavioral And Ment...</td>\n",
       "      <td>\\nArtificial Intelligence In Behavioral And Me...</td>\n",
       "      <td>Artificial Intelligence In Behavioral And Ment...</td>\n",
       "      <td>artificial intelligence in behavioral and ment...</td>\n",
       "      <td>artificial intelligence behavioral mental heal...</td>\n",
       "    </tr>\n",
       "  </tbody>\n",
       "</table>\n",
       "</div>"
      ],
      "text/plain": [
       "                                                 url        date language  \\\n",
       "0  http://newsparliament.com/2020/02/27/children-...  2020-02-27       en   \n",
       "1  http://thedailycougar.com/2021/11/24/college-o...  2021-11-24       en   \n",
       "2  http://www.peripherals.consumerelectronicsnet....  2021-02-25       en   \n",
       "3  http://www.sbwire.com/press-releases/healthcar...  2022-10-06       en   \n",
       "4  https://3wnews.org/uncategorised/1351502/artif...  2020-06-14       en   \n",
       "\n",
       "                                               title  \\\n",
       "0  Children With Autism Saw Their Learning and So...   \n",
       "1  College of Technology to launch AI Retail Lab ...   \n",
       "2  MulticoreWare Inc. Becomes CEVA’s Trusted Part...   \n",
       "3  Healthcare Artificial Intelligence Market Anal...   \n",
       "4  Artificial Intelligence In Behavioral And Ment...   \n",
       "\n",
       "                                                text  \\\n",
       "0  \\nChildren With Autism Saw Their Learning and ...   \n",
       "1   \\nCollege of Technology to launch AI Retail L...   \n",
       "2  \\n\\nMulticoreWare Inc. Becomes CEVA’s Trusted ...   \n",
       "3  \\n\\nHealthcare Artificial Intelligence Market ...   \n",
       "4  \\nArtificial Intelligence In Behavioral And Me...   \n",
       "\n",
       "                                       combined_text  \\\n",
       "0  Children With Autism Saw Their Learning and So...   \n",
       "1  College of Technology to launch AI Retail Lab ...   \n",
       "2  MulticoreWare Inc. Becomes CEVA’s Trusted Part...   \n",
       "3  Healthcare Artificial Intelligence Market Anal...   \n",
       "4  Artificial Intelligence In Behavioral And Ment...   \n",
       "\n",
       "                                        cleaned_text  \\\n",
       "0  children with autism saw their learning and so...   \n",
       "1  college of technology to launch ai retail lab ...   \n",
       "2  multicoreware inc becomes cevas trusted partne...   \n",
       "3  healthcare artificial intelligence market anal...   \n",
       "4  artificial intelligence in behavioral and ment...   \n",
       "\n",
       "                                      processed_text  \n",
       "0  child autism saw learning social skill boosted...  \n",
       "1  college technology launch ai retail lab cougar...  \n",
       "2  multicoreware inc becomes cevas trusted partne...  \n",
       "3  healthcare artificial intelligence market anal...  \n",
       "4  artificial intelligence behavioral mental heal...  "
      ]
     },
     "execution_count": 17,
     "metadata": {},
     "output_type": "execute_result"
    }
   ],
   "source": [
    "df_relevant_articles.head()"
   ]
  },
  {
   "cell_type": "code",
   "execution_count": 18,
   "metadata": {},
   "outputs": [
    {
     "data": {
      "text/plain": [
       "(157309, 8)"
      ]
     },
     "execution_count": 18,
     "metadata": {},
     "output_type": "execute_result"
    }
   ],
   "source": [
    "df_relevant_articles.shape"
   ]
  },
  {
   "cell_type": "code",
   "execution_count": 66,
   "metadata": {},
   "outputs": [
    {
     "data": {
      "text/plain": [
       "0.21032789847797279"
      ]
     },
     "execution_count": 66,
     "metadata": {},
     "output_type": "execute_result"
    }
   ],
   "source": [
    "(199208-157309)/199208"
   ]
  },
  {
   "cell_type": "markdown",
   "metadata": {},
   "source": [
    "About 21% of the articles are filtered out. "
   ]
  },
  {
   "cell_type": "code",
   "execution_count": 19,
   "metadata": {},
   "outputs": [],
   "source": [
    "df_relevant_articles = df_relevant_articles[['date', 'processed_text']]\n",
    "df_relevant_articles.to_parquet('df_filtered.parquet', index=False)"
   ]
  },
  {
   "cell_type": "code",
   "execution_count": 56,
   "metadata": {},
   "outputs": [],
   "source": [
    "df_relevant_articles = pd.read_parquet('df_filtered.parquet', engine='pyarrow')\n"
   ]
  },
  {
   "cell_type": "code",
   "execution_count": 57,
   "metadata": {},
   "outputs": [],
   "source": [
    "sample_df = df_relevant_articles.sample(frac=0.7, replace=True, random_state=1)"
   ]
  },
  {
   "cell_type": "code",
   "execution_count": 58,
   "metadata": {},
   "outputs": [
    {
     "name": "stdout",
     "output_type": "stream",
     "text": [
      "<class 'pandas.core.frame.DataFrame'>\n",
      "Index: 110116 entries, 128037 to 35817\n",
      "Data columns (total 2 columns):\n",
      " #   Column          Non-Null Count   Dtype \n",
      "---  ------          --------------   ----- \n",
      " 0   date            110116 non-null  object\n",
      " 1   processed_text  110116 non-null  object\n",
      "dtypes: object(2)\n",
      "memory usage: 2.5+ MB\n"
     ]
    }
   ],
   "source": [
    "sample_df.info()\n"
   ]
  },
  {
   "cell_type": "markdown",
   "metadata": {},
   "source": [
    "### Detect Major Topics"
   ]
  },
  {
   "cell_type": "markdown",
   "metadata": {},
   "source": [
    "#### LDA"
   ]
  },
  {
   "cell_type": "code",
   "execution_count": 28,
   "metadata": {},
   "outputs": [],
   "source": [
    "# Tokenized and preprocessed text\n",
    "processed_text = sample_df['processed_text']\n",
    "\n",
    "# Tokenize the processed text\n",
    "tokenized_text = processed_text.apply(lambda text: text.split())\n",
    "\n",
    "# Create a dictionary and a corpus\n",
    "dictionary = corpora.Dictionary(tokenized_text)\n",
    "corpus = [dictionary.doc2bow(text) for text in tokenized_text]"
   ]
  },
  {
   "cell_type": "code",
   "execution_count": 29,
   "metadata": {},
   "outputs": [],
   "source": [
    "start_time = time.time()\n",
    "\n",
    "def tic():\n",
    "    global start_time\n",
    "    start_time = time.time()\n",
    "\n",
    "def tac():\n",
    "    t_sec = round(time.time() - start_time)\n",
    "    (t_min, t_sec) = divmod(t_sec,60)\n",
    "    (t_hour,t_min) = divmod(t_min,60)\n",
    "    print(f'Execution time to calculate for topic {k}: {t_hour}hour:{t_min}min:{t_sec}sec'.format(t_hour,t_min,t_sec))"
   ]
  },
  {
   "cell_type": "code",
   "execution_count": 30,
   "metadata": {},
   "outputs": [],
   "source": [
    "# supporting function\n",
    "def compute_coherence_values(corpus, dictionary, k, a, b):\n",
    "\n",
    "    lda_model = LdaMulticore(corpus=corpus,\n",
    "                       id2word=dictionary,\n",
    "                       num_topics=k,\n",
    "                       random_state=123,\n",
    "                       passes=20,\n",
    "                       alpha=a,\n",
    "                       eta=b,\n",
    "                       workers=workers)\n",
    "\n",
    "    coherence_model_lda = CoherenceModel(model=lda_model, texts=tokenized_text, dictionary=dictionary, coherence='c_v')\n",
    "\n",
    "    return coherence_model_lda.get_coherence()"
   ]
  },
  {
   "cell_type": "code",
   "execution_count": 31,
   "metadata": {},
   "outputs": [
    {
     "name": "stdout",
     "output_type": "stream",
     "text": [
      "LDA will execute 8 iterations\n",
      "Completed model based on 3 LDA topics. Finished 12.5% of LDA runs\n",
      "Execution time to calculate for topic 3: 0hour:21min:42sec\n",
      "Completed model based on 4 LDA topics. Finished 25.0% of LDA runs\n",
      "Execution time to calculate for topic 4: 0hour:25min:29sec\n",
      "Completed model based on 5 LDA topics. Finished 37.5% of LDA runs\n",
      "Execution time to calculate for topic 5: 0hour:27min:5sec\n",
      "Completed model based on 6 LDA topics. Finished 50.0% of LDA runs\n",
      "Execution time to calculate for topic 6: 0hour:29min:39sec\n",
      "Completed model based on 7 LDA topics. Finished 62.5% of LDA runs\n",
      "Execution time to calculate for topic 7: 0hour:30min:44sec\n",
      "Completed model based on 8 LDA topics. Finished 75.0% of LDA runs\n",
      "Execution time to calculate for topic 8: 0hour:33min:29sec\n",
      "Completed model based on 9 LDA topics. Finished 87.5% of LDA runs\n",
      "Execution time to calculate for topic 9: 0hour:29min:37sec\n",
      "Completed model based on 10 LDA topics. Finished 100.0% of LDA runs\n",
      "Execution time to calculate for topic 10: 0hour:33min:24sec\n",
      "CPU times: user 1h 47min 43s, sys: 35min 50s, total: 2h 23min 34s\n",
      "Wall time: 3h 51min 9s\n"
     ]
    }
   ],
   "source": [
    "%%time\n",
    "\n",
    "grid = {}\n",
    "grid['Validation_Set'] = {}\n",
    "# Topics range\n",
    "min_topics = 3\n",
    "max_topics = 10\n",
    "step_size = 1\n",
    "topics_range = range(min_topics, max_topics+1, step_size)\n",
    "\n",
    "# Alpha parameter\n",
    "# alpha = list(np.arange(0.01, 1, 0.3))\n",
    "# alpha.append('symmetric')\n",
    "# alpha.append('asymmetric')\n",
    "alpha = ['asymmetric'] # Run for number of topics only\n",
    "#alpha.append('symmetric')\n",
    "\n",
    "# Beta parameter\n",
    "# beta = list(np.arange(0.01, 1, 0.3))\n",
    "# beta.append('symmetric')\n",
    "beta = ['auto'] # Run for number of topics only\n",
    "\n",
    "\n",
    "# Validation sets\n",
    "num_of_docs = len(corpus)\n",
    "corpus_sets = [# gensim.utils.ClippedCorpus(corpus, num_of_docs*0.25),\n",
    "               # gensim.utils.ClippedCorpus(corpus, num_of_docs*0.5),\n",
    "#                gensim.utils.ClippedCorpus(corpus, num_of_docs*0.75),\n",
    "               corpus]\n",
    "# corpus_title = ['75% Corpus', '100% Corpus']\n",
    "corpus_title = ['100% Corpus']\n",
    "model_results = {\n",
    "                 'Topics': [],\n",
    "                 'Alpha': [],\n",
    "                 'Beta': [],\n",
    "                 'Coherence': []\n",
    "                }\n",
    "\n",
    "itr = 0\n",
    "itr_total = len(beta)*len(alpha)*len(topics_range)*len(corpus_title)\n",
    "print(f'LDA will execute {itr_total} iterations')\n",
    "\n",
    "\n",
    "# iterate through hyperparameters\n",
    "for i in range(len(corpus_sets)):\n",
    "    # iterate through number of topics\n",
    "    for k in topics_range:\n",
    "        # iterate through alpha values\n",
    "        tic()\n",
    "        for a in alpha:\n",
    "            # iterare through beta values\n",
    "            for b in beta:\n",
    "                # get the coherence score for the given parameters\n",
    "                itr += 1\n",
    "                cv = compute_coherence_values(corpus=corpus_sets[i], dictionary=dictionary,\n",
    "                                              k=k, a=a, b=b)\n",
    "                # Save the model results\n",
    "                model_results['Topics'].append(k)\n",
    "                model_results['Alpha'].append(a)\n",
    "                model_results['Beta'].append(b)\n",
    "                model_results['Coherence'].append(cv)\n",
    "                pct_completed = round((itr / itr_total * 100),1)\n",
    "#                 print(f'Completed Percent: {pct_completed}%, Corpus: {corpus_title[i]}, Topics: {k}, Alpha: {a}, Beta: {b}, Coherence: {cv}')\n",
    "        print(f'Completed model based on {k} LDA topics. Finished {pct_completed}% of LDA runs')\n",
    "        tac()"
   ]
  },
  {
   "cell_type": "code",
   "execution_count": 32,
   "metadata": {},
   "outputs": [
    {
     "data": {
      "text/html": [
       "<div>\n",
       "<style scoped>\n",
       "    .dataframe tbody tr th:only-of-type {\n",
       "        vertical-align: middle;\n",
       "    }\n",
       "\n",
       "    .dataframe tbody tr th {\n",
       "        vertical-align: top;\n",
       "    }\n",
       "\n",
       "    .dataframe thead th {\n",
       "        text-align: right;\n",
       "    }\n",
       "</style>\n",
       "<table border=\"1\" class=\"dataframe\">\n",
       "  <thead>\n",
       "    <tr style=\"text-align: right;\">\n",
       "      <th></th>\n",
       "      <th>Topics</th>\n",
       "      <th>Alpha</th>\n",
       "      <th>Beta</th>\n",
       "      <th>Coherence</th>\n",
       "    </tr>\n",
       "  </thead>\n",
       "  <tbody>\n",
       "    <tr>\n",
       "      <th>1</th>\n",
       "      <td>4</td>\n",
       "      <td>asymmetric</td>\n",
       "      <td>auto</td>\n",
       "      <td>0.479337</td>\n",
       "    </tr>\n",
       "    <tr>\n",
       "      <th>7</th>\n",
       "      <td>10</td>\n",
       "      <td>asymmetric</td>\n",
       "      <td>auto</td>\n",
       "      <td>0.465509</td>\n",
       "    </tr>\n",
       "    <tr>\n",
       "      <th>3</th>\n",
       "      <td>6</td>\n",
       "      <td>asymmetric</td>\n",
       "      <td>auto</td>\n",
       "      <td>0.461777</td>\n",
       "    </tr>\n",
       "    <tr>\n",
       "      <th>2</th>\n",
       "      <td>5</td>\n",
       "      <td>asymmetric</td>\n",
       "      <td>auto</td>\n",
       "      <td>0.458528</td>\n",
       "    </tr>\n",
       "    <tr>\n",
       "      <th>6</th>\n",
       "      <td>9</td>\n",
       "      <td>asymmetric</td>\n",
       "      <td>auto</td>\n",
       "      <td>0.456273</td>\n",
       "    </tr>\n",
       "    <tr>\n",
       "      <th>5</th>\n",
       "      <td>8</td>\n",
       "      <td>asymmetric</td>\n",
       "      <td>auto</td>\n",
       "      <td>0.452499</td>\n",
       "    </tr>\n",
       "    <tr>\n",
       "      <th>4</th>\n",
       "      <td>7</td>\n",
       "      <td>asymmetric</td>\n",
       "      <td>auto</td>\n",
       "      <td>0.438212</td>\n",
       "    </tr>\n",
       "    <tr>\n",
       "      <th>0</th>\n",
       "      <td>3</td>\n",
       "      <td>asymmetric</td>\n",
       "      <td>auto</td>\n",
       "      <td>0.396725</td>\n",
       "    </tr>\n",
       "  </tbody>\n",
       "</table>\n",
       "</div>"
      ],
      "text/plain": [
       "   Topics       Alpha  Beta  Coherence\n",
       "1       4  asymmetric  auto   0.479337\n",
       "7      10  asymmetric  auto   0.465509\n",
       "3       6  asymmetric  auto   0.461777\n",
       "2       5  asymmetric  auto   0.458528\n",
       "6       9  asymmetric  auto   0.456273\n",
       "5       8  asymmetric  auto   0.452499\n",
       "4       7  asymmetric  auto   0.438212\n",
       "0       3  asymmetric  auto   0.396725"
      ]
     },
     "execution_count": 32,
     "metadata": {},
     "output_type": "execute_result"
    }
   ],
   "source": [
    "#LDA parameters\n",
    "lda_tuning = pd.DataFrame(model_results)\n",
    "#lda_tuning.to_csv('lda_tuning.csv', index=False)\n",
    "lda_tuning.sort_values(by=['Coherence'], ascending=False)"
   ]
  },
  {
   "cell_type": "code",
   "execution_count": 65,
   "metadata": {},
   "outputs": [],
   "source": [
    "lda_tuning.to_csv('lda_tuning.csv', index=False)\n"
   ]
  },
  {
   "cell_type": "code",
   "execution_count": 33,
   "metadata": {},
   "outputs": [
    {
     "data": {
      "text/plain": [
       "<AxesSubplot:xlabel='Topics'>"
      ]
     },
     "execution_count": 33,
     "metadata": {},
     "output_type": "execute_result"
    },
    {
     "data": {
      "image/png": "[encoded data removed]",
      "text/plain": [
       "<Figure size 640x480 with 1 Axes>"
      ]
     },
     "metadata": {},
     "output_type": "display_data"
    }
   ],
   "source": [
    "lda_tuning.plot(x ='Topics', y='Coherence', kind = 'line', xticks=range(3,10))\n"
   ]
  },
  {
   "cell_type": "markdown",
   "metadata": {},
   "source": [
    "##### Best model"
   ]
  },
  {
   "cell_type": "code",
   "execution_count": 37,
   "metadata": {},
   "outputs": [
    {
     "name": "stdout",
     "output_type": "stream",
     "text": [
      "CPU times: user 11min 17s, sys: 3min 5s, total: 14min 22s\n",
      "Wall time: 15min 48s\n"
     ]
    }
   ],
   "source": [
    "%%time\n",
    "\n",
    "lda_tuning_best = lda_tuning.sort_values(by=['Coherence'], ascending=False).head(1)\n",
    "tuned_topics = int(lda_tuning_best['Topics'].to_string(index=False))\n",
    "tuned_alpha = lda_tuning_best['Alpha'].to_string(index=False).strip()\n",
    "tuned_beta = lda_tuning_best['Beta'].to_string(index=False).strip()\n",
    "\n",
    "tuned_lda_model = LdaMulticore(corpus=corpus,\n",
    "                       id2word=dictionary,\n",
    "                       num_topics=tuned_topics,\n",
    "                       random_state=123,\n",
    "                       passes=20,\n",
    "                       alpha=tuned_alpha,\n",
    "                       eta=tuned_beta,\n",
    "                       workers = workers)\n"
   ]
  },
  {
   "cell_type": "code",
   "execution_count": 38,
   "metadata": {},
   "outputs": [
    {
     "name": "stdout",
     "output_type": "stream",
     "text": [
      "(0, '0.038*\"market\" + 0.013*\"intelligence\" + 0.012*\"artificial\" + 0.012*\"report\" + 0.010*\"global\"')\n",
      "(1, '0.020*\"ai\" + 0.009*\"data\" + 0.006*\"technology\" + 0.005*\"company\" + 0.005*\"new\"')\n",
      "(2, '0.009*\"ai\" + 0.009*\"news\" + 0.006*\"u\" + 0.006*\"new\" + 0.004*\"2023\"')\n",
      "(3, '0.013*\"news\" + 0.010*\"business\" + 0.010*\"service\" + 0.009*\"product\" + 0.008*\"technology\"')\n"
     ]
    }
   ],
   "source": [
    "print(*tuned_lda_model.print_topics(num_topics=4, num_words=5), sep='\\n')\n"
   ]
  },
  {
   "cell_type": "code",
   "execution_count": 67,
   "metadata": {},
   "outputs": [
    {
     "data": {
      "text/html": [
       "\n",
       "<link rel=\"stylesheet\" type=\"text/css\" href=\"https://cdn.jsdelivr.net/gh/bmabey/pyLDAvis@3.4.0/pyLDAvis/js/ldavis.v1.0.0.css\">\n",
       "\n",
       "\n",
       "<div id=\"ldavis_el520961406052386626407732811251\" style=\"background-color:white;\"></div>\n",
       "<script type=\"text/javascript\">\n",
       "\n",
       "var ldavis_el520961406052386626407732811251_data = {\"mdsDat\": {\"x\": [0.11931303604510335, 0.05584966862137947, 0.03395648033509419, -0.20911918500157695], \"y\": [0.11897123252708605, 0.01897617465627878, -0.18143355207223918, 0.04348614488887435], \"topics\": [1, 2, 3, 4], \"cluster\": [1, 1, 1, 1], \"Freq\": [40.53456075423801, 33.29677220911205, 19.31794467286068, 6.8507223637892745]}, \"tinfo\": {\"Term\": [\"market\", \"news\", \"report\", \"business\", \"service\", \"global\", \"product\", \"intelligence\", \"artificial\", \"analysis\", \"public\", \"growth\", \"medium\", \"technology\", \"industry\", \"policy\", \"release\", \"health\", \"entertainment\", \"data\", \"u\", \"people\", \"resource\", \"consumer\", \"forecast\", \"sign\", \"contact\", \"general\", \"research\", \"sport\", \"bestreviews\", \"nexstar\", \"daughter\", \"arrested\", \"wife\", \"husband\", \"dress\", \"newsnation\", \"redistributed\", \"rewritten\", \"bikini\", \"hindu\", \"sunak\", \"accused\", \"journalistic\", \"girlfriend\", \"cna\", \"kardashian\", \"republican\", \"actress\", \"putin\", \"mailonline\", \"meghan\", \"beatles\", \"admits\", \"god\", \"clearview\", \"girl\", \"boyfriend\", \"mccartney\", \"musk\", \"trump\", \"biden\", \"elon\", \"altman\", \"shooting\", \"lawmaker\", \"dead\", \"epaper\", \"prince\", \"dy\", \"police\", \"eedition\", \"killed\", \"shes\", \"windowclick\", \"harry\", \"ago\", \"ap\", \"letter\", \"man\", \"advertisement\", \"told\", \"icon\", \"bing\", \"chatgpt\", \"house\", \"chatbot\", \"bard\", \"edt\", \"story\", \"war\", \"hill\", \"song\", \"say\", \"openai\", \"tv\", \"star\", \"video\", \"day\", \"app\", \"job\", \"hour\", \"watch\", \"could\", \"2023\", \"week\", \"said\", \"get\", \"would\", \"local\", \"news\", \"google\", \"sport\", \"show\", \"politics\", \"file\", \"live\", \"read\", \"comment\", \"new\", \"like\", \"home\", \"u\", \"right\", \"ai\", \"search\", \"people\", \"world\", \"year\", \"one\", \"may\", \"time\", \"use\", \"technology\", \"artificial\", \"intelligence\", \"company\", \"brandvoice\", \"venturebeat\", \"techrepublic\", \"newswise\", \"techradar\", \"eurekalert\", \"keyboardarrowright\", \"gamesbeat\", \"safetylit\", \"idg\", \"internet1\", \"ooda\", \"techtarget\", \"arn\", \"principality\", \"etcio\", \"arrowrightalt\", \"rezolve\", \"argonne\", \"cmswire\", \"armada\", \"datadecisionmakers\", \"monthsthis\", \"e96\", \"lifewire\", \"gaudi\", \"yearhttpsto\", \"ofkorea\", \"cisos\", \"itwc\", \"cio\", \"gray\", \"zdnet\", \"ddn\", \"serviceprivacy\", \"20022023\", \"bureauinvestigate\", \"policyeeo\", \"lifestylegray\", \"sql\", \"captioningaudio\", \"endorsed\", \"ssd\", \"usmeet\", \"credo\", \"courtesy\", \"newscastspress\", \"cdtupdated\", \"forbes\", \"20022022\", \"descriptiona\", \"edtupdated\", \"teamcontact\", \"prnewswire\", \"statementfcc\", \"necessarily\", \"effectdismiss\", \"webinars\", \"republic\", \"ml\", \"reflect\", \"patient\", \"customer\", \"capability\", \"data\", \"experience\", \"model\", \"improve\", \"enterprise\", \"ai\", \"solution\", \"platform\", \"group\", \"original\", \"innovation\", \"process\", \"computing\", \"inspection\", \"learning\", \"digital\", \"cloud\", \"organization\", \"medium\", \"technology\", \"machine\", \"generative\", \"2022\", \"system\", \"press\", \"company\", \"help\", \"business\", \"new\", \"science\", \"use\", \"content\", \"team\", \"health\", \"security\", \"release\", \"service\", \"news\", \"product\", \"intelligence\", \"u\", \"artificial\", \"digi\", \"nv\", \"newswires\", \"buyback\", \"presswire\", \"swot\", \"btc\", \"20202026\", \"segmented\", \"lisk\", \"20202027\", \"20202025\", \"toc\", \"20212027\", \"epr\", \"xx\", \"20192025\", \"renalytix\", \"newsplugin\", \"fsa\", \"242017\", \"20152020\", \"52018\", \"20212026\", \"factmr\", \"cryptos\", \"inforgrowth\", \"kyrgyzstan\", \"zacks\", \"enduse\", \"market\", \"2027\", \"2026\", \"cagr\", \"ein\", \"symbol\", \"2028\", \"traded\", \"mlaas\", \"2025\", \"segmentation\", \"growth\", \"segment\", \"size\", \"chapter\", \"nasdaq\", \"analysis\", \"etf\", \"corporation\", \"player\", \"trading\", \"usd\", \"global\", \"trend\", \"forecast\", \"report\", \"revenue\", \"key\", \"region\", \"outlook\", \"stock\", \"artificial\", \"intelligence\", \"industry\", \"2020\", \"research\", \"opportunity\", \"share\", \"u\", \"inc\", \"america\", \"application\", \"company\", \"2021\", \"service\", \"ai\", \"data\", \"business\", \"technology\", \"learning\", \"news\", \"machine\", \"cision\", \"overviewview\", \"wfmztv\", \"lehigh\", \"berk\", \"8887760942\", \"chainlogistics\", \"profnet\", \"technologyall\", \"mediaall\", \"allentown\", \"wdpntv\", \"wfmzcom\", \"shipbuilding\", \"intermodal\", \"airconditioning\", \"metallurgy\", \"metalworking\", \"computinginternet\", \"fitnesswellness\", \"recapitalization\", \"\\u0440\\u043e\\u0441\\u0441\\u0438\\u044f\", \"inlanguage\", \"\\u010desko\", \"englishonly\", \"nonus\", \"wlrn\", \"interestall\", \"investingall\", \"resourcesall\", \"npr\", \"trucking\", \"camping\", \"aboriginal\", \"railroad\", \"freddy\", \"ir\", \"gdpr\", \"peripheral\", \"hiking\", \"inquiry\", \"newswire\", \"journalist\", \"electronic\", \"telecommunication\", \"environmental\", \"radio\", \"send\", \"transportation\", \"resource\", \"heavy\", \"overview\", \"entertainment\", \"general\", \"culture\", \"consumer\", \"mining\", \"blog\", \"public\", \"schedule\", \"product\", \"policy\", \"service\", \"release\", \"estate\", \"business\", \"news\", \"health\", \"medium\", \"financial\", \"technology\", \"log\", \"contact\", \"energy\", \"sign\", \"people\", \"computer\", \"industry\", \"u\", \"ai\"], \"Freq\": [750603.0, 647344.0, 315665.0, 379661.0, 290187.0, 251094.0, 216775.0, 469666.0, 431585.0, 186952.0, 142989.0, 159166.0, 240597.0, 459709.0, 254084.0, 162982.0, 169240.0, 185310.0, 97032.0, 463677.0, 515083.0, 163167.0, 74667.0, 85278.0, 129467.0, 110936.0, 169923.0, 70697.0, 219470.0, 131037.0, 16910.8254833902, 13579.639899717855, 12456.49035770675, 9725.505638971954, 9148.3962684385, 8961.63982920171, 8591.451583702437, 5859.258068259554, 5988.470833488224, 6101.297360357603, 4943.021989479996, 4965.489931023459, 4585.527288154491, 7284.552565304204, 4562.211833365671, 4065.107005950601, 4643.453168240229, 4461.568162055941, 4671.363936501963, 3867.156967748272, 3721.9728802414866, 3559.088555223446, 3432.031703382478, 3420.574361595454, 3462.91878728333, 3721.0066090552814, 5692.807763484189, 9039.706525622782, 3163.9938521496506, 3196.092384921039, 23758.210324556854, 18433.838611246174, 19380.786731204837, 14009.152304283818, 13437.608938680234, 12251.766991290051, 9043.881029320182, 10573.370148511332, 8174.675452594171, 7103.645028325356, 7048.817758036185, 28623.440853141215, 8439.839243784589, 9652.10439098638, 6198.841537816615, 5765.248339293175, 6464.177424881613, 157058.0616187761, 23932.75090354572, 23400.41592887442, 32421.37520218735, 35028.31415751688, 23711.51340560266, 21458.495510038683, 18007.321382141203, 147032.01057341308, 26799.88467637192, 41121.63499196164, 20866.542280953377, 23801.594987294837, 112332.14492874635, 16546.748409546773, 17068.010311301685, 11869.116529119658, 112546.38307529729, 54686.33084032395, 48062.97828695396, 33407.94427168174, 147528.55196364972, 114030.2550003364, 76988.15035778642, 79460.61642569338, 102961.20865591678, 50330.44752102709, 97584.60348719372, 176523.91557653298, 58573.50986646671, 163495.32430973856, 114025.27600736229, 63977.41934230445, 64175.74451415119, 364664.5384349053, 105391.77762953588, 93178.70392029325, 68806.36357360777, 38835.44974215864, 44134.307652693584, 59165.911016321465, 68941.54134687278, 62062.30816025925, 224629.53120578325, 95390.21606287321, 84581.01091429016, 229545.985010571, 82776.13539108472, 369125.45210220537, 101629.36575498499, 92898.35266817125, 104315.98510024448, 99209.39600125774, 91712.34333986195, 96037.98493478764, 95695.95263523443, 98961.37991373468, 115412.96284085601, 110800.93485080941, 112303.60058834362, 100869.27721391397, 15232.892383059585, 14717.176006565816, 4926.910814006473, 3904.705627192854, 3290.342404760084, 2726.6620494634653, 2911.973218960171, 2381.8911776668933, 2048.326521726967, 1967.922758084164, 2087.768315463738, 1834.0868596551502, 1628.9642605054567, 1554.3911470838275, 1424.8065375039594, 1393.553845647136, 1334.326886447562, 1299.035681992036, 1339.795647596595, 1252.4180757773108, 1281.3163100687982, 1070.9169083213812, 1110.819475201176, 958.4541300797478, 974.7772637634484, 922.5658086551895, 937.9638255753758, 1030.0981206134575, 902.5805754210662, 913.1250426148589, 10730.637940610577, 100137.23827452528, 6855.599471212659, 3659.1088216691446, 21175.94365557639, 10390.100081659843, 10513.93247048969, 13083.463011028438, 11913.202347979632, 2462.830391896703, 18283.26723338133, 23882.40721142275, 2045.9608080801227, 14335.453960874116, 1586.8677259966666, 24985.85564770003, 11373.540776157326, 8841.341695622288, 12882.2071784596, 10615.438603198007, 6462.148346523294, 6574.5222864442085, 4363.042615285118, 49755.730087555996, 8032.898937231171, 26706.009539628834, 5841.411035095467, 9904.366033243236, 46047.092812787516, 25753.668551106173, 27092.26984373157, 54521.46494941546, 114263.09479920114, 42122.95071659234, 309172.4610390703, 73490.58338405291, 115894.0250009102, 41428.82472199705, 51335.853484199186, 655268.6340391843, 109674.71898783577, 108856.82935123103, 105121.34014937597, 32467.295187290838, 52010.800084169816, 54393.832120162464, 31898.786094060397, 27919.826638854713, 122234.51907089203, 88173.76554033185, 71728.9528893302, 45816.688328371914, 125040.67519895943, 198397.6534947708, 100210.26869961464, 47170.65986081313, 82712.998387766, 98630.98963011768, 71774.48458626223, 153774.40609536623, 90430.67524059, 142316.46843039282, 152128.97515587957, 76379.94833968817, 90436.42286208092, 78838.90010375684, 65466.012978872626, 80286.54934576723, 65629.40964697135, 76140.17492239756, 92132.26555448247, 108507.99055578408, 78545.11298746878, 96012.91705652574, 82455.0990482534, 75668.14957092643, 40411.48797650671, 29543.056743687328, 17105.946442765435, 12358.261260913305, 10298.725010004386, 10200.847937200333, 8213.306095449443, 6653.993300103147, 6458.905405289072, 4863.604955332985, 3995.740828694113, 4262.828469413724, 3747.0197449605453, 3454.1679725658564, 3365.290903110177, 4471.253458010669, 3068.6534105628957, 2865.3289481753964, 2820.330616722218, 2607.4098396728014, 2581.018780606375, 2552.0191755348196, 2457.853951062605, 3886.591702510947, 2203.6760430031363, 2613.9195481055426, 2155.1443633781564, 2074.7503349662907, 2798.3819786331924, 2069.757807673498, 734143.9655356, 23492.281631928618, 27262.76003364122, 20762.206089044674, 13192.831947789073, 27996.674044906136, 10103.157369677578, 11162.761284273503, 3910.041932819572, 23240.56241962191, 17321.728559122945, 147845.711580456, 37702.74369428967, 65629.17265969428, 20803.372074024937, 29061.965247055832, 161718.5766131536, 20051.456932537483, 39958.374519121346, 79233.10606496787, 26085.87126172844, 15938.7435866964, 196829.96199986423, 83704.10055028372, 103888.76270059576, 234039.93177634815, 51641.79787838347, 93129.09775254628, 45438.313141119375, 22104.675597923913, 84031.63977706662, 234623.0326736428, 248760.85205246444, 144114.37457024836, 99049.62926051537, 120152.176029205, 59225.85762525252, 105603.04734062751, 172116.3853626615, 77509.25797340358, 38849.70623323481, 66266.93533377003, 112007.75554705004, 67714.40506896791, 86608.99895329044, 160804.6018645285, 95198.5873184372, 87607.84933426675, 90906.0177169299, 66240.22687866766, 85770.88466607004, 64342.960334219286, 34675.47103864943, 22076.781883516167, 9803.246728854388, 9050.640302738942, 8744.149041255107, 7846.36212450423, 5879.410637932426, 5030.140069138617, 4796.02389756999, 4797.56186026197, 4020.174711445054, 3841.5252042062634, 3572.548279328812, 3457.395115728528, 3351.0760735807235, 3335.2424289180494, 3326.894797736789, 3320.867258979207, 3123.4446460000013, 2928.3516879068075, 2899.4296221430495, 2677.812784152166, 2669.6834958608556, 2664.8903116161628, 2669.307173124437, 3121.434935166233, 2531.494758934976, 2404.4008689315992, 2398.2771078967858, 2398.4884781579503, 16094.253636138024, 6987.991677492256, 6895.039762378966, 3403.5672183811034, 6859.494496141431, 3940.819422462282, 9734.140407313533, 21016.868996002948, 10495.208815722312, 6729.50397692285, 19364.913784288816, 13783.65833130095, 26090.438980009047, 18065.510621375513, 19705.40119311215, 17376.997395922557, 24570.97805890116, 32769.133610194425, 25086.89999543956, 44003.267359048456, 14679.11917908919, 37052.75654954442, 50184.25494969713, 38528.54411143125, 27423.223105185054, 42003.16679992554, 15167.721160740632, 26319.195391439716, 53300.01755173788, 22111.63387123452, 61641.041071525586, 48877.981157597176, 67668.06983111663, 49467.12127447986, 21595.068062232327, 69729.30958691284, 88401.5217872466, 44061.78644104235, 49480.40672214861, 29984.190767557793, 54992.71363422412, 24439.382639754265, 32643.460542719447, 26076.99415796807, 28089.937104004955, 30480.778999001475, 26491.671930806267, 29342.648357087244, 30965.90502559467, 32651.327261732513], \"Total\": [750603.0, 647344.0, 315665.0, 379661.0, 290187.0, 251094.0, 216775.0, 469666.0, 431585.0, 186952.0, 142989.0, 159166.0, 240597.0, 459709.0, 254084.0, 162982.0, 169240.0, 185310.0, 97032.0, 463677.0, 515083.0, 163167.0, 74667.0, 85278.0, 129467.0, 110936.0, 169923.0, 70697.0, 219470.0, 131037.0, 16911.57436152533, 13580.388723915625, 12457.257151528745, 9726.282642609533, 9149.160766112986, 8962.391096061532, 8592.250408159975, 5860.006659402313, 5989.256356496144, 6102.129530440748, 4943.778963782272, 4966.28225370999, 4586.282736214154, 7285.763764801277, 4562.9851763151055, 4065.8618191623955, 4644.321849442053, 4462.415498379474, 4672.26353437457, 3867.9119780023752, 3722.736791413535, 3559.8373284243467, 3432.785341155741, 3421.326162518095, 3463.7035674829744, 3721.8563638954543, 5694.114079112271, 9041.808088176269, 3164.743825706949, 3196.8500087678167, 23777.291810557614, 18448.889523121896, 19469.18349411761, 14028.405693254837, 13450.418576708473, 12282.02434769145, 9047.069720279056, 10600.196809072686, 8183.092914565934, 7107.558464975475, 7052.217844970196, 29051.19951792179, 8463.61509757743, 9698.411436238146, 6205.138454747192, 5767.47704275627, 6475.284464647077, 165066.88783166706, 24461.712281237804, 23917.959766046326, 33465.30221049309, 36428.415743779726, 24399.197321884498, 22029.501687695996, 18537.35049543205, 164508.89371022227, 28121.870503706992, 44183.48991021479, 21731.07239667871, 24997.92073697946, 128669.6866650898, 17167.275423179348, 17758.010994591725, 12078.872758231933, 132245.8218782112, 61407.85065085061, 53913.66803984268, 36577.75525264588, 191841.2604321385, 144158.27152773348, 93696.87580633174, 97407.65187355818, 130725.21701233088, 58856.070396938405, 125006.55959684002, 248833.23637701033, 71633.11404724038, 237341.5304261104, 158412.76509271195, 80298.85441373708, 80695.9351252752, 647344.935444006, 151882.73984857762, 131037.81520058977, 91803.55348241735, 44873.66713022521, 52827.09329808698, 77100.17069669007, 94053.88934621817, 82259.13528429405, 455979.1864256524, 145679.9839763085, 126115.04893114133, 515083.3744470806, 124094.21338282854, 1217850.0152676506, 186126.47787093502, 163167.05563987067, 202950.34616236194, 186345.1577493898, 161522.73012711553, 178411.60059083137, 177346.95354375296, 207342.1556420739, 459709.34768678085, 431585.6915269138, 469666.8996072952, 386113.6411324006, 15233.655550497198, 14717.947857232602, 4927.676891611925, 3905.489762179127, 3291.1131818222875, 2727.4243174834487, 2912.788690711272, 2382.651295508763, 2049.0884803354866, 1968.7024235130557, 2088.603474933779, 1834.8627487210802, 1629.7679579742573, 1555.161649870938, 1425.5711054931783, 1394.3153333160928, 1335.0948996577793, 1299.8018791210234, 1340.5881019384565, 1253.1742270161446, 1282.2222099674907, 1071.674713437896, 1111.6326846406284, 959.2232340352269, 975.5754438187641, 923.3331952386986, 938.7492626925367, 1030.9677942673832, 903.3448015922223, 913.9050892418081, 10742.491869380297, 103021.63849122249, 6876.143201256728, 3666.646392966044, 21661.612131634076, 10554.64686236263, 10683.76708192007, 13328.929032317783, 12135.816687532832, 2469.462719891761, 18711.27651750976, 24513.202697396013, 2051.1945928411556, 14674.428034836064, 1588.6837525247483, 25734.370346740812, 11639.164116634254, 9026.580076041262, 13275.781091724557, 10932.322059276634, 6591.704079764314, 6712.899206460734, 4423.955698489166, 54234.34462938406, 8276.142375611671, 28683.415583411166, 5988.09721632914, 10395.89362686034, 51935.9414713951, 28372.005897295203, 30076.416657145997, 63736.42044393389, 141827.7335248945, 50917.921450376874, 463677.846808877, 95347.41989875874, 162136.35878025246, 52392.61370175891, 66919.95938965102, 1217850.0152676506, 161178.23900486605, 162821.17717832193, 158949.25597378294, 39972.05115460257, 69673.66373652943, 74802.64376117827, 39331.494028922956, 33513.25449574919, 203113.25134731585, 137533.60331265326, 107472.82880201747, 61877.4051183615, 240597.4573483376, 459709.34768678085, 185664.2623168226, 66335.86029960352, 147725.75174131675, 196251.14529553353, 123721.44647278581, 386113.6411324006, 176377.02588382066, 379661.53694815905, 455979.1864256524, 145528.7803113931, 207342.1556420739, 162371.20320372534, 116096.57197103152, 185310.46301768336, 117607.01670846142, 169240.95081716205, 290187.9410361285, 647344.935444006, 216775.6815654572, 469666.8996072952, 515083.3744470806, 431585.6915269138, 40412.24956171236, 29543.83882059232, 17106.71149767392, 12359.068100396042, 10299.488882194568, 10201.61422409018, 8214.088795307967, 6654.753107298861, 6459.792525446028, 4864.366088660819, 3996.502011764802, 4263.642846610967, 3747.7817638009506, 3454.9283819672046, 3366.052470036724, 4472.3313242462455, 3069.412900481896, 2866.0904325245983, 2821.093955932206, 2608.170905738411, 2581.7778859176246, 2552.7803225068706, 2458.6130547761386, 3887.8451929811354, 2204.436208952252, 2614.8363511015873, 2155.9033893940255, 2075.525018904778, 2799.430609191948, 2070.5371550119485, 750603.0367582476, 23503.952850651327, 27343.94895360003, 20790.4186745182, 13235.832997049516, 28464.230319987448, 10184.780844771733, 11285.454022134303, 3911.5498242696844, 24002.549506149186, 17837.440285384986, 159166.9734792346, 39576.851935080915, 71266.85798326362, 21894.320869907013, 30916.189880448997, 186952.3723654775, 21280.89867226094, 44023.78962644846, 91527.27369243896, 28890.125163693243, 17155.207689180563, 251094.86476643206, 101123.8065398452, 129467.90894380271, 315665.8993153586, 61044.9931787897, 118445.86085603938, 53892.175483503896, 24743.68740405231, 116330.8256335688, 431585.6915269138, 469666.8996072952, 254084.0863748814, 168342.5887357054, 219470.64923410973, 89154.26263885014, 216830.9583882818, 515083.3744470806, 158237.69947518443, 55161.2784946617, 144591.97310630392, 386113.6411324006, 155557.7987505395, 290187.9410361285, 1217850.0152676506, 463677.846808877, 379661.53694815905, 459709.34768678085, 203113.25134731585, 647344.935444006, 185664.2623168226, 34676.246633206254, 22077.552900622246, 9804.018778651558, 9051.426012701011, 8744.935224160328, 7847.130916065104, 5880.180795125391, 5030.908620143041, 4796.793126157248, 4798.331841324726, 4020.9490373310086, 3842.296455718362, 3573.31950434244, 3458.176344282145, 3351.847592899542, 3336.0232376949443, 3327.679983817812, 3321.66085648766, 3124.2132172113998, 2929.120236335479, 2900.2007314770635, 2678.5826011305426, 2670.4530747159206, 2665.6587541550484, 2670.0771622078623, 3122.353834741667, 2532.2661605468184, 2405.1696879217807, 2399.0457129986858, 2399.25717819821, 16158.171734583528, 7058.839976463916, 7095.022726759311, 3434.3106741951947, 7091.84603861471, 3998.856760699848, 10421.239236579853, 23513.50703679661, 11288.110304854477, 7099.432957611278, 23857.82304228781, 16699.74318765445, 36079.13660037685, 24331.760023484352, 27089.246015350895, 23448.640157082813, 35425.718844839845, 50567.83822559248, 37184.20303805519, 74667.27712387056, 20005.8522499909, 62862.16787431219, 97032.49921637987, 70697.96588512276, 46032.93151590484, 85278.80476971965, 21391.918571530696, 49993.158996822225, 142989.25063882722, 41712.86425172313, 216775.6815654572, 162982.59369298906, 290187.9410361285, 169240.95081716205, 41643.566967548075, 379661.53694815905, 647344.935444006, 185310.46301768336, 240597.4573483376, 94499.62560469001, 459709.34768678085, 58639.536479190814, 169923.13736993028, 79194.55333114152, 110936.40642649886, 163167.05563987067, 106933.01136613684, 254084.0863748814, 515083.3744470806, 1217850.0152676506], \"Category\": [\"Default\", \"Default\", \"Default\", \"Default\", \"Default\", \"Default\", \"Default\", \"Default\", \"Default\", \"Default\", \"Default\", \"Default\", \"Default\", \"Default\", \"Default\", \"Default\", \"Default\", \"Default\", \"Default\", \"Default\", \"Default\", \"Default\", \"Default\", \"Default\", \"Default\", \"Default\", \"Default\", \"Default\", \"Default\", \"Default\", \"Topic1\", \"Topic1\", \"Topic1\", \"Topic1\", \"Topic1\", \"Topic1\", \"Topic1\", \"Topic1\", \"Topic1\", \"Topic1\", \"Topic1\", \"Topic1\", \"Topic1\", \"Topic1\", \"Topic1\", \"Topic1\", \"Topic1\", \"Topic1\", \"Topic1\", \"Topic1\", \"Topic1\", \"Topic1\", \"Topic1\", \"Topic1\", \"Topic1\", \"Topic1\", \"Topic1\", \"Topic1\", \"Topic1\", \"Topic1\", \"Topic1\", \"Topic1\", \"Topic1\", \"Topic1\", \"Topic1\", \"Topic1\", \"Topic1\", \"Topic1\", \"Topic1\", \"Topic1\", \"Topic1\", \"Topic1\", \"Topic1\", \"Topic1\", \"Topic1\", \"Topic1\", \"Topic1\", \"Topic1\", \"Topic1\", \"Topic1\", \"Topic1\", \"Topic1\", \"Topic1\", \"Topic1\", \"Topic1\", \"Topic1\", \"Topic1\", \"Topic1\", \"Topic1\", \"Topic1\", \"Topic1\", \"Topic1\", \"Topic1\", \"Topic1\", \"Topic1\", \"Topic1\", \"Topic1\", \"Topic1\", \"Topic1\", \"Topic1\", \"Topic1\", \"Topic1\", \"Topic1\", \"Topic1\", \"Topic1\", \"Topic1\", \"Topic1\", \"Topic1\", \"Topic1\", \"Topic1\", \"Topic1\", \"Topic1\", \"Topic1\", \"Topic1\", \"Topic1\", \"Topic1\", \"Topic1\", \"Topic1\", \"Topic1\", \"Topic1\", \"Topic1\", \"Topic1\", \"Topic1\", \"Topic1\", \"Topic1\", \"Topic1\", \"Topic1\", \"Topic1\", \"Topic1\", \"Topic1\", \"Topic1\", \"Topic1\", \"Topic1\", \"Topic1\", \"Topic1\", \"Topic1\", \"Topic1\", \"Topic1\", \"Topic2\", \"Topic2\", \"Topic2\", \"Topic2\", \"Topic2\", \"Topic2\", \"Topic2\", \"Topic2\", \"Topic2\", \"Topic2\", \"Topic2\", \"Topic2\", \"Topic2\", \"Topic2\", \"Topic2\", \"Topic2\", \"Topic2\", \"Topic2\", \"Topic2\", \"Topic2\", \"Topic2\", \"Topic2\", \"Topic2\", \"Topic2\", \"Topic2\", \"Topic2\", \"Topic2\", \"Topic2\", \"Topic2\", \"Topic2\", \"Topic2\", \"Topic2\", \"Topic2\", \"Topic2\", \"Topic2\", \"Topic2\", \"Topic2\", \"Topic2\", \"Topic2\", \"Topic2\", \"Topic2\", \"Topic2\", \"Topic2\", \"Topic2\", \"Topic2\", \"Topic2\", \"Topic2\", \"Topic2\", \"Topic2\", \"Topic2\", \"Topic2\", \"Topic2\", \"Topic2\", \"Topic2\", \"Topic2\", \"Topic2\", \"Topic2\", \"Topic2\", \"Topic2\", \"Topic2\", \"Topic2\", \"Topic2\", \"Topic2\", \"Topic2\", \"Topic2\", \"Topic2\", \"Topic2\", \"Topic2\", \"Topic2\", \"Topic2\", \"Topic2\", \"Topic2\", \"Topic2\", \"Topic2\", \"Topic2\", \"Topic2\", \"Topic2\", \"Topic2\", \"Topic2\", \"Topic2\", \"Topic2\", \"Topic2\", \"Topic2\", \"Topic2\", \"Topic2\", \"Topic2\", \"Topic2\", \"Topic2\", \"Topic2\", \"Topic2\", \"Topic2\", \"Topic2\", \"Topic2\", \"Topic2\", \"Topic2\", \"Topic2\", \"Topic2\", \"Topic2\", \"Topic2\", \"Topic2\", \"Topic2\", \"Topic2\", \"Topic2\", \"Topic2\", \"Topic2\", \"Topic2\", \"Topic3\", \"Topic3\", \"Topic3\", \"Topic3\", \"Topic3\", \"Topic3\", \"Topic3\", \"Topic3\", \"Topic3\", \"Topic3\", \"Topic3\", \"Topic3\", \"Topic3\", \"Topic3\", \"Topic3\", \"Topic3\", \"Topic3\", \"Topic3\", \"Topic3\", \"Topic3\", \"Topic3\", \"Topic3\", \"Topic3\", \"Topic3\", \"Topic3\", \"Topic3\", \"Topic3\", \"Topic3\", \"Topic3\", \"Topic3\", \"Topic3\", \"Topic3\", \"Topic3\", \"Topic3\", \"Topic3\", \"Topic3\", \"Topic3\", \"Topic3\", \"Topic3\", \"Topic3\", \"Topic3\", \"Topic3\", \"Topic3\", \"Topic3\", \"Topic3\", \"Topic3\", \"Topic3\", \"Topic3\", \"Topic3\", \"Topic3\", \"Topic3\", \"Topic3\", \"Topic3\", \"Topic3\", \"Topic3\", \"Topic3\", \"Topic3\", \"Topic3\", \"Topic3\", \"Topic3\", \"Topic3\", \"Topic3\", \"Topic3\", \"Topic3\", \"Topic3\", \"Topic3\", \"Topic3\", \"Topic3\", \"Topic3\", \"Topic3\", \"Topic3\", \"Topic3\", \"Topic3\", \"Topic3\", \"Topic3\", \"Topic3\", \"Topic3\", \"Topic3\", \"Topic3\", \"Topic3\", \"Topic3\", \"Topic3\", \"Topic4\", \"Topic4\", \"Topic4\", \"Topic4\", \"Topic4\", \"Topic4\", \"Topic4\", \"Topic4\", \"Topic4\", \"Topic4\", \"Topic4\", \"Topic4\", \"Topic4\", \"Topic4\", \"Topic4\", \"Topic4\", \"Topic4\", \"Topic4\", \"Topic4\", \"Topic4\", \"Topic4\", \"Topic4\", \"Topic4\", \"Topic4\", \"Topic4\", \"Topic4\", \"Topic4\", \"Topic4\", \"Topic4\", \"Topic4\", \"Topic4\", \"Topic4\", \"Topic4\", \"Topic4\", \"Topic4\", \"Topic4\", \"Topic4\", \"Topic4\", \"Topic4\", \"Topic4\", \"Topic4\", \"Topic4\", \"Topic4\", \"Topic4\", \"Topic4\", \"Topic4\", \"Topic4\", \"Topic4\", \"Topic4\", \"Topic4\", \"Topic4\", \"Topic4\", \"Topic4\", \"Topic4\", \"Topic4\", \"Topic4\", \"Topic4\", \"Topic4\", \"Topic4\", \"Topic4\", \"Topic4\", \"Topic4\", \"Topic4\", \"Topic4\", \"Topic4\", \"Topic4\", \"Topic4\", \"Topic4\", \"Topic4\", \"Topic4\", \"Topic4\", \"Topic4\", \"Topic4\", \"Topic4\", \"Topic4\", \"Topic4\", \"Topic4\", \"Topic4\", \"Topic4\", \"Topic4\"], \"logprob\": [30.0, 29.0, 28.0, 27.0, 26.0, 25.0, 24.0, 23.0, 22.0, 21.0, 20.0, 19.0, 18.0, 17.0, 16.0, 15.0, 14.0, 13.0, 12.0, 11.0, 10.0, 9.0, 8.0, 7.0, 6.0, 5.0, 4.0, 3.0, 2.0, 1.0, -7.7811, -8.0005, -8.0868, -8.3343, -8.3955, -8.4161, -8.4583, -8.8411, -8.8192, -8.8006, -9.0111, -9.0066, -9.0862, -8.6233, -9.0913, -9.2066, -9.0736, -9.1136, -9.0676, -9.2566, -9.2948, -9.3396, -9.3759, -9.3793, -9.367, -9.2951, -8.8699, -8.4075, -9.4573, -9.4472, -7.4412, -7.6949, -7.6448, -7.9694, -8.011, -8.1034, -8.407, -8.2507, -8.508, -8.6485, -8.6562, -7.2549, -8.4761, -8.3419, -8.7847, -8.8572, -8.7428, -5.5525, -7.4338, -7.4563, -7.1303, -7.0529, -7.4431, -7.543, -7.7183, -5.6184, -7.3207, -6.8926, -7.5709, -7.4393, -5.8876, -7.8029, -7.7719, -8.1351, -5.8857, -6.6075, -6.7366, -7.1003, -5.6151, -5.8726, -6.2654, -6.2338, -5.9747, -6.6905, -6.0284, -5.4356, -6.5388, -5.5123, -5.8727, -6.4506, -6.4475, -4.7101, -5.9514, -6.0746, -6.3778, -6.9498, -6.8218, -6.5287, -6.3758, -6.4809, -5.1946, -6.0511, -6.1714, -5.173, -6.1929, -4.6979, -5.9878, -6.0776, -5.9617, -6.0119, -6.0904, -6.0443, -6.0479, -6.0144, -5.8606, -5.9014, -5.8879, -5.9953, -7.6889, -7.7234, -8.8177, -9.0502, -9.2214, -9.4093, -9.3436, -9.5445, -9.6954, -9.7354, -9.6763, -9.8058, -9.9244, -9.9713, -10.0584, -10.0805, -10.124, -10.1508, -10.1199, -10.1873, -10.1645, -10.3439, -10.3073, -10.4548, -10.4379, -10.493, -10.4764, -10.3827, -10.5149, -10.5033, -8.0393, -5.8058, -8.4873, -9.1152, -7.3595, -8.0715, -8.0597, -7.841, -7.9347, -9.5111, -7.5064, -7.2392, -9.6965, -7.7497, -9.9506, -7.1941, -7.9811, -8.233, -7.8565, -8.0501, -8.5464, -8.5292, -8.9392, -6.5053, -8.3288, -7.1275, -8.6474, -8.1194, -6.5827, -7.1638, -7.1131, -6.4138, -5.6739, -6.6718, -4.6785, -6.1152, -5.6597, -6.6884, -6.474, -3.9273, -5.7149, -5.7224, -5.7573, -6.9322, -6.4609, -6.4161, -6.9498, -7.0831, -5.6064, -5.9331, -6.1395, -6.5877, -5.5838, -5.1221, -5.8051, -6.5586, -5.997, -5.821, -6.1389, -5.3769, -5.9078, -5.4543, -5.3877, -6.0767, -5.9077, -6.045, -6.2309, -6.0268, -6.2284, -6.0798, -5.8892, -5.7256, -6.0487, -5.8479, -6.0001, -6.086, -6.1689, -6.4821, -7.0285, -7.3536, -7.5359, -7.5455, -7.7622, -7.9727, -8.0025, -8.2862, -8.4827, -8.418, -8.547, -8.6284, -8.6545, -8.3703, -8.7467, -8.8153, -8.8311, -8.9096, -8.9198, -8.9311, -8.9687, -8.5104, -9.0778, -8.9071, -9.1001, -9.1381, -8.8389, -9.1405, -3.2693, -6.7113, -6.5624, -6.8348, -7.2883, -6.5359, -7.5551, -7.4554, -8.5044, -6.7221, -7.016, -4.8718, -6.2382, -5.6839, -6.8329, -6.4985, -4.7821, -6.8697, -6.1801, -5.4956, -6.6066, -7.0992, -4.5856, -5.4407, -5.2246, -4.4125, -5.9236, -5.334, -6.0516, -6.7722, -5.4368, -4.41, -4.3515, -4.8974, -5.2723, -5.0792, -5.7866, -5.2083, -4.7198, -5.5176, -6.2083, -5.6743, -5.1494, -5.6527, -5.4066, -4.7878, -5.312, -5.3951, -5.3581, -5.6747, -5.4163, -5.7037, -5.2853, -5.7368, -6.5486, -6.6284, -6.6629, -6.7712, -7.0598, -7.2158, -7.2635, -7.2632, -7.44, -7.4854, -7.558, -7.5908, -7.622, -7.6267, -7.6292, -7.6311, -7.6923, -7.7568, -7.7668, -7.8463, -7.8493, -7.8511, -7.8495, -7.693, -7.9025, -7.954, -7.9565, -7.9564, -6.0528, -6.8871, -6.9005, -7.6065, -6.9057, -7.4599, -6.5556, -5.786, -6.4804, -6.9248, -5.8678, -6.2078, -5.5697, -5.9373, -5.8504, -5.9761, -5.6297, -5.3418, -5.6089, -5.047, -6.1449, -5.2189, -4.9156, -5.1799, -5.5199, -5.0935, -6.1121, -5.561, -4.8553, -5.7352, -4.71, -4.942, -4.6167, -4.93, -5.7588, -4.5867, -4.3494, -5.0457, -4.9297, -5.4306, -4.8241, -5.6351, -5.3456, -5.5702, -5.4959, -5.4142, -5.5545, -5.4522, -5.3984, -5.3454], \"loglift\": [30.0, 29.0, 28.0, 27.0, 26.0, 25.0, 24.0, 23.0, 22.0, 21.0, 20.0, 19.0, 18.0, 17.0, 16.0, 15.0, 14.0, 13.0, 12.0, 11.0, 10.0, 9.0, 8.0, 7.0, 6.0, 5.0, 4.0, 3.0, 2.0, 1.0, 0.903, 0.903, 0.903, 0.9029, 0.9029, 0.9029, 0.9029, 0.9029, 0.9029, 0.9029, 0.9029, 0.9029, 0.9029, 0.9028, 0.9028, 0.9028, 0.9028, 0.9028, 0.9028, 0.9028, 0.9028, 0.9028, 0.9028, 0.9028, 0.9028, 0.9028, 0.9028, 0.9028, 0.9028, 0.9028, 0.9022, 0.9022, 0.8985, 0.9016, 0.9021, 0.9005, 0.9027, 0.9005, 0.902, 0.9025, 0.9025, 0.8882, 0.9002, 0.8982, 0.902, 0.9026, 0.9013, 0.8533, 0.8812, 0.8811, 0.8713, 0.8638, 0.8744, 0.8768, 0.874, 0.7907, 0.8549, 0.8312, 0.8624, 0.854, 0.7672, 0.8662, 0.8634, 0.8855, 0.7417, 0.7871, 0.7881, 0.8124, 0.6404, 0.6686, 0.7066, 0.6994, 0.6643, 0.7465, 0.6554, 0.5597, 0.7017, 0.5303, 0.5742, 0.6758, 0.674, 0.3291, 0.5376, 0.562, 0.6147, 0.7585, 0.7232, 0.6383, 0.5924, 0.6213, 0.195, 0.4796, 0.5035, 0.0948, 0.4981, -0.2907, 0.2979, 0.3397, 0.2375, 0.2726, 0.337, 0.2837, 0.2861, 0.1634, -0.4791, -0.4567, -0.5278, -0.4393, 1.0997, 1.0997, 1.0996, 1.0995, 1.0995, 1.0994, 1.0994, 1.0994, 1.0993, 1.0993, 1.0993, 1.0993, 1.0992, 1.0992, 1.0992, 1.0992, 1.0991, 1.0991, 1.0991, 1.0991, 1.099, 1.099, 1.099, 1.0989, 1.0989, 1.0989, 1.0989, 1.0989, 1.0989, 1.0989, 1.0986, 1.0713, 1.0967, 1.0977, 1.077, 1.084, 1.0837, 1.0811, 1.0812, 1.097, 1.0766, 1.0736, 1.0972, 1.0763, 1.0986, 1.0702, 1.0766, 1.079, 1.0696, 1.0703, 1.0799, 1.0789, 1.0858, 1.0135, 1.0699, 1.0283, 1.0749, 1.0513, 0.9794, 1.0029, 0.9952, 0.9435, 0.8836, 0.9101, 0.6944, 0.8393, 0.7639, 0.8649, 0.8346, 0.4799, 0.7147, 0.6971, 0.6862, 0.8918, 0.8073, 0.7811, 0.8903, 0.9171, 0.5919, 0.6552, 0.6954, 0.7992, 0.4452, 0.2594, 0.483, 0.7588, 0.5197, 0.4117, 0.5552, 0.1791, 0.4317, 0.1185, 0.002, 0.4551, 0.27, 0.3772, 0.5268, 0.2633, 0.5164, 0.301, -0.0476, -0.6863, 0.0845, -0.4878, -0.7324, -0.6414, 1.6441, 1.6441, 1.6441, 1.6441, 1.6441, 1.6441, 1.644, 1.644, 1.644, 1.644, 1.6439, 1.6439, 1.6439, 1.6439, 1.6439, 1.6439, 1.6439, 1.6439, 1.6439, 1.6438, 1.6438, 1.6438, 1.6438, 1.6438, 1.6438, 1.6438, 1.6438, 1.6438, 1.6438, 1.6438, 1.622, 1.6436, 1.6412, 1.6428, 1.6409, 1.6276, 1.6361, 1.6332, 1.6438, 1.6119, 1.6148, 1.5704, 1.5956, 1.5617, 1.593, 1.5823, 1.4991, 1.5846, 1.5472, 1.4999, 1.542, 1.5706, 1.4006, 1.4551, 1.424, 1.3449, 1.4769, 1.4037, 1.4735, 1.5314, 1.3189, 1.0346, 1.0086, 1.0771, 1.1138, 1.0417, 1.2351, 0.9247, 0.548, 0.9304, 1.2936, 0.8639, 0.4066, 0.8124, 0.435, -0.3805, 0.0609, 0.1777, 0.0234, 0.5237, -0.3771, 0.5844, 2.6808, 2.6808, 2.6807, 2.6807, 2.6807, 2.6807, 2.6807, 2.6807, 2.6807, 2.6807, 2.6806, 2.6806, 2.6806, 2.6806, 2.6806, 2.6806, 2.6806, 2.6806, 2.6806, 2.6806, 2.6806, 2.6805, 2.6805, 2.6805, 2.6805, 2.6805, 2.6805, 2.6805, 2.6805, 2.6805, 2.6769, 2.6707, 2.6522, 2.6718, 2.6475, 2.6662, 2.6126, 2.5686, 2.608, 2.6273, 2.4722, 2.4889, 2.3567, 2.383, 2.3626, 2.3812, 2.3149, 2.247, 2.2873, 2.152, 2.3712, 2.1522, 2.0215, 2.0738, 2.1628, 1.9726, 2.337, 2.0392, 1.694, 2.0461, 1.4233, 1.4765, 1.2249, 1.4508, 2.0241, 0.9862, 0.6898, 1.2444, 1.0993, 1.5329, 0.5574, 1.8056, 1.0311, 1.57, 1.3073, 1.0031, 1.2854, 0.5222, -0.1306, -0.9381]}, \"token.table\": {\"Topic\": [2, 3, 2, 3, 3, 3, 1, 2, 3, 4, 3, 3, 3, 1, 2, 3, 4, 3, 4, 3, 1, 2, 3, 4, 1, 2, 3, 4, 1, 2, 3, 4, 1, 2, 3, 4, 2, 3, 4, 1, 2, 3, 4, 3, 3, 4, 1, 4, 1, 2, 1, 1, 1, 2, 3, 4, 1, 2, 3, 4, 1, 2, 3, 4, 4, 4, 1, 2, 1, 2, 3, 4, 1, 2, 3, 4, 1, 2, 3, 4, 1, 2, 3, 4, 1, 2, 3, 4, 2, 2, 2, 1, 2, 1, 2, 3, 4, 1, 2, 3, 1, 4, 1, 1, 2, 3, 4, 1, 1, 2, 3, 4, 1, 2, 3, 4, 1, 2, 3, 2, 3, 1, 2, 3, 4, 3, 3, 4, 1, 2, 3, 4, 1, 2, 3, 4, 2, 3, 2, 3, 4, 1, 2, 3, 4, 1, 2, 3, 4, 1, 2, 3, 4, 1, 2, 4, 4, 2, 1, 2, 1, 2, 3, 4, 2, 1, 1, 2, 3, 4, 1, 2, 3, 4, 1, 2, 3, 4, 1, 2, 3, 4, 4, 1, 2, 3, 4, 1, 2, 3, 4, 1, 2, 3, 4, 1, 2, 3, 4, 1, 2, 3, 4, 1, 2, 3, 2, 3, 3, 1, 2, 3, 4, 1, 2, 3, 4, 1, 2, 3, 4, 2, 1, 1, 2, 3, 4, 2, 4, 1, 2, 3, 2, 3, 3, 1, 2, 3, 4, 1, 1, 2, 3, 2, 1, 2, 4, 2, 3, 1, 2, 2, 3, 1, 3, 4, 1, 2, 3, 4, 1, 2, 1, 2, 3, 3, 1, 2, 3, 4, 4, 1, 2, 3, 4, 1, 2, 3, 4, 1, 2, 3, 4, 1, 2, 3, 3, 1, 2, 3, 4, 2, 1, 2, 3, 2, 1, 2, 3, 4, 3, 1, 2, 3, 4, 1, 2, 3, 4, 4, 1, 2, 3, 4, 1, 2, 3, 4, 1, 4, 3, 2, 2, 1, 2, 3, 4, 1, 2, 3, 4, 1, 2, 3, 4, 1, 2, 3, 4, 1, 2, 4, 1, 1, 2, 3, 4, 1, 1, 2, 3, 4, 1, 2, 3, 1, 2, 3, 4, 1, 2, 3, 4, 1, 2, 3, 4, 1, 2, 3, 4, 1, 2, 3, 4, 1, 2, 3, 4, 1, 4, 1, 2, 3, 4, 1, 1, 2, 3, 4, 1, 2, 3, 4, 1, 2, 3, 4, 1, 1, 2, 3, 4, 2, 1, 2, 3, 4, 1, 2, 3, 4, 1, 2, 3, 4, 3, 4, 1, 2, 3, 4, 1, 2, 3, 4, 1, 2, 3, 4, 1, 2, 3, 4, 4, 4, 2, 4, 1, 2, 3, 4, 2, 1, 2, 3, 4, 1, 2, 3, 4, 1, 1, 1, 2, 3, 4, 2, 1, 2, 4, 3, 1, 2, 1, 2, 3, 4, 4, 1, 2, 4, 2, 3, 2, 1, 2, 3, 4, 3, 1, 2, 3, 4, 1, 2, 3, 4, 1, 2, 3, 4, 1, 2, 3, 4, 1, 1, 2, 3, 4, 1, 2, 3, 4, 1, 2, 3, 4, 1, 4, 1, 2, 3, 4, 1, 4, 4, 1, 2, 3, 4, 1, 2, 3, 4, 3, 4, 1, 2, 3, 4, 2, 1, 2, 1, 2, 3, 4, 1, 2, 3, 1, 2, 3, 4, 1, 2, 3, 4, 2, 3, 1, 3, 1, 2, 3, 4, 3, 2, 1, 4, 1, 4, 3, 2, 1, 2, 3, 4, 2, 1, 2, 3, 4, 1, 2, 3, 4, 1, 2, 3, 4, 1, 2, 3, 4, 1, 2, 3, 4, 1, 2, 3, 4, 4, 1, 2, 3, 4, 1, 2, 3, 4, 1, 2, 3, 4, 1, 2, 3, 4, 1, 2, 3, 4, 1, 2, 3, 4, 1, 2, 3, 4, 2, 3, 1, 2, 3, 4, 1, 2, 3, 4, 3, 1, 3, 4, 2, 2, 3, 4, 1, 2, 3, 4, 1, 2, 3, 4, 4, 1, 2, 3, 4, 1, 1, 2, 3, 4, 1, 4, 1, 2, 3, 4, 4, 1, 1, 2, 3, 4, 1, 2, 3, 4, 1, 2, 3, 4, 3, 1, 2, 3, 4, 1, 2, 3, 1, 1, 2, 3, 4, 1, 2, 3, 4, 4, 1, 2, 3, 4, 1, 2, 1, 2, 3, 4, 2, 1, 2, 3, 4, 1, 2, 3, 4, 1, 2, 3, 4, 1, 2, 3, 4, 1, 2, 3, 4, 1, 2, 3, 4, 1, 2, 3, 4, 2, 3, 4, 3, 1, 2, 3, 4, 1, 2, 3, 4, 2, 3, 1, 2, 3, 4, 1, 2, 4, 4, 1, 2, 3, 4, 1, 2, 3, 4, 1, 2, 3, 4, 1, 2, 3, 4, 1, 2, 3, 4, 1, 2, 3, 4, 1, 2, 3, 4, 2, 3, 4, 2, 3, 4, 1, 2, 3, 4, 2, 3, 1, 2, 3, 4, 1, 2, 3, 4, 1, 3, 1, 2, 3, 1, 2, 3, 4, 1, 2, 3, 4, 1, 2, 3, 1, 2, 3, 4, 4, 2, 2, 2, 1, 2, 3, 4, 1, 2, 3, 4, 3, 1, 2, 1, 2, 3, 4, 1, 2, 3, 4, 1, 2, 3, 4, 1, 2, 3, 4, 1, 2, 4, 1, 2, 3, 1, 2, 3, 4, 1, 2, 3, 4, 1, 2, 3, 4, 1, 2, 3, 4, 2, 3, 2, 1, 2, 3, 4, 1, 2, 3, 4, 1, 2, 3, 4, 4, 1, 2, 3, 4, 1, 2, 3, 4, 4, 4, 1, 1, 2, 4, 1, 2, 3, 4, 1, 2, 3, 4, 1, 3, 1, 2, 3, 4, 2, 1, 3, 1, 2, 4, 4], \"Freq\": [0.9709739561681345, 0.028905112590591663, 0.9844005332902466, 0.015538179736246433, 0.9996943244587124, 0.9998654790035478, 0.17021242345860693, 0.21984929825514912, 0.588383490736896, 0.021557230569249828, 0.9998492259708202, 0.9998868316695273, 0.9998743872107848, 0.18846371082310215, 0.34084437055468497, 0.43529800848229827, 0.035395203867790034, 0.9997826063181062, 0.00025721188739853516, 0.9997312876376685, 0.2791456432877749, 0.5599091493867577, 0.11108422063565211, 0.04985589792697001, 0.7094068403810265, 0.24014074996583035, 0.03452111191040888, 0.01593436655701644, 0.022455947850952843, 0.008874057314012904, 0.9682721410092672, 0.00037496016819772834, 0.002596552536010068, 0.0001828558123950752, 0.997039602665387, 0.0001828558123950752, 0.0004254603497352951, 0.9994914535981553, 4.2546034973529514e-05, 0.0007854857283558271, 0.0070693715552024436, 0.9919702891973651, 9.818571604447839e-05, 0.9996987014561293, 0.9997506501582477, 0.9998558815856138, 0.008735377444275707, 0.9911741606771503, 0.9998951702490044, 0.0001372539698351413, 0.9997642195562976, 0.9997968742216916, 0.9615570505829958, 0.03417661664884748, 0.003980409167938061, 0.0002745109770991766, 0.951480954558043, 0.011565008737226401, 0.03683355323328262, 0.00012116300405685073, 0.30309561552936903, 0.5380539407851381, 0.1320400689609216, 0.02681036218801064, 0.9996932762088158, 0.9997639767820488, 0.9990767144800997, 0.0008921655435154931, 0.21031057141147844, 0.060676621197674196, 0.7042983966326987, 0.024709362023432904, 0.016587112325794847, 0.09479954587231929, 0.865027803358664, 0.023588895632620215, 0.9783861295088763, 0.02080802824217683, 0.0006132031898480402, 0.00020440106328268004, 0.8216709397987996, 0.11367508156851736, 0.05393989881206335, 0.010715405304177205, 0.12975132434361986, 0.3774690864746244, 0.45830344919133614, 0.034483242000814915, 0.9995613104893247, 0.9990468033091381, 0.9992530359329306, 0.9999709403253105, 0.9991799087405248, 0.2567300125451226, 0.1753255529215832, 0.5436301633863801, 0.024314985890456917, 0.9602379311565511, 0.0031291598849209506, 0.036629577476427595, 0.9999046678093225, 0.9998930553358767, 0.9999660373710305, 0.9954706115875762, 0.0031845197832118944, 0.0010272644461973852, 0.00030817933385921556, 0.9998424355562864, 0.9713901673508986, 0.028429089698113152, 5.3945141742150195e-05, 0.00010789028348430039, 0.24631370065617836, 0.18484529054440021, 0.04238579922774419, 0.526452029200094, 0.9997649649551705, 0.9999569669607518, 0.9998674478283471, 0.9841098106484029, 0.015818390526876554, 0.21073506851162727, 0.3748496651622431, 0.23075289823725928, 0.18366095380770994, 0.9999135775944137, 0.9986330879159719, 0.0013467742251058287, 0.02114158132774767, 0.0067653060248792545, 0.0001409438755183178, 0.9718080216988012, 0.06775610436813037, 0.8272725751590597, 0.06318011239196389, 0.041792750752284474, 0.9771113148208256, 0.022873907058103885, 0.979440710160669, 0.020495026736763237, 0.9997991906768632, 0.039599310028915376, 0.009956919938066381, 0.9501550709706189, 0.0002740436680201756, 0.9307096402652656, 0.062127278890330095, 0.0046850079163199745, 0.0024896177333101313, 0.8937632287467246, 0.10420713198762922, 6.078698710122454e-06, 0.002024206670470777, 0.0010239709867832143, 0.9989302417427884, 9.308827152574675e-05, 0.9999640493615286, 0.9996183056662146, 0.9998043454878508, 0.00017561994475458472, 0.02265688944026651, 0.6674152043781834, 0.11716449767221186, 0.19276500145133524, 0.9990629977932594, 0.9997153837557121, 0.7544693946211425, 0.14409341842745002, 0.09543013031768181, 0.006005412022539467, 0.26124174143179635, 0.39826098748805927, 0.29009076102957937, 0.05040484957465247, 0.19760969723042598, 0.372999876188196, 0.1816557838578877, 0.24774388808047157, 0.059138358646878345, 0.8110294507638747, 0.10831014954243412, 0.021534905319821995, 0.9996116727230023, 0.1254004442121024, 0.22961156705789948, 0.15244116090867132, 0.492537390895917, 0.37335704237783657, 0.1913276820520451, 0.24320996327903993, 0.1921045038671498, 0.31939776867287595, 0.48554792010182735, 0.14410806558255, 0.050944994166368364, 0.037752315602596585, 0.03952408492690618, 0.9076456238559293, 0.015060039256631491, 0.7806390345812445, 0.19919754675521412, 0.017519080655151155, 0.0026478610487922524, 0.007305405085374847, 0.9709194226764677, 0.02179963964306005, 0.9989401587810837, 0.0006294518958923022, 0.999680151646494, 0.2844268129105842, 0.10916098181285308, 0.010688000607348003, 0.5957256923888299, 0.03876533780351892, 0.8056463793094729, 0.11088804431355803, 0.044702117438033824, 0.07922310770896362, 0.6667819093100589, 0.20531280641328548, 0.0486825069503576, 0.9993704120947937, 0.9998990827986086, 0.7910055995507872, 0.13031510298308419, 0.07702645073587601, 0.0016509631912048353, 0.9979146085696421, 0.0019091014648776974, 0.9974343109319057, 0.002358446777007249, 0.00018867574216057992, 0.9803231337155306, 0.019570053272872708, 0.9999690796299164, 0.2540033792366002, 0.6411087754281785, 0.07726111833079848, 0.02762961129842219, 0.9998544725653262, 0.9995437116321512, 0.0001417993632617607, 0.0002835987265235214, 0.9987247660483775, 0.9521591915758685, 0.047763972554473864, 0.0001200099812926479, 0.9794575782803331, 0.020557436623982656, 0.9972098096020233, 0.0027175148839865566, 0.9754350654281271, 0.024381701686784205, 7.55524794112253e-05, 0.9967638608722954, 0.0031732041352714626, 0.03982449272328625, 0.13854320430360986, 0.07915580287414792, 0.7424863627852317, 0.9986166857674947, 0.0013543948197289172, 0.002202894524497866, 0.9742505006307044, 0.023538335937690162, 0.9997405721454221, 0.10918680182264197, 0.22014140198634674, 0.3413871139212384, 0.3292776952849583, 0.9995965801201896, 0.007292293725980172, 0.7671253908133567, 0.1907502651888051, 0.03483265712143398, 0.4104604160631236, 0.032174787058076526, 0.04017210760806608, 0.5171875444338605, 0.050834504347150755, 0.15740784861185692, 0.05070656515835759, 0.7410664278862741, 0.9990110200812301, 0.00024440636576910827, 0.000855422280191879, 0.9996873280954196, 0.3362344059266454, 0.07506561583535877, 0.07014288670987938, 0.5185674900718402, 0.9997738436144549, 0.05497888120322016, 0.0027254488117835637, 0.9422064504322799, 0.999844425570041, 0.11855590861297295, 0.7707707253959656, 0.07065739174854907, 0.040022058321576855, 0.9998021222158843, 0.8354425209610808, 0.09091925563456907, 0.009502699631179194, 0.06413375767018946, 0.11198986167702622, 0.21566223008388874, 0.3550490257004237, 0.3172922623569833, 0.9996175519456038, 0.02515859501541484, 0.9703383861933351, 7.532513477669114e-05, 0.004368857817048086, 0.14466133077139273, 0.00023171765300559463, 0.8024305084366073, 0.05267714644993851, 0.014504145427266893, 0.985531674635497, 0.9995510624952396, 0.9997266509329374, 0.9996391386766805, 0.001998851125289352, 0.09062876059556614, 0.013566670403559643, 0.893826682983113, 0.1531868684538631, 0.1738805331397358, 0.1279669066391597, 0.5449803189897406, 0.26683908100466436, 0.7110935139297792, 0.006889184792900491, 0.015180326228557538, 0.7197967912072378, 0.14107448971628458, 0.13563300904081307, 0.0034971929167183493, 0.9998000302418901, 0.00011059734847808519, 0.00011059734847808519, 0.9997880353045119, 0.050148377234687985, 0.1302137342809211, 0.7838869989758288, 0.03575142808416407, 0.9997699094721222, 0.6939037319518502, 0.18796079151891432, 0.11665578338700168, 0.0014814059861200687, 0.0068141024573183315, 0.9719996834308915, 0.02118001646989829, 0.14437941127440826, 0.6613494310243179, 0.1646500314812209, 0.02962580712410948, 0.01451934373999704, 0.04747215980069997, 0.9288736021564701, 0.009128778214719038, 0.9982573020986667, 0.0006177334790214521, 0.0006177334790214521, 0.0004633001092660891, 0.26266730549022027, 0.4332567017132679, 0.06630494468532792, 0.23777394585536898, 0.13925925100247938, 0.054384086536503076, 0.07257876254687727, 0.7337352998798977, 0.31258039262049575, 0.5127141675445123, 0.14665742247541105, 0.028047870606790835, 0.0519759820542282, 0.9479630331299614, 0.9611436779264372, 0.02522805060411553, 0.00850320455629787, 0.005124447778960968, 0.9997418081283979, 0.6706654020820396, 0.19651104455846097, 0.07237042745773609, 0.06045273791363864, 0.7876139153036406, 0.1592653695731568, 0.045920749930243046, 0.00719830512816237, 0.9529949295679765, 0.033354822534879175, 0.012979221988519082, 0.0007111902459462511, 0.999956362531233, 0.9740574391650814, 0.020835695991088282, 0.004947910376968677, 0.00013618101954959662, 0.999643204831433, 0.12868226117479722, 0.7907412337897767, 0.04693409674114897, 0.03364978143743214, 0.08832282096082786, 0.38456701659482384, 0.48982638307475723, 0.03727935896164307, 0.06549800200964187, 0.2518260821167489, 0.567190185171105, 0.11548539075645484, 0.9995809694448881, 0.9998303378852786, 0.07374378961079639, 0.7464944027728942, 0.13823013580022966, 0.041536498079728444, 0.04765732388846527, 0.060525220488077264, 0.08014142768227404, 0.8116834451188477, 0.03998417999570782, 0.8331032130448973, 0.05732060430727964, 0.06958440876864973, 0.23911414684300994, 0.20442786170428404, 0.5296541021051253, 0.02680623226913997, 0.9995136775888809, 0.9997471266589395, 0.9997110629465948, 0.9995641129333135, 0.0001919157553719475, 0.012186650466118666, 0.05354449574877335, 0.9340539813952685, 0.999009646348989, 0.8157572682600525, 0.17924669842841792, 0.0018581702414400712, 0.0031414369827660873, 0.0985334000471305, 0.15233180496737814, 0.025998404850691537, 0.7231326040027102, 0.9997840939040917, 0.9999068893563082, 0.06612303666329981, 0.13905931267635485, 0.7862579521726824, 0.008560873235008428, 0.9997292317448955, 0.9952145321382501, 0.004639935137403776, 0.00010310966972008392, 0.9997470428445835, 0.9996606945260768, 0.00033159908044872073, 0.05108480087425433, 0.6018071159275711, 0.3261234782103515, 0.020988290875765824, 0.9999529341895506, 0.9783443165256254, 0.018939742537867878, 0.0027176231014600706, 0.9816397451222436, 0.01829295923924604, 0.9994101493406685, 0.6547913954707257, 0.27259063953808566, 0.06773064995397475, 0.004887425029616907, 0.999924740725894, 0.76739129713159, 0.13731487108697807, 0.044746982643815464, 0.05054463517766634, 0.795281694181633, 0.09462682337277097, 0.020719754934425492, 0.08938492364952814, 0.26567399634082134, 0.14437358322237587, 0.17319372917628742, 0.41676659583884285, 0.07440850397167821, 0.5397376896852605, 0.34655565479910905, 0.039296738688191404, 0.9997647846384269, 0.9687944784145517, 0.00197219196123995, 0.020229908450900697, 0.009024272307491891, 0.013752941960618268, 0.005756704660644341, 0.9780722486424622, 0.0024193880267831805, 0.5382945934118559, 0.3462274863037938, 0.10336211288352563, 0.012118046095883218, 0.9997341105258347, 0.9999308423561146, 0.193555661448979, 0.519710396685387, 0.0810773323001403, 0.2056547086794967, 0.9997712233426524, 0.9997956582901244, 0.9998010463692073, 0.012107375929557275, 0.06600623479743194, 0.2128841312092812, 0.7090528111950762, 0.012512333505254323, 0.9077257382938587, 0.05463131530463155, 0.02513040504013051, 0.9996037825569629, 0.0002556531413189163, 0.2433630574711403, 0.7147934052045297, 0.030295487310513486, 0.011545837183485595, 0.999430850991186, 0.9991886455904516, 0.0007990817520927091, 0.0005175281967755734, 0.05337009529248101, 0.9400252784182321, 0.006080956312112988, 0.03496794156481411, 0.9310606654336246, 0.033956904371015895, 0.49263213472711, 0.33363145627877183, 0.13790761041733007, 0.03583058281249843, 0.5633240951362054, 0.16762006475817362, 0.1324965954065443, 0.13656088919482492, 0.9772179415998361, 0.022767958020393577, 0.9998282153142782, 0.9996122227939607, 0.010239678423702615, 0.061737476344078335, 0.10257642771814374, 0.8254019145749523, 0.9999584082730326, 0.9998745964759991, 0.9999713760832972, 0.9995664057267939, 0.00389895596078858, 0.9960285275068478, 0.999971607596514, 0.9990612759459951, 0.5677962471772504, 0.3485639448744589, 0.06561305638939834, 0.018022231284161024, 0.9995298020401354, 0.890537600980869, 0.10886230228133544, 3.256912558903079e-05, 0.0005699596978080389, 0.10904694528608563, 0.1832217497683819, 0.6643092348810644, 0.043419124172231795, 0.051828288433645946, 0.7404479860194438, 0.15622827074775658, 0.051505068674159535, 0.16333912850124582, 0.8122425310231196, 0.021815242771187987, 0.0026018179451875578, 0.10038924107945171, 0.0056984231047514855, 0.8933591683016425, 0.0005658008756490837, 1.590781918306443e-05, 0.006665376237703996, 0.4038995290580059, 0.5894324241900863, 0.9999749564354014, 0.04830832950068886, 0.8554135864589338, 0.04741402135468715, 0.048873155698163626, 0.5693428715477779, 0.2378482583252353, 0.005999985696627209, 0.18680854343094377, 0.0015060093798595423, 0.058645777027471584, 0.010099121723763989, 0.929739320095641, 0.059193774219212604, 0.6685678232185958, 0.22556648119412961, 0.04666469148345895, 0.12279399949971907, 0.011013110730110937, 0.8656763913480952, 0.0005135081392016012, 0.9852605219396318, 0.0016522553559411076, 0.011049457692856158, 0.0019964752217621717, 0.4227199876925487, 0.19773890738730057, 0.07964654203781024, 0.29989705582960396, 0.9815492278695839, 0.01838107168295101, 0.8654296045674015, 0.006462587493872703, 0.1081926285612137, 0.0199003125242356, 0.28619128703598257, 0.5801257748452501, 0.13283873142895317, 0.0008486806693057549, 0.9999525333538237, 0.9994993407380313, 0.000281390580162734, 0.000281390580162734, 0.9995993847721958, 0.9174260395329328, 0.02765775101092128, 0.05492829350768966, 0.11896638343975859, 0.7271668120937441, 0.12007596989053956, 0.0337822284472716, 0.08571072117418123, 0.3623330782898851, 0.2675992047681959, 0.28435385166295507, 0.9998193924375006, 0.4236472303292913, 0.17415295127952873, 0.02944277266431676, 0.3727552928760293, 0.9998020833986345, 0.22043307107478693, 0.04135413614093518, 0.04462859333707749, 0.6935921359173505, 0.03271362614709524, 0.9671670764781305, 0.7330053066303324, 0.18779659323796177, 0.07590329384169218, 0.0032959827834324945, 0.9995859833203848, 0.9997902316378926, 0.032417425623352814, 0.9007721999875635, 0.0666302778966144, 0.00016624320832488623, 0.07116060848524983, 0.06106637875487801, 0.8431279604570486, 0.0246603516758532, 0.09095316426477472, 0.44989111460533665, 0.16686859689479003, 0.29228741484347504, 0.9996195400842123, 0.18204373714308286, 0.045833268754652795, 0.7414167970237033, 0.030706516038073648, 0.03793134280785152, 0.8866114427782431, 0.07543908686353415, 0.9997295669721381, 0.09217177818807876, 0.3237243806765841, 0.5474627264251342, 0.03663815652826839, 0.056129005388093484, 0.2925779650938416, 0.0619548506144883, 0.5893210747058644, 0.9994760135721864, 0.03554755086374511, 0.10759277146224787, 0.8459661851177533, 0.010893604296954146, 0.9998148956958202, 0.9993830758872532, 0.6670415786805259, 0.25278374506655815, 0.06581289954919126, 0.01436005718093043, 0.9994687977869514, 0.688859634917116, 0.29773128989744696, 0.0010280543803772367, 0.01237878594077181, 0.8510363382492847, 0.13930118727656535, 0.0033951923291270134, 0.006268629044201101, 0.43049069686597247, 0.03622383710889817, 0.0032124382346739606, 0.530100255560527, 0.19282096599694495, 0.524844637854911, 0.1654311947677007, 0.11689783947614225, 0.5460211849625835, 0.15301423164386518, 0.1717380587955109, 0.1292293298360214, 0.14352885118958672, 0.5580364321517409, 0.18266767239963813, 0.11575839929472949, 0.021982546803547862, 0.02028963802672291, 0.9526528300392701, 0.005078726330474851, 0.026685443224160818, 0.9711034611951969, 0.002242474220517716, 0.9998773141021317, 0.17167037992157097, 0.16872384304698115, 0.011588393345702176, 0.6480205828418337, 0.15086429795699022, 0.3174907946589329, 0.29845830150887337, 0.2331868090672152, 0.9775819025526313, 0.022389838625709587, 0.4000259033337722, 0.083318360691138, 0.48702916218677333, 0.0296313775844438, 0.9990107465301608, 0.000805783792974803, 0.0001611567585949606, 0.9996598368142533, 0.9975554235326775, 0.0012212970415434346, 8.14198027695623e-05, 0.0012212970415434346, 0.7494916851249995, 0.11136823807106931, 0.04365844074617036, 0.09548649989544147, 0.5661261440049522, 0.16783489387981984, 0.012827168698156918, 0.2532081298181503, 0.022885813211844217, 0.05249284317934348, 0.920890886131284, 0.0037324502233909026, 0.02075962624147409, 0.6804578625324779, 0.24455534595343223, 0.05423188672346833, 0.9826248059373833, 0.015481577109300758, 0.00024836754720803354, 0.0016557836480535569, 0.7110848105744412, 0.02890768587832004, 0.07432205722517393, 0.18569448798235522, 0.9973829449459986, 0.0008098927689370674, 0.0016197855378741349, 0.9974675280154867, 0.0019500831437252915, 0.00048752078593132286, 0.9133419962282514, 0.036333558219209354, 0.023238167408824645, 0.02709296929664144, 0.9706212913484706, 0.02936150551446264, 0.1711326287901397, 0.0008682135577558827, 0.7223536800528944, 0.10564697648336432, 0.8730261408997237, 0.09408587456585885, 0.023447636177531483, 0.009442783545144433, 0.9999383517697411, 0.9999397914803786, 0.015493129272859063, 0.0009485589350730038, 0.9835853520458847, 0.2659296582519754, 0.5025754109687978, 0.21388410211206704, 0.017615183823738317, 0.3317755153839601, 0.5638926187789172, 0.06986425061735553, 0.034471302055314616, 0.0013562522793908339, 0.9862214491637014, 0.012432312561082643, 0.25105645682592403, 0.43157269043651647, 0.19774668593847705, 0.11962558576787745, 0.9998346549170689, 0.9996617613066497, 0.9998626347411135, 0.9995287930588524, 0.0018826659099739945, 0.04226769542980831, 0.228430130410178, 0.7274104265889718, 0.5395976535700175, 0.3894230976060245, 0.0560370494187723, 0.01494810002104703, 0.9997914062636993, 0.971835248806807, 0.0281566639646709, 0.010190108415173111, 0.000531657830356858, 0.9891493933789343, 0.00017721927678561933, 0.09428827270791133, 0.0019037646838968882, 0.9029382826206223, 0.0008653475835894946, 0.04044728344616586, 0.12916775424995655, 0.1557112840115029, 0.6746682179614116, 0.04379779748752701, 0.09384535971023512, 0.8277378281544279, 0.03461103888154088, 0.00014166633658423632, 0.009916643560896544, 0.9899643600506435, 0.999192931200372, 0.000704649457828189, 0.00010840760889664446, 0.8914808015748624, 0.06311943007634266, 0.02405697937379266, 0.021330398056948002, 0.4456482414063695, 0.16008088028178316, 0.33415172870753007, 0.060118422640297105, 0.04779889668821422, 0.01836177128876522, 0.9291056272115201, 0.004721598331396771, 0.4772835494718799, 0.43616793565181167, 0.046531782068741194, 0.04001115920836204, 0.9768694197804312, 0.023033265705321642, 0.9999355985466318, 0.7690160066071219, 0.16688276509382566, 0.03322017372928162, 0.030879697030011657, 0.9638687323474843, 0.019979874007082076, 0.013514083876510326, 0.0026212662691507097, 0.8551369410251705, 0.08446027684951565, 0.036240951623419206, 0.024143643814757944, 0.999922844131946, 0.03203187835046839, 0.9526838534025193, 0.014717349512377367, 0.00048095913439141725, 0.8176944528946739, 0.10010733297551314, 0.08029805874705781, 0.0019125233046500209, 0.9999105861252957, 0.9998960856078962, 0.9998731286789402, 0.9995705153678278, 0.0003467720781848492, 0.9994999891533736, 0.5139976451015578, 0.31447100833689573, 0.1468191632260738, 0.02471540499855644, 0.7967361485677082, 0.1788568480192792, 0.02189321395473422, 0.0025031490357801923, 0.000223597029714371, 0.9997023198529528, 0.5323937643360892, 0.26138055095321894, 0.19139751432643165, 0.014827323840181985, 0.9992018500335353, 0.00035721549829329354, 0.9994889642246354, 0.0029086072547681485, 0.9970705669345212, 0.9997528737862558, 0.9997824964851573], \"Term\": [\"20022022\", \"20022022\", \"20022023\", \"20022023\", \"20152020\", \"20192025\", \"2020\", \"2020\", \"2020\", \"2020\", \"20202025\", \"20202026\", \"20202027\", \"2021\", \"2021\", \"2021\", \"2021\", \"20212026\", \"20212026\", \"20212027\", \"2022\", \"2022\", \"2022\", \"2022\", \"2023\", \"2023\", \"2023\", \"2023\", \"2025\", \"2025\", \"2025\", \"2025\", \"2026\", \"2026\", \"2026\", \"2026\", \"2027\", \"2027\", \"2027\", \"2028\", \"2028\", \"2028\", \"2028\", \"242017\", \"52018\", \"8887760942\", \"aboriginal\", \"aboriginal\", \"accused\", \"accused\", \"actress\", \"admits\", \"advertisement\", \"advertisement\", \"advertisement\", \"advertisement\", \"ago\", \"ago\", \"ago\", \"ago\", \"ai\", \"ai\", \"ai\", \"ai\", \"airconditioning\", \"allentown\", \"altman\", \"altman\", \"america\", \"america\", \"america\", \"america\", \"analysis\", \"analysis\", \"analysis\", \"analysis\", \"ap\", \"ap\", \"ap\", \"ap\", \"app\", \"app\", \"app\", \"app\", \"application\", \"application\", \"application\", \"application\", \"argonne\", \"armada\", \"arn\", \"arrested\", \"arrowrightalt\", \"artificial\", \"artificial\", \"artificial\", \"artificial\", \"bard\", \"bard\", \"bard\", \"beatles\", \"berk\", \"bestreviews\", \"biden\", \"biden\", \"biden\", \"biden\", \"bikini\", \"bing\", \"bing\", \"bing\", \"bing\", \"blog\", \"blog\", \"blog\", \"blog\", \"boyfriend\", \"brandvoice\", \"btc\", \"bureauinvestigate\", \"bureauinvestigate\", \"business\", \"business\", \"business\", \"business\", \"buyback\", \"cagr\", \"cagr\", \"camping\", \"camping\", \"camping\", \"camping\", \"capability\", \"capability\", \"capability\", \"capability\", \"captioningaudio\", \"captioningaudio\", \"cdtupdated\", \"cdtupdated\", \"chainlogistics\", \"chapter\", \"chapter\", \"chapter\", \"chapter\", \"chatbot\", \"chatbot\", \"chatbot\", \"chatbot\", \"chatgpt\", \"chatgpt\", \"chatgpt\", \"chatgpt\", \"cio\", \"cio\", \"cio\", \"cision\", \"cisos\", \"clearview\", \"clearview\", \"cloud\", \"cloud\", \"cloud\", \"cloud\", \"cmswire\", \"cna\", \"comment\", \"comment\", \"comment\", \"comment\", \"company\", \"company\", \"company\", \"company\", \"computer\", \"computer\", \"computer\", \"computer\", \"computing\", \"computing\", \"computing\", \"computing\", \"computinginternet\", \"consumer\", \"consumer\", \"consumer\", \"consumer\", \"contact\", \"contact\", \"contact\", \"contact\", \"content\", \"content\", \"content\", \"content\", \"corporation\", \"corporation\", \"corporation\", \"corporation\", \"could\", \"could\", \"could\", \"could\", \"courtesy\", \"courtesy\", \"courtesy\", \"credo\", \"credo\", \"cryptos\", \"culture\", \"culture\", \"culture\", \"culture\", \"customer\", \"customer\", \"customer\", \"customer\", \"data\", \"data\", \"data\", \"data\", \"datadecisionmakers\", \"daughter\", \"day\", \"day\", \"day\", \"day\", \"ddn\", \"ddn\", \"dead\", \"dead\", \"dead\", \"descriptiona\", \"descriptiona\", \"digi\", \"digital\", \"digital\", \"digital\", \"digital\", \"dress\", \"dy\", \"dy\", \"dy\", \"e96\", \"edt\", \"edt\", \"edt\", \"edtupdated\", \"edtupdated\", \"eedition\", \"eedition\", \"effectdismiss\", \"effectdismiss\", \"ein\", \"ein\", \"ein\", \"electronic\", \"electronic\", \"electronic\", \"electronic\", \"elon\", \"elon\", \"endorsed\", \"endorsed\", \"endorsed\", \"enduse\", \"energy\", \"energy\", \"energy\", \"energy\", \"englishonly\", \"enterprise\", \"enterprise\", \"enterprise\", \"enterprise\", \"entertainment\", \"entertainment\", \"entertainment\", \"entertainment\", \"environmental\", \"environmental\", \"environmental\", \"environmental\", \"epaper\", \"epaper\", \"epaper\", \"epr\", \"estate\", \"estate\", \"estate\", \"estate\", \"etcio\", \"etf\", \"etf\", \"etf\", \"eurekalert\", \"experience\", \"experience\", \"experience\", \"experience\", \"factmr\", \"file\", \"file\", \"file\", \"file\", \"financial\", \"financial\", \"financial\", \"financial\", \"fitnesswellness\", \"forbes\", \"forbes\", \"forbes\", \"forbes\", \"forecast\", \"forecast\", \"forecast\", \"forecast\", \"freddy\", \"freddy\", \"fsa\", \"gamesbeat\", \"gaudi\", \"gdpr\", \"gdpr\", \"gdpr\", \"gdpr\", \"general\", \"general\", \"general\", \"general\", \"generative\", \"generative\", \"generative\", \"generative\", \"get\", \"get\", \"get\", \"get\", \"girl\", \"girl\", \"girl\", \"girlfriend\", \"global\", \"global\", \"global\", \"global\", \"god\", \"google\", \"google\", \"google\", \"google\", \"gray\", \"gray\", \"gray\", \"group\", \"group\", \"group\", \"group\", \"growth\", \"growth\", \"growth\", \"growth\", \"harry\", \"harry\", \"harry\", \"harry\", \"health\", \"health\", \"health\", \"health\", \"heavy\", \"heavy\", \"heavy\", \"heavy\", \"help\", \"help\", \"help\", \"help\", \"hiking\", \"hiking\", \"hill\", \"hill\", \"hill\", \"hill\", \"hindu\", \"home\", \"home\", \"home\", \"home\", \"hour\", \"hour\", \"hour\", \"hour\", \"house\", \"house\", \"house\", \"house\", \"husband\", \"icon\", \"icon\", \"icon\", \"icon\", \"idg\", \"improve\", \"improve\", \"improve\", \"improve\", \"inc\", \"inc\", \"inc\", \"inc\", \"industry\", \"industry\", \"industry\", \"industry\", \"inforgrowth\", \"inlanguage\", \"innovation\", \"innovation\", \"innovation\", \"innovation\", \"inquiry\", \"inquiry\", \"inquiry\", \"inquiry\", \"inspection\", \"inspection\", \"inspection\", \"inspection\", \"intelligence\", \"intelligence\", \"intelligence\", \"intelligence\", \"interestall\", \"intermodal\", \"internet1\", \"investingall\", \"ir\", \"ir\", \"ir\", \"ir\", \"itwc\", \"job\", \"job\", \"job\", \"job\", \"journalist\", \"journalist\", \"journalist\", \"journalist\", \"journalistic\", \"kardashian\", \"key\", \"key\", \"key\", \"key\", \"keyboardarrowright\", \"killed\", \"killed\", \"killed\", \"kyrgyzstan\", \"lawmaker\", \"lawmaker\", \"learning\", \"learning\", \"learning\", \"learning\", \"lehigh\", \"letter\", \"letter\", \"letter\", \"lifestylegray\", \"lifestylegray\", \"lifewire\", \"like\", \"like\", \"like\", \"like\", \"lisk\", \"live\", \"live\", \"live\", \"live\", \"local\", \"local\", \"local\", \"local\", \"log\", \"log\", \"log\", \"log\", \"machine\", \"machine\", \"machine\", \"machine\", \"mailonline\", \"man\", \"man\", \"man\", \"man\", \"market\", \"market\", \"market\", \"market\", \"may\", \"may\", \"may\", \"may\", \"mccartney\", \"mediaall\", \"medium\", \"medium\", \"medium\", \"medium\", \"meghan\", \"metallurgy\", \"metalworking\", \"mining\", \"mining\", \"mining\", \"mining\", \"ml\", \"ml\", \"ml\", \"ml\", \"mlaas\", \"mlaas\", \"model\", \"model\", \"model\", \"model\", \"monthsthis\", \"musk\", \"musk\", \"nasdaq\", \"nasdaq\", \"nasdaq\", \"nasdaq\", \"necessarily\", \"necessarily\", \"necessarily\", \"new\", \"new\", \"new\", \"new\", \"news\", \"news\", \"news\", \"news\", \"newscastspress\", \"newscastspress\", \"newsnation\", \"newsplugin\", \"newswire\", \"newswire\", \"newswire\", \"newswire\", \"newswires\", \"newswise\", \"nexstar\", \"nonus\", \"npr\", \"npr\", \"nv\", \"ofkorea\", \"one\", \"one\", \"one\", \"one\", \"ooda\", \"openai\", \"openai\", \"openai\", \"openai\", \"opportunity\", \"opportunity\", \"opportunity\", \"opportunity\", \"organization\", \"organization\", \"organization\", \"organization\", \"original\", \"original\", \"original\", \"original\", \"outlook\", \"outlook\", \"outlook\", \"outlook\", \"overview\", \"overview\", \"overview\", \"overview\", \"overviewview\", \"patient\", \"patient\", \"patient\", \"patient\", \"people\", \"people\", \"people\", \"people\", \"peripheral\", \"peripheral\", \"peripheral\", \"peripheral\", \"platform\", \"platform\", \"platform\", \"platform\", \"player\", \"player\", \"player\", \"player\", \"police\", \"police\", \"police\", \"police\", \"policy\", \"policy\", \"policy\", \"policy\", \"policyeeo\", \"policyeeo\", \"politics\", \"politics\", \"politics\", \"politics\", \"press\", \"press\", \"press\", \"press\", \"presswire\", \"prince\", \"prince\", \"prince\", \"principality\", \"prnewswire\", \"prnewswire\", \"prnewswire\", \"process\", \"process\", \"process\", \"process\", \"product\", \"product\", \"product\", \"product\", \"profnet\", \"public\", \"public\", \"public\", \"public\", \"putin\", \"radio\", \"radio\", \"radio\", \"radio\", \"railroad\", \"railroad\", \"read\", \"read\", \"read\", \"read\", \"recapitalization\", \"redistributed\", \"reflect\", \"reflect\", \"reflect\", \"reflect\", \"region\", \"region\", \"region\", \"region\", \"release\", \"release\", \"release\", \"release\", \"renalytix\", \"report\", \"report\", \"report\", \"report\", \"republic\", \"republic\", \"republic\", \"republican\", \"research\", \"research\", \"research\", \"research\", \"resource\", \"resource\", \"resource\", \"resource\", \"resourcesall\", \"revenue\", \"revenue\", \"revenue\", \"revenue\", \"rewritten\", \"rezolve\", \"right\", \"right\", \"right\", \"right\", \"safetylit\", \"said\", \"said\", \"said\", \"said\", \"say\", \"say\", \"say\", \"say\", \"schedule\", \"schedule\", \"schedule\", \"schedule\", \"science\", \"science\", \"science\", \"science\", \"search\", \"search\", \"search\", \"search\", \"security\", \"security\", \"security\", \"security\", \"segment\", \"segment\", \"segment\", \"segment\", \"segmentation\", \"segmentation\", \"segmentation\", \"segmented\", \"send\", \"send\", \"send\", \"send\", \"service\", \"service\", \"service\", \"service\", \"serviceprivacy\", \"serviceprivacy\", \"share\", \"share\", \"share\", \"share\", \"shes\", \"shes\", \"shes\", \"shipbuilding\", \"shooting\", \"shooting\", \"shooting\", \"shooting\", \"show\", \"show\", \"show\", \"show\", \"sign\", \"sign\", \"sign\", \"sign\", \"size\", \"size\", \"size\", \"size\", \"solution\", \"solution\", \"solution\", \"solution\", \"song\", \"song\", \"song\", \"song\", \"sport\", \"sport\", \"sport\", \"sport\", \"sql\", \"sql\", \"sql\", \"ssd\", \"ssd\", \"ssd\", \"star\", \"star\", \"star\", \"star\", \"statementfcc\", \"statementfcc\", \"stock\", \"stock\", \"stock\", \"stock\", \"story\", \"story\", \"story\", \"story\", \"sunak\", \"swot\", \"symbol\", \"symbol\", \"symbol\", \"system\", \"system\", \"system\", \"system\", \"team\", \"team\", \"team\", \"team\", \"teamcontact\", \"teamcontact\", \"teamcontact\", \"technology\", \"technology\", \"technology\", \"technology\", \"technologyall\", \"techradar\", \"techrepublic\", \"techtarget\", \"telecommunication\", \"telecommunication\", \"telecommunication\", \"telecommunication\", \"time\", \"time\", \"time\", \"time\", \"toc\", \"told\", \"told\", \"traded\", \"traded\", \"traded\", \"traded\", \"trading\", \"trading\", \"trading\", \"trading\", \"transportation\", \"transportation\", \"transportation\", \"transportation\", \"trend\", \"trend\", \"trend\", \"trend\", \"trucking\", \"trucking\", \"trucking\", \"trump\", \"trump\", \"trump\", \"tv\", \"tv\", \"tv\", \"tv\", \"u\", \"u\", \"u\", \"u\", \"usd\", \"usd\", \"usd\", \"usd\", \"use\", \"use\", \"use\", \"use\", \"usmeet\", \"usmeet\", \"venturebeat\", \"video\", \"video\", \"video\", \"video\", \"war\", \"war\", \"war\", \"war\", \"watch\", \"watch\", \"watch\", \"watch\", \"wdpntv\", \"webinars\", \"webinars\", \"webinars\", \"webinars\", \"week\", \"week\", \"week\", \"week\", \"wfmzcom\", \"wfmztv\", \"wife\", \"windowclick\", \"windowclick\", \"wlrn\", \"world\", \"world\", \"world\", \"world\", \"would\", \"would\", \"would\", \"would\", \"xx\", \"xx\", \"year\", \"year\", \"year\", \"year\", \"yearhttpsto\", \"zacks\", \"zacks\", \"zdnet\", \"zdnet\", \"\\u010desko\", \"\\u0440\\u043e\\u0441\\u0441\\u0438\\u044f\"]}, \"R\": 30, \"lambda.step\": 0.01, \"plot.opts\": {\"xlab\": \"PC1\", \"ylab\": \"PC2\"}, \"topic.order\": [3, 2, 1, 4]};\n",
       "\n",
       "function LDAvis_load_lib(url, callback){\n",
       "  var s = document.createElement('script');\n",
       "  s.src = url;\n",
       "  s.async = true;\n",
       "  s.onreadystatechange = s.onload = callback;\n",
       "  s.onerror = function(){console.warn(\"failed to load library \" + url);};\n",
       "  document.getElementsByTagName(\"head\")[0].appendChild(s);\n",
       "}\n",
       "\n",
       "if(typeof(LDAvis) !== \"undefined\"){\n",
       "   // already loaded: just create the visualization\n",
       "   !function(LDAvis){\n",
       "       new LDAvis(\"#\" + \"ldavis_el520961406052386626407732811251\", ldavis_el520961406052386626407732811251_data);\n",
       "   }(LDAvis);\n",
       "}else if(typeof define === \"function\" && define.amd){\n",
       "   // require.js is available: use it to load d3/LDAvis\n",
       "   require.config({paths: {d3: \"https://d3js.org/d3.v5\"}});\n",
       "   require([\"d3\"], function(d3){\n",
       "      window.d3 = d3;\n",
       "      LDAvis_load_lib(\"https://cdn.jsdelivr.net/gh/bmabey/pyLDAvis@3.4.0/pyLDAvis/js/ldavis.v3.0.0.js\", function(){\n",
       "        new LDAvis(\"#\" + \"ldavis_el520961406052386626407732811251\", ldavis_el520961406052386626407732811251_data);\n",
       "      });\n",
       "    });\n",
       "}else{\n",
       "    // require.js not available: dynamically load d3 & LDAvis\n",
       "    LDAvis_load_lib(\"https://d3js.org/d3.v5.js\", function(){\n",
       "         LDAvis_load_lib(\"https://cdn.jsdelivr.net/gh/bmabey/pyLDAvis@3.4.0/pyLDAvis/js/ldavis.v3.0.0.js\", function(){\n",
       "                 new LDAvis(\"#\" + \"ldavis_el520961406052386626407732811251\", ldavis_el520961406052386626407732811251_data);\n",
       "            })\n",
       "         });\n",
       "}\n",
       "</script>"
      ],
      "text/plain": [
       "PreparedData(topic_coordinates=              x         y  topics  cluster       Freq\n",
       "topic                                                \n",
       "2      0.119313  0.118971       1        1  40.534561\n",
       "1      0.055850  0.018976       2        1  33.296772\n",
       "0      0.033956 -0.181434       3        1  19.317945\n",
       "3     -0.209119  0.043486       4        1   6.850722, topic_info=         Term           Freq         Total Category  logprob  loglift\n",
       "322    market  750603.000000  7.506030e+05  Default  30.0000  30.0000\n",
       "357      news  647344.000000  6.473440e+05  Default  29.0000  29.0000\n",
       "447    report  315665.000000  3.156650e+05  Default  28.0000  28.0000\n",
       "89   business  379661.000000  3.796610e+05  Default  27.0000  27.0000\n",
       "484   service  290187.000000  2.901870e+05  Default  26.0000  26.0000\n",
       "..        ...            ...           ...      ...      ...      ...\n",
       "387    people   30480.778999  1.631671e+05   Topic4  -5.4142   1.0031\n",
       "122  computer   26491.671931  1.069330e+05   Topic4  -5.5545   1.2854\n",
       "271  industry   29342.648357  2.540841e+05   Topic4  -5.4522   0.5222\n",
       "553         u   30965.905026  5.150834e+05   Topic4  -5.3984  -0.1306\n",
       "34         ai   32651.327262  1.217850e+06   Topic4  -5.3454  -0.9381\n",
       "\n",
       "[406 rows x 6 columns], token_table=       Topic      Freq      Term\n",
       "term                            \n",
       "8834       2  0.970974  20022022\n",
       "8834       3  0.028905  20022022\n",
       "591        2  0.984401  20022023\n",
       "591        3  0.015538  20022023\n",
       "13442      3  0.999694  20152020\n",
       "...      ...       ...       ...\n",
       "45895      3  0.999489     zacks\n",
       "54604      1  0.002909     zdnet\n",
       "54604      2  0.997071     zdnet\n",
       "5260       4  0.999753     česko\n",
       "5261       4  0.999782    россия\n",
       "\n",
       "[931 rows x 3 columns], R=30, lambda_step=0.01, plot_opts={'xlab': 'PC1', 'ylab': 'PC2'}, topic_order=[3, 2, 1, 4])"
      ]
     },
     "execution_count": 67,
     "metadata": {},
     "output_type": "execute_result"
    }
   ],
   "source": [
    "LDA_plot"
   ]
  },
  {
   "cell_type": "code",
   "execution_count": 55,
   "metadata": {},
   "outputs": [
    {
     "data": {
      "text/html": [
       "\n",
       "<link rel=\"stylesheet\" type=\"text/css\" href=\"https://cdn.jsdelivr.net/gh/bmabey/pyLDAvis@3.4.0/pyLDAvis/js/ldavis.v1.0.0.css\">\n",
       "\n",
       "\n",
       "<div id=\"ldavis_el520961406052386626405221378684\" style=\"background-color:white;\"></div>\n",
       "<script type=\"text/javascript\">\n",
       "\n",
       "var ldavis_el520961406052386626405221378684_data = {\"mdsDat\": {\"x\": [0.11931303604510335, 0.05584966862137947, 0.03395648033509419, -0.20911918500157695], \"y\": [0.11897123252708605, 0.01897617465627878, -0.18143355207223918, 0.04348614488887435], \"topics\": [1, 2, 3, 4], \"cluster\": [1, 1, 1, 1], \"Freq\": [40.53456075423801, 33.29677220911205, 19.31794467286068, 6.8507223637892745]}, \"tinfo\": {\"Term\": [\"market\", \"news\", \"report\", \"business\", \"service\", \"global\", \"product\", \"intelligence\", \"artificial\", \"analysis\", \"public\", \"growth\", \"medium\", \"technology\", \"industry\", \"policy\", \"release\", \"health\", \"entertainment\", \"data\", \"u\", \"people\", \"resource\", \"consumer\", \"forecast\", \"sign\", \"contact\", \"general\", \"research\", \"sport\", \"bestreviews\", \"nexstar\", \"daughter\", \"arrested\", \"wife\", \"husband\", \"dress\", \"newsnation\", \"redistributed\", \"rewritten\", \"bikini\", \"hindu\", \"sunak\", \"accused\", \"journalistic\", \"girlfriend\", \"cna\", \"kardashian\", \"republican\", \"actress\", \"putin\", \"mailonline\", \"meghan\", \"beatles\", \"admits\", \"god\", \"clearview\", \"girl\", \"boyfriend\", \"mccartney\", \"musk\", \"trump\", \"biden\", \"elon\", \"altman\", \"shooting\", \"lawmaker\", \"dead\", \"epaper\", \"prince\", \"dy\", \"police\", \"eedition\", \"killed\", \"shes\", \"windowclick\", \"harry\", \"ago\", \"ap\", \"letter\", \"man\", \"advertisement\", \"told\", \"icon\", \"bing\", \"chatgpt\", \"house\", \"chatbot\", \"bard\", \"edt\", \"story\", \"war\", \"hill\", \"song\", \"say\", \"openai\", \"tv\", \"star\", \"video\", \"day\", \"app\", \"job\", \"hour\", \"watch\", \"could\", \"2023\", \"week\", \"said\", \"get\", \"would\", \"local\", \"news\", \"google\", \"sport\", \"show\", \"politics\", \"file\", \"live\", \"read\", \"comment\", \"new\", \"like\", \"home\", \"u\", \"right\", \"ai\", \"search\", \"people\", \"world\", \"year\", \"one\", \"may\", \"time\", \"use\", \"technology\", \"artificial\", \"intelligence\", \"company\", \"brandvoice\", \"venturebeat\", \"techrepublic\", \"newswise\", \"techradar\", \"eurekalert\", \"keyboardarrowright\", \"gamesbeat\", \"safetylit\", \"idg\", \"internet1\", \"ooda\", \"techtarget\", \"arn\", \"principality\", \"etcio\", \"arrowrightalt\", \"rezolve\", \"argonne\", \"cmswire\", \"armada\", \"datadecisionmakers\", \"monthsthis\", \"e96\", \"lifewire\", \"gaudi\", \"yearhttpsto\", \"ofkorea\", \"cisos\", \"itwc\", \"cio\", \"gray\", \"zdnet\", \"ddn\", \"serviceprivacy\", \"20022023\", \"bureauinvestigate\", \"policyeeo\", \"lifestylegray\", \"sql\", \"captioningaudio\", \"endorsed\", \"ssd\", \"usmeet\", \"credo\", \"courtesy\", \"newscastspress\", \"cdtupdated\", \"forbes\", \"20022022\", \"descriptiona\", \"edtupdated\", \"teamcontact\", \"prnewswire\", \"statementfcc\", \"necessarily\", \"effectdismiss\", \"webinars\", \"republic\", \"ml\", \"reflect\", \"patient\", \"customer\", \"capability\", \"data\", \"experience\", \"model\", \"improve\", \"enterprise\", \"ai\", \"solution\", \"platform\", \"group\", \"original\", \"innovation\", \"process\", \"computing\", \"inspection\", \"learning\", \"digital\", \"cloud\", \"organization\", \"medium\", \"technology\", \"machine\", \"generative\", \"2022\", \"system\", \"press\", \"company\", \"help\", \"business\", \"new\", \"science\", \"use\", \"content\", \"team\", \"health\", \"security\", \"release\", \"service\", \"news\", \"product\", \"intelligence\", \"u\", \"artificial\", \"digi\", \"nv\", \"newswires\", \"buyback\", \"presswire\", \"swot\", \"btc\", \"20202026\", \"segmented\", \"lisk\", \"20202027\", \"20202025\", \"toc\", \"20212027\", \"epr\", \"xx\", \"20192025\", \"renalytix\", \"newsplugin\", \"fsa\", \"242017\", \"20152020\", \"52018\", \"20212026\", \"factmr\", \"cryptos\", \"inforgrowth\", \"kyrgyzstan\", \"zacks\", \"enduse\", \"market\", \"2027\", \"2026\", \"cagr\", \"ein\", \"symbol\", \"2028\", \"traded\", \"mlaas\", \"2025\", \"segmentation\", \"growth\", \"segment\", \"size\", \"chapter\", \"nasdaq\", \"analysis\", \"etf\", \"corporation\", \"player\", \"trading\", \"usd\", \"global\", \"trend\", \"forecast\", \"report\", \"revenue\", \"key\", \"region\", \"outlook\", \"stock\", \"artificial\", \"intelligence\", \"industry\", \"2020\", \"research\", \"opportunity\", \"share\", \"u\", \"inc\", \"america\", \"application\", \"company\", \"2021\", \"service\", \"ai\", \"data\", \"business\", \"technology\", \"learning\", \"news\", \"machine\", \"cision\", \"overviewview\", \"wfmztv\", \"lehigh\", \"berk\", \"8887760942\", \"chainlogistics\", \"profnet\", \"technologyall\", \"mediaall\", \"allentown\", \"wdpntv\", \"wfmzcom\", \"shipbuilding\", \"intermodal\", \"airconditioning\", \"metallurgy\", \"metalworking\", \"computinginternet\", \"fitnesswellness\", \"recapitalization\", \"\\u0440\\u043e\\u0441\\u0441\\u0438\\u044f\", \"inlanguage\", \"\\u010desko\", \"englishonly\", \"nonus\", \"wlrn\", \"interestall\", \"investingall\", \"resourcesall\", \"npr\", \"trucking\", \"camping\", \"aboriginal\", \"railroad\", \"freddy\", \"ir\", \"gdpr\", \"peripheral\", \"hiking\", \"inquiry\", \"newswire\", \"journalist\", \"electronic\", \"telecommunication\", \"environmental\", \"radio\", \"send\", \"transportation\", \"resource\", \"heavy\", \"overview\", \"entertainment\", \"general\", \"culture\", \"consumer\", \"mining\", \"blog\", \"public\", \"schedule\", \"product\", \"policy\", \"service\", \"release\", \"estate\", \"business\", \"news\", \"health\", \"medium\", \"financial\", \"technology\", \"log\", \"contact\", \"energy\", \"sign\", \"people\", \"computer\", \"industry\", \"u\", \"ai\"], \"Freq\": [750603.0, 647344.0, 315665.0, 379661.0, 290187.0, 251094.0, 216775.0, 469666.0, 431585.0, 186952.0, 142989.0, 159166.0, 240597.0, 459709.0, 254084.0, 162982.0, 169240.0, 185310.0, 97032.0, 463677.0, 515083.0, 163167.0, 74667.0, 85278.0, 129467.0, 110936.0, 169923.0, 70697.0, 219470.0, 131037.0, 16910.8254833902, 13579.639899717855, 12456.49035770675, 9725.505638971954, 9148.3962684385, 8961.63982920171, 8591.451583702437, 5859.258068259554, 5988.470833488224, 6101.297360357603, 4943.021989479996, 4965.489931023459, 4585.527288154491, 7284.552565304204, 4562.211833365671, 4065.107005950601, 4643.453168240229, 4461.568162055941, 4671.363936501963, 3867.156967748272, 3721.9728802414866, 3559.088555223446, 3432.031703382478, 3420.574361595454, 3462.91878728333, 3721.0066090552814, 5692.807763484189, 9039.706525622782, 3163.9938521496506, 3196.092384921039, 23758.210324556854, 18433.838611246174, 19380.786731204837, 14009.152304283818, 13437.608938680234, 12251.766991290051, 9043.881029320182, 10573.370148511332, 8174.675452594171, 7103.645028325356, 7048.817758036185, 28623.440853141215, 8439.839243784589, 9652.10439098638, 6198.841537816615, 5765.248339293175, 6464.177424881613, 157058.0616187761, 23932.75090354572, 23400.41592887442, 32421.37520218735, 35028.31415751688, 23711.51340560266, 21458.495510038683, 18007.321382141203, 147032.01057341308, 26799.88467637192, 41121.63499196164, 20866.542280953377, 23801.594987294837, 112332.14492874635, 16546.748409546773, 17068.010311301685, 11869.116529119658, 112546.38307529729, 54686.33084032395, 48062.97828695396, 33407.94427168174, 147528.55196364972, 114030.2550003364, 76988.15035778642, 79460.61642569338, 102961.20865591678, 50330.44752102709, 97584.60348719372, 176523.91557653298, 58573.50986646671, 163495.32430973856, 114025.27600736229, 63977.41934230445, 64175.74451415119, 364664.5384349053, 105391.77762953588, 93178.70392029325, 68806.36357360777, 38835.44974215864, 44134.307652693584, 59165.911016321465, 68941.54134687278, 62062.30816025925, 224629.53120578325, 95390.21606287321, 84581.01091429016, 229545.985010571, 82776.13539108472, 369125.45210220537, 101629.36575498499, 92898.35266817125, 104315.98510024448, 99209.39600125774, 91712.34333986195, 96037.98493478764, 95695.95263523443, 98961.37991373468, 115412.96284085601, 110800.93485080941, 112303.60058834362, 100869.27721391397, 15232.892383059585, 14717.176006565816, 4926.910814006473, 3904.705627192854, 3290.342404760084, 2726.6620494634653, 2911.973218960171, 2381.8911776668933, 2048.326521726967, 1967.922758084164, 2087.768315463738, 1834.0868596551502, 1628.9642605054567, 1554.3911470838275, 1424.8065375039594, 1393.553845647136, 1334.326886447562, 1299.035681992036, 1339.795647596595, 1252.4180757773108, 1281.3163100687982, 1070.9169083213812, 1110.819475201176, 958.4541300797478, 974.7772637634484, 922.5658086551895, 937.9638255753758, 1030.0981206134575, 902.5805754210662, 913.1250426148589, 10730.637940610577, 100137.23827452528, 6855.599471212659, 3659.1088216691446, 21175.94365557639, 10390.100081659843, 10513.93247048969, 13083.463011028438, 11913.202347979632, 2462.830391896703, 18283.26723338133, 23882.40721142275, 2045.9608080801227, 14335.453960874116, 1586.8677259966666, 24985.85564770003, 11373.540776157326, 8841.341695622288, 12882.2071784596, 10615.438603198007, 6462.148346523294, 6574.5222864442085, 4363.042615285118, 49755.730087555996, 8032.898937231171, 26706.009539628834, 5841.411035095467, 9904.366033243236, 46047.092812787516, 25753.668551106173, 27092.26984373157, 54521.46494941546, 114263.09479920114, 42122.95071659234, 309172.4610390703, 73490.58338405291, 115894.0250009102, 41428.82472199705, 51335.853484199186, 655268.6340391843, 109674.71898783577, 108856.82935123103, 105121.34014937597, 32467.295187290838, 52010.800084169816, 54393.832120162464, 31898.786094060397, 27919.826638854713, 122234.51907089203, 88173.76554033185, 71728.9528893302, 45816.688328371914, 125040.67519895943, 198397.6534947708, 100210.26869961464, 47170.65986081313, 82712.998387766, 98630.98963011768, 71774.48458626223, 153774.40609536623, 90430.67524059, 142316.46843039282, 152128.97515587957, 76379.94833968817, 90436.42286208092, 78838.90010375684, 65466.012978872626, 80286.54934576723, 65629.40964697135, 76140.17492239756, 92132.26555448247, 108507.99055578408, 78545.11298746878, 96012.91705652574, 82455.0990482534, 75668.14957092643, 40411.48797650671, 29543.056743687328, 17105.946442765435, 12358.261260913305, 10298.725010004386, 10200.847937200333, 8213.306095449443, 6653.993300103147, 6458.905405289072, 4863.604955332985, 3995.740828694113, 4262.828469413724, 3747.0197449605453, 3454.1679725658564, 3365.290903110177, 4471.253458010669, 3068.6534105628957, 2865.3289481753964, 2820.330616722218, 2607.4098396728014, 2581.018780606375, 2552.0191755348196, 2457.853951062605, 3886.591702510947, 2203.6760430031363, 2613.9195481055426, 2155.1443633781564, 2074.7503349662907, 2798.3819786331924, 2069.757807673498, 734143.9655356, 23492.281631928618, 27262.76003364122, 20762.206089044674, 13192.831947789073, 27996.674044906136, 10103.157369677578, 11162.761284273503, 3910.041932819572, 23240.56241962191, 17321.728559122945, 147845.711580456, 37702.74369428967, 65629.17265969428, 20803.372074024937, 29061.965247055832, 161718.5766131536, 20051.456932537483, 39958.374519121346, 79233.10606496787, 26085.87126172844, 15938.7435866964, 196829.96199986423, 83704.10055028372, 103888.76270059576, 234039.93177634815, 51641.79787838347, 93129.09775254628, 45438.313141119375, 22104.675597923913, 84031.63977706662, 234623.0326736428, 248760.85205246444, 144114.37457024836, 99049.62926051537, 120152.176029205, 59225.85762525252, 105603.04734062751, 172116.3853626615, 77509.25797340358, 38849.70623323481, 66266.93533377003, 112007.75554705004, 67714.40506896791, 86608.99895329044, 160804.6018645285, 95198.5873184372, 87607.84933426675, 90906.0177169299, 66240.22687866766, 85770.88466607004, 64342.960334219286, 34675.47103864943, 22076.781883516167, 9803.246728854388, 9050.640302738942, 8744.149041255107, 7846.36212450423, 5879.410637932426, 5030.140069138617, 4796.02389756999, 4797.56186026197, 4020.174711445054, 3841.5252042062634, 3572.548279328812, 3457.395115728528, 3351.0760735807235, 3335.2424289180494, 3326.894797736789, 3320.867258979207, 3123.4446460000013, 2928.3516879068075, 2899.4296221430495, 2677.812784152166, 2669.6834958608556, 2664.8903116161628, 2669.307173124437, 3121.434935166233, 2531.494758934976, 2404.4008689315992, 2398.2771078967858, 2398.4884781579503, 16094.253636138024, 6987.991677492256, 6895.039762378966, 3403.5672183811034, 6859.494496141431, 3940.819422462282, 9734.140407313533, 21016.868996002948, 10495.208815722312, 6729.50397692285, 19364.913784288816, 13783.65833130095, 26090.438980009047, 18065.510621375513, 19705.40119311215, 17376.997395922557, 24570.97805890116, 32769.133610194425, 25086.89999543956, 44003.267359048456, 14679.11917908919, 37052.75654954442, 50184.25494969713, 38528.54411143125, 27423.223105185054, 42003.16679992554, 15167.721160740632, 26319.195391439716, 53300.01755173788, 22111.63387123452, 61641.041071525586, 48877.981157597176, 67668.06983111663, 49467.12127447986, 21595.068062232327, 69729.30958691284, 88401.5217872466, 44061.78644104235, 49480.40672214861, 29984.190767557793, 54992.71363422412, 24439.382639754265, 32643.460542719447, 26076.99415796807, 28089.937104004955, 30480.778999001475, 26491.671930806267, 29342.648357087244, 30965.90502559467, 32651.327261732513], \"Total\": [750603.0, 647344.0, 315665.0, 379661.0, 290187.0, 251094.0, 216775.0, 469666.0, 431585.0, 186952.0, 142989.0, 159166.0, 240597.0, 459709.0, 254084.0, 162982.0, 169240.0, 185310.0, 97032.0, 463677.0, 515083.0, 163167.0, 74667.0, 85278.0, 129467.0, 110936.0, 169923.0, 70697.0, 219470.0, 131037.0, 16911.57436152533, 13580.388723915625, 12457.257151528745, 9726.282642609533, 9149.160766112986, 8962.391096061532, 8592.250408159975, 5860.006659402313, 5989.256356496144, 6102.129530440748, 4943.778963782272, 4966.28225370999, 4586.282736214154, 7285.763764801277, 4562.9851763151055, 4065.8618191623955, 4644.321849442053, 4462.415498379474, 4672.26353437457, 3867.9119780023752, 3722.736791413535, 3559.8373284243467, 3432.785341155741, 3421.326162518095, 3463.7035674829744, 3721.8563638954543, 5694.114079112271, 9041.808088176269, 3164.743825706949, 3196.8500087678167, 23777.291810557614, 18448.889523121896, 19469.18349411761, 14028.405693254837, 13450.418576708473, 12282.02434769145, 9047.069720279056, 10600.196809072686, 8183.092914565934, 7107.558464975475, 7052.217844970196, 29051.19951792179, 8463.61509757743, 9698.411436238146, 6205.138454747192, 5767.47704275627, 6475.284464647077, 165066.88783166706, 24461.712281237804, 23917.959766046326, 33465.30221049309, 36428.415743779726, 24399.197321884498, 22029.501687695996, 18537.35049543205, 164508.89371022227, 28121.870503706992, 44183.48991021479, 21731.07239667871, 24997.92073697946, 128669.6866650898, 17167.275423179348, 17758.010994591725, 12078.872758231933, 132245.8218782112, 61407.85065085061, 53913.66803984268, 36577.75525264588, 191841.2604321385, 144158.27152773348, 93696.87580633174, 97407.65187355818, 130725.21701233088, 58856.070396938405, 125006.55959684002, 248833.23637701033, 71633.11404724038, 237341.5304261104, 158412.76509271195, 80298.85441373708, 80695.9351252752, 647344.935444006, 151882.73984857762, 131037.81520058977, 91803.55348241735, 44873.66713022521, 52827.09329808698, 77100.17069669007, 94053.88934621817, 82259.13528429405, 455979.1864256524, 145679.9839763085, 126115.04893114133, 515083.3744470806, 124094.21338282854, 1217850.0152676506, 186126.47787093502, 163167.05563987067, 202950.34616236194, 186345.1577493898, 161522.73012711553, 178411.60059083137, 177346.95354375296, 207342.1556420739, 459709.34768678085, 431585.6915269138, 469666.8996072952, 386113.6411324006, 15233.655550497198, 14717.947857232602, 4927.676891611925, 3905.489762179127, 3291.1131818222875, 2727.4243174834487, 2912.788690711272, 2382.651295508763, 2049.0884803354866, 1968.7024235130557, 2088.603474933779, 1834.8627487210802, 1629.7679579742573, 1555.161649870938, 1425.5711054931783, 1394.3153333160928, 1335.0948996577793, 1299.8018791210234, 1340.5881019384565, 1253.1742270161446, 1282.2222099674907, 1071.674713437896, 1111.6326846406284, 959.2232340352269, 975.5754438187641, 923.3331952386986, 938.7492626925367, 1030.9677942673832, 903.3448015922223, 913.9050892418081, 10742.491869380297, 103021.63849122249, 6876.143201256728, 3666.646392966044, 21661.612131634076, 10554.64686236263, 10683.76708192007, 13328.929032317783, 12135.816687532832, 2469.462719891761, 18711.27651750976, 24513.202697396013, 2051.1945928411556, 14674.428034836064, 1588.6837525247483, 25734.370346740812, 11639.164116634254, 9026.580076041262, 13275.781091724557, 10932.322059276634, 6591.704079764314, 6712.899206460734, 4423.955698489166, 54234.34462938406, 8276.142375611671, 28683.415583411166, 5988.09721632914, 10395.89362686034, 51935.9414713951, 28372.005897295203, 30076.416657145997, 63736.42044393389, 141827.7335248945, 50917.921450376874, 463677.846808877, 95347.41989875874, 162136.35878025246, 52392.61370175891, 66919.95938965102, 1217850.0152676506, 161178.23900486605, 162821.17717832193, 158949.25597378294, 39972.05115460257, 69673.66373652943, 74802.64376117827, 39331.494028922956, 33513.25449574919, 203113.25134731585, 137533.60331265326, 107472.82880201747, 61877.4051183615, 240597.4573483376, 459709.34768678085, 185664.2623168226, 66335.86029960352, 147725.75174131675, 196251.14529553353, 123721.44647278581, 386113.6411324006, 176377.02588382066, 379661.53694815905, 455979.1864256524, 145528.7803113931, 207342.1556420739, 162371.20320372534, 116096.57197103152, 185310.46301768336, 117607.01670846142, 169240.95081716205, 290187.9410361285, 647344.935444006, 216775.6815654572, 469666.8996072952, 515083.3744470806, 431585.6915269138, 40412.24956171236, 29543.83882059232, 17106.71149767392, 12359.068100396042, 10299.488882194568, 10201.61422409018, 8214.088795307967, 6654.753107298861, 6459.792525446028, 4864.366088660819, 3996.502011764802, 4263.642846610967, 3747.7817638009506, 3454.9283819672046, 3366.052470036724, 4472.3313242462455, 3069.412900481896, 2866.0904325245983, 2821.093955932206, 2608.170905738411, 2581.7778859176246, 2552.7803225068706, 2458.6130547761386, 3887.8451929811354, 2204.436208952252, 2614.8363511015873, 2155.9033893940255, 2075.525018904778, 2799.430609191948, 2070.5371550119485, 750603.0367582476, 23503.952850651327, 27343.94895360003, 20790.4186745182, 13235.832997049516, 28464.230319987448, 10184.780844771733, 11285.454022134303, 3911.5498242696844, 24002.549506149186, 17837.440285384986, 159166.9734792346, 39576.851935080915, 71266.85798326362, 21894.320869907013, 30916.189880448997, 186952.3723654775, 21280.89867226094, 44023.78962644846, 91527.27369243896, 28890.125163693243, 17155.207689180563, 251094.86476643206, 101123.8065398452, 129467.90894380271, 315665.8993153586, 61044.9931787897, 118445.86085603938, 53892.175483503896, 24743.68740405231, 116330.8256335688, 431585.6915269138, 469666.8996072952, 254084.0863748814, 168342.5887357054, 219470.64923410973, 89154.26263885014, 216830.9583882818, 515083.3744470806, 158237.69947518443, 55161.2784946617, 144591.97310630392, 386113.6411324006, 155557.7987505395, 290187.9410361285, 1217850.0152676506, 463677.846808877, 379661.53694815905, 459709.34768678085, 203113.25134731585, 647344.935444006, 185664.2623168226, 34676.246633206254, 22077.552900622246, 9804.018778651558, 9051.426012701011, 8744.935224160328, 7847.130916065104, 5880.180795125391, 5030.908620143041, 4796.793126157248, 4798.331841324726, 4020.9490373310086, 3842.296455718362, 3573.31950434244, 3458.176344282145, 3351.847592899542, 3336.0232376949443, 3327.679983817812, 3321.66085648766, 3124.2132172113998, 2929.120236335479, 2900.2007314770635, 2678.5826011305426, 2670.4530747159206, 2665.6587541550484, 2670.0771622078623, 3122.353834741667, 2532.2661605468184, 2405.1696879217807, 2399.0457129986858, 2399.25717819821, 16158.171734583528, 7058.839976463916, 7095.022726759311, 3434.3106741951947, 7091.84603861471, 3998.856760699848, 10421.239236579853, 23513.50703679661, 11288.110304854477, 7099.432957611278, 23857.82304228781, 16699.74318765445, 36079.13660037685, 24331.760023484352, 27089.246015350895, 23448.640157082813, 35425.718844839845, 50567.83822559248, 37184.20303805519, 74667.27712387056, 20005.8522499909, 62862.16787431219, 97032.49921637987, 70697.96588512276, 46032.93151590484, 85278.80476971965, 21391.918571530696, 49993.158996822225, 142989.25063882722, 41712.86425172313, 216775.6815654572, 162982.59369298906, 290187.9410361285, 169240.95081716205, 41643.566967548075, 379661.53694815905, 647344.935444006, 185310.46301768336, 240597.4573483376, 94499.62560469001, 459709.34768678085, 58639.536479190814, 169923.13736993028, 79194.55333114152, 110936.40642649886, 163167.05563987067, 106933.01136613684, 254084.0863748814, 515083.3744470806, 1217850.0152676506], \"Category\": [\"Default\", \"Default\", \"Default\", \"Default\", \"Default\", \"Default\", \"Default\", \"Default\", \"Default\", \"Default\", \"Default\", \"Default\", \"Default\", \"Default\", \"Default\", \"Default\", \"Default\", \"Default\", \"Default\", \"Default\", \"Default\", \"Default\", \"Default\", \"Default\", \"Default\", \"Default\", \"Default\", \"Default\", \"Default\", \"Default\", \"Topic1\", \"Topic1\", \"Topic1\", \"Topic1\", \"Topic1\", \"Topic1\", \"Topic1\", \"Topic1\", \"Topic1\", \"Topic1\", \"Topic1\", \"Topic1\", \"Topic1\", \"Topic1\", \"Topic1\", \"Topic1\", \"Topic1\", \"Topic1\", \"Topic1\", \"Topic1\", \"Topic1\", \"Topic1\", \"Topic1\", \"Topic1\", \"Topic1\", \"Topic1\", \"Topic1\", \"Topic1\", \"Topic1\", \"Topic1\", \"Topic1\", \"Topic1\", \"Topic1\", \"Topic1\", \"Topic1\", \"Topic1\", \"Topic1\", \"Topic1\", \"Topic1\", \"Topic1\", \"Topic1\", \"Topic1\", \"Topic1\", \"Topic1\", \"Topic1\", \"Topic1\", \"Topic1\", \"Topic1\", \"Topic1\", \"Topic1\", \"Topic1\", \"Topic1\", \"Topic1\", \"Topic1\", \"Topic1\", \"Topic1\", \"Topic1\", \"Topic1\", \"Topic1\", \"Topic1\", \"Topic1\", \"Topic1\", \"Topic1\", \"Topic1\", \"Topic1\", \"Topic1\", \"Topic1\", \"Topic1\", \"Topic1\", \"Topic1\", \"Topic1\", \"Topic1\", \"Topic1\", \"Topic1\", \"Topic1\", \"Topic1\", \"Topic1\", \"Topic1\", \"Topic1\", \"Topic1\", \"Topic1\", \"Topic1\", \"Topic1\", \"Topic1\", \"Topic1\", \"Topic1\", \"Topic1\", \"Topic1\", \"Topic1\", \"Topic1\", \"Topic1\", \"Topic1\", \"Topic1\", \"Topic1\", \"Topic1\", \"Topic1\", \"Topic1\", \"Topic1\", \"Topic1\", \"Topic1\", \"Topic1\", \"Topic1\", \"Topic1\", \"Topic1\", \"Topic1\", \"Topic1\", \"Topic1\", \"Topic1\", \"Topic2\", \"Topic2\", \"Topic2\", \"Topic2\", \"Topic2\", \"Topic2\", \"Topic2\", \"Topic2\", \"Topic2\", \"Topic2\", \"Topic2\", \"Topic2\", \"Topic2\", \"Topic2\", \"Topic2\", \"Topic2\", \"Topic2\", \"Topic2\", \"Topic2\", \"Topic2\", \"Topic2\", \"Topic2\", \"Topic2\", \"Topic2\", \"Topic2\", \"Topic2\", \"Topic2\", \"Topic2\", \"Topic2\", \"Topic2\", \"Topic2\", \"Topic2\", \"Topic2\", \"Topic2\", \"Topic2\", \"Topic2\", \"Topic2\", \"Topic2\", \"Topic2\", \"Topic2\", \"Topic2\", \"Topic2\", \"Topic2\", \"Topic2\", \"Topic2\", \"Topic2\", \"Topic2\", \"Topic2\", \"Topic2\", \"Topic2\", \"Topic2\", \"Topic2\", \"Topic2\", \"Topic2\", \"Topic2\", \"Topic2\", \"Topic2\", \"Topic2\", \"Topic2\", \"Topic2\", \"Topic2\", \"Topic2\", \"Topic2\", \"Topic2\", \"Topic2\", \"Topic2\", \"Topic2\", \"Topic2\", \"Topic2\", \"Topic2\", \"Topic2\", \"Topic2\", \"Topic2\", \"Topic2\", \"Topic2\", \"Topic2\", \"Topic2\", \"Topic2\", \"Topic2\", \"Topic2\", \"Topic2\", \"Topic2\", \"Topic2\", \"Topic2\", \"Topic2\", \"Topic2\", \"Topic2\", \"Topic2\", \"Topic2\", \"Topic2\", \"Topic2\", \"Topic2\", \"Topic2\", \"Topic2\", \"Topic2\", \"Topic2\", \"Topic2\", \"Topic2\", \"Topic2\", \"Topic2\", \"Topic2\", \"Topic2\", \"Topic2\", \"Topic2\", \"Topic2\", \"Topic2\", \"Topic3\", \"Topic3\", \"Topic3\", \"Topic3\", \"Topic3\", \"Topic3\", \"Topic3\", \"Topic3\", \"Topic3\", \"Topic3\", \"Topic3\", \"Topic3\", \"Topic3\", \"Topic3\", \"Topic3\", \"Topic3\", \"Topic3\", \"Topic3\", \"Topic3\", \"Topic3\", \"Topic3\", \"Topic3\", \"Topic3\", \"Topic3\", \"Topic3\", \"Topic3\", \"Topic3\", \"Topic3\", \"Topic3\", \"Topic3\", \"Topic3\", \"Topic3\", \"Topic3\", \"Topic3\", \"Topic3\", \"Topic3\", \"Topic3\", \"Topic3\", \"Topic3\", \"Topic3\", \"Topic3\", \"Topic3\", \"Topic3\", \"Topic3\", \"Topic3\", \"Topic3\", \"Topic3\", \"Topic3\", \"Topic3\", \"Topic3\", \"Topic3\", \"Topic3\", \"Topic3\", \"Topic3\", \"Topic3\", \"Topic3\", \"Topic3\", \"Topic3\", \"Topic3\", \"Topic3\", \"Topic3\", \"Topic3\", \"Topic3\", \"Topic3\", \"Topic3\", \"Topic3\", \"Topic3\", \"Topic3\", \"Topic3\", \"Topic3\", \"Topic3\", \"Topic3\", \"Topic3\", \"Topic3\", \"Topic3\", \"Topic3\", \"Topic3\", \"Topic3\", \"Topic3\", \"Topic3\", \"Topic3\", \"Topic3\", \"Topic4\", \"Topic4\", \"Topic4\", \"Topic4\", \"Topic4\", \"Topic4\", \"Topic4\", \"Topic4\", \"Topic4\", \"Topic4\", \"Topic4\", \"Topic4\", \"Topic4\", \"Topic4\", \"Topic4\", \"Topic4\", \"Topic4\", \"Topic4\", \"Topic4\", \"Topic4\", \"Topic4\", \"Topic4\", \"Topic4\", \"Topic4\", \"Topic4\", \"Topic4\", \"Topic4\", \"Topic4\", \"Topic4\", \"Topic4\", \"Topic4\", \"Topic4\", \"Topic4\", \"Topic4\", \"Topic4\", \"Topic4\", \"Topic4\", \"Topic4\", \"Topic4\", \"Topic4\", \"Topic4\", \"Topic4\", \"Topic4\", \"Topic4\", \"Topic4\", \"Topic4\", \"Topic4\", \"Topic4\", \"Topic4\", \"Topic4\", \"Topic4\", \"Topic4\", \"Topic4\", \"Topic4\", \"Topic4\", \"Topic4\", \"Topic4\", \"Topic4\", \"Topic4\", \"Topic4\", \"Topic4\", \"Topic4\", \"Topic4\", \"Topic4\", \"Topic4\", \"Topic4\", \"Topic4\", \"Topic4\", \"Topic4\", \"Topic4\", \"Topic4\", \"Topic4\", \"Topic4\", \"Topic4\", \"Topic4\", \"Topic4\", \"Topic4\", \"Topic4\", \"Topic4\", \"Topic4\"], \"logprob\": [30.0, 29.0, 28.0, 27.0, 26.0, 25.0, 24.0, 23.0, 22.0, 21.0, 20.0, 19.0, 18.0, 17.0, 16.0, 15.0, 14.0, 13.0, 12.0, 11.0, 10.0, 9.0, 8.0, 7.0, 6.0, 5.0, 4.0, 3.0, 2.0, 1.0, -7.7811, -8.0005, -8.0868, -8.3343, -8.3955, -8.4161, -8.4583, -8.8411, -8.8192, -8.8006, -9.0111, -9.0066, -9.0862, -8.6233, -9.0913, -9.2066, -9.0736, -9.1136, -9.0676, -9.2566, -9.2948, -9.3396, -9.3759, -9.3793, -9.367, -9.2951, -8.8699, -8.4075, -9.4573, -9.4472, -7.4412, -7.6949, -7.6448, -7.9694, -8.011, -8.1034, -8.407, -8.2507, -8.508, -8.6485, -8.6562, -7.2549, -8.4761, -8.3419, -8.7847, -8.8572, -8.7428, -5.5525, -7.4338, -7.4563, -7.1303, -7.0529, -7.4431, -7.543, -7.7183, -5.6184, -7.3207, -6.8926, -7.5709, -7.4393, -5.8876, -7.8029, -7.7719, -8.1351, -5.8857, -6.6075, -6.7366, -7.1003, -5.6151, -5.8726, -6.2654, -6.2338, -5.9747, -6.6905, -6.0284, -5.4356, -6.5388, -5.5123, -5.8727, -6.4506, -6.4475, -4.7101, -5.9514, -6.0746, -6.3778, -6.9498, -6.8218, -6.5287, -6.3758, -6.4809, -5.1946, -6.0511, -6.1714, -5.173, -6.1929, -4.6979, -5.9878, -6.0776, -5.9617, -6.0119, -6.0904, -6.0443, -6.0479, -6.0144, -5.8606, -5.9014, -5.8879, -5.9953, -7.6889, -7.7234, -8.8177, -9.0502, -9.2214, -9.4093, -9.3436, -9.5445, -9.6954, -9.7354, -9.6763, -9.8058, -9.9244, -9.9713, -10.0584, -10.0805, -10.124, -10.1508, -10.1199, -10.1873, -10.1645, -10.3439, -10.3073, -10.4548, -10.4379, -10.493, -10.4764, -10.3827, -10.5149, -10.5033, -8.0393, -5.8058, -8.4873, -9.1152, -7.3595, -8.0715, -8.0597, -7.841, -7.9347, -9.5111, -7.5064, -7.2392, -9.6965, -7.7497, -9.9506, -7.1941, -7.9811, -8.233, -7.8565, -8.0501, -8.5464, -8.5292, -8.9392, -6.5053, -8.3288, -7.1275, -8.6474, -8.1194, -6.5827, -7.1638, -7.1131, -6.4138, -5.6739, -6.6718, -4.6785, -6.1152, -5.6597, -6.6884, -6.474, -3.9273, -5.7149, -5.7224, -5.7573, -6.9322, -6.4609, -6.4161, -6.9498, -7.0831, -5.6064, -5.9331, -6.1395, -6.5877, -5.5838, -5.1221, -5.8051, -6.5586, -5.997, -5.821, -6.1389, -5.3769, -5.9078, -5.4543, -5.3877, -6.0767, -5.9077, -6.045, -6.2309, -6.0268, -6.2284, -6.0798, -5.8892, -5.7256, -6.0487, -5.8479, -6.0001, -6.086, -6.1689, -6.4821, -7.0285, -7.3536, -7.5359, -7.5455, -7.7622, -7.9727, -8.0025, -8.2862, -8.4827, -8.418, -8.547, -8.6284, -8.6545, -8.3703, -8.7467, -8.8153, -8.8311, -8.9096, -8.9198, -8.9311, -8.9687, -8.5104, -9.0778, -8.9071, -9.1001, -9.1381, -8.8389, -9.1405, -3.2693, -6.7113, -6.5624, -6.8348, -7.2883, -6.5359, -7.5551, -7.4554, -8.5044, -6.7221, -7.016, -4.8718, -6.2382, -5.6839, -6.8329, -6.4985, -4.7821, -6.8697, -6.1801, -5.4956, -6.6066, -7.0992, -4.5856, -5.4407, -5.2246, -4.4125, -5.9236, -5.334, -6.0516, -6.7722, -5.4368, -4.41, -4.3515, -4.8974, -5.2723, -5.0792, -5.7866, -5.2083, -4.7198, -5.5176, -6.2083, -5.6743, -5.1494, -5.6527, -5.4066, -4.7878, -5.312, -5.3951, -5.3581, -5.6747, -5.4163, -5.7037, -5.2853, -5.7368, -6.5486, -6.6284, -6.6629, -6.7712, -7.0598, -7.2158, -7.2635, -7.2632, -7.44, -7.4854, -7.558, -7.5908, -7.622, -7.6267, -7.6292, -7.6311, -7.6923, -7.7568, -7.7668, -7.8463, -7.8493, -7.8511, -7.8495, -7.693, -7.9025, -7.954, -7.9565, -7.9564, -6.0528, -6.8871, -6.9005, -7.6065, -6.9057, -7.4599, -6.5556, -5.786, -6.4804, -6.9248, -5.8678, -6.2078, -5.5697, -5.9373, -5.8504, -5.9761, -5.6297, -5.3418, -5.6089, -5.047, -6.1449, -5.2189, -4.9156, -5.1799, -5.5199, -5.0935, -6.1121, -5.561, -4.8553, -5.7352, -4.71, -4.942, -4.6167, -4.93, -5.7588, -4.5867, -4.3494, -5.0457, -4.9297, -5.4306, -4.8241, -5.6351, -5.3456, -5.5702, -5.4959, -5.4142, -5.5545, -5.4522, -5.3984, -5.3454], \"loglift\": [30.0, 29.0, 28.0, 27.0, 26.0, 25.0, 24.0, 23.0, 22.0, 21.0, 20.0, 19.0, 18.0, 17.0, 16.0, 15.0, 14.0, 13.0, 12.0, 11.0, 10.0, 9.0, 8.0, 7.0, 6.0, 5.0, 4.0, 3.0, 2.0, 1.0, 0.903, 0.903, 0.903, 0.9029, 0.9029, 0.9029, 0.9029, 0.9029, 0.9029, 0.9029, 0.9029, 0.9029, 0.9029, 0.9028, 0.9028, 0.9028, 0.9028, 0.9028, 0.9028, 0.9028, 0.9028, 0.9028, 0.9028, 0.9028, 0.9028, 0.9028, 0.9028, 0.9028, 0.9028, 0.9028, 0.9022, 0.9022, 0.8985, 0.9016, 0.9021, 0.9005, 0.9027, 0.9005, 0.902, 0.9025, 0.9025, 0.8882, 0.9002, 0.8982, 0.902, 0.9026, 0.9013, 0.8533, 0.8812, 0.8811, 0.8713, 0.8638, 0.8744, 0.8768, 0.874, 0.7907, 0.8549, 0.8312, 0.8624, 0.854, 0.7672, 0.8662, 0.8634, 0.8855, 0.7417, 0.7871, 0.7881, 0.8124, 0.6404, 0.6686, 0.7066, 0.6994, 0.6643, 0.7465, 0.6554, 0.5597, 0.7017, 0.5303, 0.5742, 0.6758, 0.674, 0.3291, 0.5376, 0.562, 0.6147, 0.7585, 0.7232, 0.6383, 0.5924, 0.6213, 0.195, 0.4796, 0.5035, 0.0948, 0.4981, -0.2907, 0.2979, 0.3397, 0.2375, 0.2726, 0.337, 0.2837, 0.2861, 0.1634, -0.4791, -0.4567, -0.5278, -0.4393, 1.0997, 1.0997, 1.0996, 1.0995, 1.0995, 1.0994, 1.0994, 1.0994, 1.0993, 1.0993, 1.0993, 1.0993, 1.0992, 1.0992, 1.0992, 1.0992, 1.0991, 1.0991, 1.0991, 1.0991, 1.099, 1.099, 1.099, 1.0989, 1.0989, 1.0989, 1.0989, 1.0989, 1.0989, 1.0989, 1.0986, 1.0713, 1.0967, 1.0977, 1.077, 1.084, 1.0837, 1.0811, 1.0812, 1.097, 1.0766, 1.0736, 1.0972, 1.0763, 1.0986, 1.0702, 1.0766, 1.079, 1.0696, 1.0703, 1.0799, 1.0789, 1.0858, 1.0135, 1.0699, 1.0283, 1.0749, 1.0513, 0.9794, 1.0029, 0.9952, 0.9435, 0.8836, 0.9101, 0.6944, 0.8393, 0.7639, 0.8649, 0.8346, 0.4799, 0.7147, 0.6971, 0.6862, 0.8918, 0.8073, 0.7811, 0.8903, 0.9171, 0.5919, 0.6552, 0.6954, 0.7992, 0.4452, 0.2594, 0.483, 0.7588, 0.5197, 0.4117, 0.5552, 0.1791, 0.4317, 0.1185, 0.002, 0.4551, 0.27, 0.3772, 0.5268, 0.2633, 0.5164, 0.301, -0.0476, -0.6863, 0.0845, -0.4878, -0.7324, -0.6414, 1.6441, 1.6441, 1.6441, 1.6441, 1.6441, 1.6441, 1.644, 1.644, 1.644, 1.644, 1.6439, 1.6439, 1.6439, 1.6439, 1.6439, 1.6439, 1.6439, 1.6439, 1.6439, 1.6438, 1.6438, 1.6438, 1.6438, 1.6438, 1.6438, 1.6438, 1.6438, 1.6438, 1.6438, 1.6438, 1.622, 1.6436, 1.6412, 1.6428, 1.6409, 1.6276, 1.6361, 1.6332, 1.6438, 1.6119, 1.6148, 1.5704, 1.5956, 1.5617, 1.593, 1.5823, 1.4991, 1.5846, 1.5472, 1.4999, 1.542, 1.5706, 1.4006, 1.4551, 1.424, 1.3449, 1.4769, 1.4037, 1.4735, 1.5314, 1.3189, 1.0346, 1.0086, 1.0771, 1.1138, 1.0417, 1.2351, 0.9247, 0.548, 0.9304, 1.2936, 0.8639, 0.4066, 0.8124, 0.435, -0.3805, 0.0609, 0.1777, 0.0234, 0.5237, -0.3771, 0.5844, 2.6808, 2.6808, 2.6807, 2.6807, 2.6807, 2.6807, 2.6807, 2.6807, 2.6807, 2.6807, 2.6806, 2.6806, 2.6806, 2.6806, 2.6806, 2.6806, 2.6806, 2.6806, 2.6806, 2.6806, 2.6806, 2.6805, 2.6805, 2.6805, 2.6805, 2.6805, 2.6805, 2.6805, 2.6805, 2.6805, 2.6769, 2.6707, 2.6522, 2.6718, 2.6475, 2.6662, 2.6126, 2.5686, 2.608, 2.6273, 2.4722, 2.4889, 2.3567, 2.383, 2.3626, 2.3812, 2.3149, 2.247, 2.2873, 2.152, 2.3712, 2.1522, 2.0215, 2.0738, 2.1628, 1.9726, 2.337, 2.0392, 1.694, 2.0461, 1.4233, 1.4765, 1.2249, 1.4508, 2.0241, 0.9862, 0.6898, 1.2444, 1.0993, 1.5329, 0.5574, 1.8056, 1.0311, 1.57, 1.3073, 1.0031, 1.2854, 0.5222, -0.1306, -0.9381]}, \"token.table\": {\"Topic\": [2, 3, 2, 3, 3, 3, 1, 2, 3, 4, 3, 3, 3, 1, 2, 3, 4, 3, 4, 3, 1, 2, 3, 4, 1, 2, 3, 4, 1, 2, 3, 4, 1, 2, 3, 4, 2, 3, 4, 1, 2, 3, 4, 3, 3, 4, 1, 4, 1, 2, 1, 1, 1, 2, 3, 4, 1, 2, 3, 4, 1, 2, 3, 4, 4, 4, 1, 2, 1, 2, 3, 4, 1, 2, 3, 4, 1, 2, 3, 4, 1, 2, 3, 4, 1, 2, 3, 4, 2, 2, 2, 1, 2, 1, 2, 3, 4, 1, 2, 3, 1, 4, 1, 1, 2, 3, 4, 1, 1, 2, 3, 4, 1, 2, 3, 4, 1, 2, 3, 2, 3, 1, 2, 3, 4, 3, 3, 4, 1, 2, 3, 4, 1, 2, 3, 4, 2, 3, 2, 3, 4, 1, 2, 3, 4, 1, 2, 3, 4, 1, 2, 3, 4, 1, 2, 4, 4, 2, 1, 2, 1, 2, 3, 4, 2, 1, 1, 2, 3, 4, 1, 2, 3, 4, 1, 2, 3, 4, 1, 2, 3, 4, 4, 1, 2, 3, 4, 1, 2, 3, 4, 1, 2, 3, 4, 1, 2, 3, 4, 1, 2, 3, 4, 1, 2, 3, 2, 3, 3, 1, 2, 3, 4, 1, 2, 3, 4, 1, 2, 3, 4, 2, 1, 1, 2, 3, 4, 2, 4, 1, 2, 3, 2, 3, 3, 1, 2, 3, 4, 1, 1, 2, 3, 2, 1, 2, 4, 2, 3, 1, 2, 2, 3, 1, 3, 4, 1, 2, 3, 4, 1, 2, 1, 2, 3, 3, 1, 2, 3, 4, 4, 1, 2, 3, 4, 1, 2, 3, 4, 1, 2, 3, 4, 1, 2, 3, 3, 1, 2, 3, 4, 2, 1, 2, 3, 2, 1, 2, 3, 4, 3, 1, 2, 3, 4, 1, 2, 3, 4, 4, 1, 2, 3, 4, 1, 2, 3, 4, 1, 4, 3, 2, 2, 1, 2, 3, 4, 1, 2, 3, 4, 1, 2, 3, 4, 1, 2, 3, 4, 1, 2, 4, 1, 1, 2, 3, 4, 1, 1, 2, 3, 4, 1, 2, 3, 1, 2, 3, 4, 1, 2, 3, 4, 1, 2, 3, 4, 1, 2, 3, 4, 1, 2, 3, 4, 1, 2, 3, 4, 1, 4, 1, 2, 3, 4, 1, 1, 2, 3, 4, 1, 2, 3, 4, 1, 2, 3, 4, 1, 1, 2, 3, 4, 2, 1, 2, 3, 4, 1, 2, 3, 4, 1, 2, 3, 4, 3, 4, 1, 2, 3, 4, 1, 2, 3, 4, 1, 2, 3, 4, 1, 2, 3, 4, 4, 4, 2, 4, 1, 2, 3, 4, 2, 1, 2, 3, 4, 1, 2, 3, 4, 1, 1, 1, 2, 3, 4, 2, 1, 2, 4, 3, 1, 2, 1, 2, 3, 4, 4, 1, 2, 4, 2, 3, 2, 1, 2, 3, 4, 3, 1, 2, 3, 4, 1, 2, 3, 4, 1, 2, 3, 4, 1, 2, 3, 4, 1, 1, 2, 3, 4, 1, 2, 3, 4, 1, 2, 3, 4, 1, 4, 1, 2, 3, 4, 1, 4, 4, 1, 2, 3, 4, 1, 2, 3, 4, 3, 4, 1, 2, 3, 4, 2, 1, 2, 1, 2, 3, 4, 1, 2, 3, 1, 2, 3, 4, 1, 2, 3, 4, 2, 3, 1, 3, 1, 2, 3, 4, 3, 2, 1, 4, 1, 4, 3, 2, 1, 2, 3, 4, 2, 1, 2, 3, 4, 1, 2, 3, 4, 1, 2, 3, 4, 1, 2, 3, 4, 1, 2, 3, 4, 1, 2, 3, 4, 4, 1, 2, 3, 4, 1, 2, 3, 4, 1, 2, 3, 4, 1, 2, 3, 4, 1, 2, 3, 4, 1, 2, 3, 4, 1, 2, 3, 4, 2, 3, 1, 2, 3, 4, 1, 2, 3, 4, 3, 1, 3, 4, 2, 2, 3, 4, 1, 2, 3, 4, 1, 2, 3, 4, 4, 1, 2, 3, 4, 1, 1, 2, 3, 4, 1, 4, 1, 2, 3, 4, 4, 1, 1, 2, 3, 4, 1, 2, 3, 4, 1, 2, 3, 4, 3, 1, 2, 3, 4, 1, 2, 3, 1, 1, 2, 3, 4, 1, 2, 3, 4, 4, 1, 2, 3, 4, 1, 2, 1, 2, 3, 4, 2, 1, 2, 3, 4, 1, 2, 3, 4, 1, 2, 3, 4, 1, 2, 3, 4, 1, 2, 3, 4, 1, 2, 3, 4, 1, 2, 3, 4, 2, 3, 4, 3, 1, 2, 3, 4, 1, 2, 3, 4, 2, 3, 1, 2, 3, 4, 1, 2, 4, 4, 1, 2, 3, 4, 1, 2, 3, 4, 1, 2, 3, 4, 1, 2, 3, 4, 1, 2, 3, 4, 1, 2, 3, 4, 1, 2, 3, 4, 2, 3, 4, 2, 3, 4, 1, 2, 3, 4, 2, 3, 1, 2, 3, 4, 1, 2, 3, 4, 1, 3, 1, 2, 3, 1, 2, 3, 4, 1, 2, 3, 4, 1, 2, 3, 1, 2, 3, 4, 4, 2, 2, 2, 1, 2, 3, 4, 1, 2, 3, 4, 3, 1, 2, 1, 2, 3, 4, 1, 2, 3, 4, 1, 2, 3, 4, 1, 2, 3, 4, 1, 2, 4, 1, 2, 3, 1, 2, 3, 4, 1, 2, 3, 4, 1, 2, 3, 4, 1, 2, 3, 4, 2, 3, 2, 1, 2, 3, 4, 1, 2, 3, 4, 1, 2, 3, 4, 4, 1, 2, 3, 4, 1, 2, 3, 4, 4, 4, 1, 1, 2, 4, 1, 2, 3, 4, 1, 2, 3, 4, 1, 3, 1, 2, 3, 4, 2, 1, 3, 1, 2, 4, 4], \"Freq\": [0.9709739561681345, 0.028905112590591663, 0.9844005332902466, 0.015538179736246433, 0.9996943244587124, 0.9998654790035478, 0.17021242345860693, 0.21984929825514912, 0.588383490736896, 0.021557230569249828, 0.9998492259708202, 0.9998868316695273, 0.9998743872107848, 0.18846371082310215, 0.34084437055468497, 0.43529800848229827, 0.035395203867790034, 0.9997826063181062, 0.00025721188739853516, 0.9997312876376685, 0.2791456432877749, 0.5599091493867577, 0.11108422063565211, 0.04985589792697001, 0.7094068403810265, 0.24014074996583035, 0.03452111191040888, 0.01593436655701644, 0.022455947850952843, 0.008874057314012904, 0.9682721410092672, 0.00037496016819772834, 0.002596552536010068, 0.0001828558123950752, 0.997039602665387, 0.0001828558123950752, 0.0004254603497352951, 0.9994914535981553, 4.2546034973529514e-05, 0.0007854857283558271, 0.0070693715552024436, 0.9919702891973651, 9.818571604447839e-05, 0.9996987014561293, 0.9997506501582477, 0.9998558815856138, 0.008735377444275707, 0.9911741606771503, 0.9998951702490044, 0.0001372539698351413, 0.9997642195562976, 0.9997968742216916, 0.9615570505829958, 0.03417661664884748, 0.003980409167938061, 0.0002745109770991766, 0.951480954558043, 0.011565008737226401, 0.03683355323328262, 0.00012116300405685073, 0.30309561552936903, 0.5380539407851381, 0.1320400689609216, 0.02681036218801064, 0.9996932762088158, 0.9997639767820488, 0.9990767144800997, 0.0008921655435154931, 0.21031057141147844, 0.060676621197674196, 0.7042983966326987, 0.024709362023432904, 0.016587112325794847, 0.09479954587231929, 0.865027803358664, 0.023588895632620215, 0.9783861295088763, 0.02080802824217683, 0.0006132031898480402, 0.00020440106328268004, 0.8216709397987996, 0.11367508156851736, 0.05393989881206335, 0.010715405304177205, 0.12975132434361986, 0.3774690864746244, 0.45830344919133614, 0.034483242000814915, 0.9995613104893247, 0.9990468033091381, 0.9992530359329306, 0.9999709403253105, 0.9991799087405248, 0.2567300125451226, 0.1753255529215832, 0.5436301633863801, 0.024314985890456917, 0.9602379311565511, 0.0031291598849209506, 0.036629577476427595, 0.9999046678093225, 0.9998930553358767, 0.9999660373710305, 0.9954706115875762, 0.0031845197832118944, 0.0010272644461973852, 0.00030817933385921556, 0.9998424355562864, 0.9713901673508986, 0.028429089698113152, 5.3945141742150195e-05, 0.00010789028348430039, 0.24631370065617836, 0.18484529054440021, 0.04238579922774419, 0.526452029200094, 0.9997649649551705, 0.9999569669607518, 0.9998674478283471, 0.9841098106484029, 0.015818390526876554, 0.21073506851162727, 0.3748496651622431, 0.23075289823725928, 0.18366095380770994, 0.9999135775944137, 0.9986330879159719, 0.0013467742251058287, 0.02114158132774767, 0.0067653060248792545, 0.0001409438755183178, 0.9718080216988012, 0.06775610436813037, 0.8272725751590597, 0.06318011239196389, 0.041792750752284474, 0.9771113148208256, 0.022873907058103885, 0.979440710160669, 0.020495026736763237, 0.9997991906768632, 0.039599310028915376, 0.009956919938066381, 0.9501550709706189, 0.0002740436680201756, 0.9307096402652656, 0.062127278890330095, 0.0046850079163199745, 0.0024896177333101313, 0.8937632287467246, 0.10420713198762922, 6.078698710122454e-06, 0.002024206670470777, 0.0010239709867832143, 0.9989302417427884, 9.308827152574675e-05, 0.9999640493615286, 0.9996183056662146, 0.9998043454878508, 0.00017561994475458472, 0.02265688944026651, 0.6674152043781834, 0.11716449767221186, 0.19276500145133524, 0.9990629977932594, 0.9997153837557121, 0.7544693946211425, 0.14409341842745002, 0.09543013031768181, 0.006005412022539467, 0.26124174143179635, 0.39826098748805927, 0.29009076102957937, 0.05040484957465247, 0.19760969723042598, 0.372999876188196, 0.1816557838578877, 0.24774388808047157, 0.059138358646878345, 0.8110294507638747, 0.10831014954243412, 0.021534905319821995, 0.9996116727230023, 0.1254004442121024, 0.22961156705789948, 0.15244116090867132, 0.492537390895917, 0.37335704237783657, 0.1913276820520451, 0.24320996327903993, 0.1921045038671498, 0.31939776867287595, 0.48554792010182735, 0.14410806558255, 0.050944994166368364, 0.037752315602596585, 0.03952408492690618, 0.9076456238559293, 0.015060039256631491, 0.7806390345812445, 0.19919754675521412, 0.017519080655151155, 0.0026478610487922524, 0.007305405085374847, 0.9709194226764677, 0.02179963964306005, 0.9989401587810837, 0.0006294518958923022, 0.999680151646494, 0.2844268129105842, 0.10916098181285308, 0.010688000607348003, 0.5957256923888299, 0.03876533780351892, 0.8056463793094729, 0.11088804431355803, 0.044702117438033824, 0.07922310770896362, 0.6667819093100589, 0.20531280641328548, 0.0486825069503576, 0.9993704120947937, 0.9998990827986086, 0.7910055995507872, 0.13031510298308419, 0.07702645073587601, 0.0016509631912048353, 0.9979146085696421, 0.0019091014648776974, 0.9974343109319057, 0.002358446777007249, 0.00018867574216057992, 0.9803231337155306, 0.019570053272872708, 0.9999690796299164, 0.2540033792366002, 0.6411087754281785, 0.07726111833079848, 0.02762961129842219, 0.9998544725653262, 0.9995437116321512, 0.0001417993632617607, 0.0002835987265235214, 0.9987247660483775, 0.9521591915758685, 0.047763972554473864, 0.0001200099812926479, 0.9794575782803331, 0.020557436623982656, 0.9972098096020233, 0.0027175148839865566, 0.9754350654281271, 0.024381701686784205, 7.55524794112253e-05, 0.9967638608722954, 0.0031732041352714626, 0.03982449272328625, 0.13854320430360986, 0.07915580287414792, 0.7424863627852317, 0.9986166857674947, 0.0013543948197289172, 0.002202894524497866, 0.9742505006307044, 0.023538335937690162, 0.9997405721454221, 0.10918680182264197, 0.22014140198634674, 0.3413871139212384, 0.3292776952849583, 0.9995965801201896, 0.007292293725980172, 0.7671253908133567, 0.1907502651888051, 0.03483265712143398, 0.4104604160631236, 0.032174787058076526, 0.04017210760806608, 0.5171875444338605, 0.050834504347150755, 0.15740784861185692, 0.05070656515835759, 0.7410664278862741, 0.9990110200812301, 0.00024440636576910827, 0.000855422280191879, 0.9996873280954196, 0.3362344059266454, 0.07506561583535877, 0.07014288670987938, 0.5185674900718402, 0.9997738436144549, 0.05497888120322016, 0.0027254488117835637, 0.9422064504322799, 0.999844425570041, 0.11855590861297295, 0.7707707253959656, 0.07065739174854907, 0.040022058321576855, 0.9998021222158843, 0.8354425209610808, 0.09091925563456907, 0.009502699631179194, 0.06413375767018946, 0.11198986167702622, 0.21566223008388874, 0.3550490257004237, 0.3172922623569833, 0.9996175519456038, 0.02515859501541484, 0.9703383861933351, 7.532513477669114e-05, 0.004368857817048086, 0.14466133077139273, 0.00023171765300559463, 0.8024305084366073, 0.05267714644993851, 0.014504145427266893, 0.985531674635497, 0.9995510624952396, 0.9997266509329374, 0.9996391386766805, 0.001998851125289352, 0.09062876059556614, 0.013566670403559643, 0.893826682983113, 0.1531868684538631, 0.1738805331397358, 0.1279669066391597, 0.5449803189897406, 0.26683908100466436, 0.7110935139297792, 0.006889184792900491, 0.015180326228557538, 0.7197967912072378, 0.14107448971628458, 0.13563300904081307, 0.0034971929167183493, 0.9998000302418901, 0.00011059734847808519, 0.00011059734847808519, 0.9997880353045119, 0.050148377234687985, 0.1302137342809211, 0.7838869989758288, 0.03575142808416407, 0.9997699094721222, 0.6939037319518502, 0.18796079151891432, 0.11665578338700168, 0.0014814059861200687, 0.0068141024573183315, 0.9719996834308915, 0.02118001646989829, 0.14437941127440826, 0.6613494310243179, 0.1646500314812209, 0.02962580712410948, 0.01451934373999704, 0.04747215980069997, 0.9288736021564701, 0.009128778214719038, 0.9982573020986667, 0.0006177334790214521, 0.0006177334790214521, 0.0004633001092660891, 0.26266730549022027, 0.4332567017132679, 0.06630494468532792, 0.23777394585536898, 0.13925925100247938, 0.054384086536503076, 0.07257876254687727, 0.7337352998798977, 0.31258039262049575, 0.5127141675445123, 0.14665742247541105, 0.028047870606790835, 0.0519759820542282, 0.9479630331299614, 0.9611436779264372, 0.02522805060411553, 0.00850320455629787, 0.005124447778960968, 0.9997418081283979, 0.6706654020820396, 0.19651104455846097, 0.07237042745773609, 0.06045273791363864, 0.7876139153036406, 0.1592653695731568, 0.045920749930243046, 0.00719830512816237, 0.9529949295679765, 0.033354822534879175, 0.012979221988519082, 0.0007111902459462511, 0.999956362531233, 0.9740574391650814, 0.020835695991088282, 0.004947910376968677, 0.00013618101954959662, 0.999643204831433, 0.12868226117479722, 0.7907412337897767, 0.04693409674114897, 0.03364978143743214, 0.08832282096082786, 0.38456701659482384, 0.48982638307475723, 0.03727935896164307, 0.06549800200964187, 0.2518260821167489, 0.567190185171105, 0.11548539075645484, 0.9995809694448881, 0.9998303378852786, 0.07374378961079639, 0.7464944027728942, 0.13823013580022966, 0.041536498079728444, 0.04765732388846527, 0.060525220488077264, 0.08014142768227404, 0.8116834451188477, 0.03998417999570782, 0.8331032130448973, 0.05732060430727964, 0.06958440876864973, 0.23911414684300994, 0.20442786170428404, 0.5296541021051253, 0.02680623226913997, 0.9995136775888809, 0.9997471266589395, 0.9997110629465948, 0.9995641129333135, 0.0001919157553719475, 0.012186650466118666, 0.05354449574877335, 0.9340539813952685, 0.999009646348989, 0.8157572682600525, 0.17924669842841792, 0.0018581702414400712, 0.0031414369827660873, 0.0985334000471305, 0.15233180496737814, 0.025998404850691537, 0.7231326040027102, 0.9997840939040917, 0.9999068893563082, 0.06612303666329981, 0.13905931267635485, 0.7862579521726824, 0.008560873235008428, 0.9997292317448955, 0.9952145321382501, 0.004639935137403776, 0.00010310966972008392, 0.9997470428445835, 0.9996606945260768, 0.00033159908044872073, 0.05108480087425433, 0.6018071159275711, 0.3261234782103515, 0.020988290875765824, 0.9999529341895506, 0.9783443165256254, 0.018939742537867878, 0.0027176231014600706, 0.9816397451222436, 0.01829295923924604, 0.9994101493406685, 0.6547913954707257, 0.27259063953808566, 0.06773064995397475, 0.004887425029616907, 0.999924740725894, 0.76739129713159, 0.13731487108697807, 0.044746982643815464, 0.05054463517766634, 0.795281694181633, 0.09462682337277097, 0.020719754934425492, 0.08938492364952814, 0.26567399634082134, 0.14437358322237587, 0.17319372917628742, 0.41676659583884285, 0.07440850397167821, 0.5397376896852605, 0.34655565479910905, 0.039296738688191404, 0.9997647846384269, 0.9687944784145517, 0.00197219196123995, 0.020229908450900697, 0.009024272307491891, 0.013752941960618268, 0.005756704660644341, 0.9780722486424622, 0.0024193880267831805, 0.5382945934118559, 0.3462274863037938, 0.10336211288352563, 0.012118046095883218, 0.9997341105258347, 0.9999308423561146, 0.193555661448979, 0.519710396685387, 0.0810773323001403, 0.2056547086794967, 0.9997712233426524, 0.9997956582901244, 0.9998010463692073, 0.012107375929557275, 0.06600623479743194, 0.2128841312092812, 0.7090528111950762, 0.012512333505254323, 0.9077257382938587, 0.05463131530463155, 0.02513040504013051, 0.9996037825569629, 0.0002556531413189163, 0.2433630574711403, 0.7147934052045297, 0.030295487310513486, 0.011545837183485595, 0.999430850991186, 0.9991886455904516, 0.0007990817520927091, 0.0005175281967755734, 0.05337009529248101, 0.9400252784182321, 0.006080956312112988, 0.03496794156481411, 0.9310606654336246, 0.033956904371015895, 0.49263213472711, 0.33363145627877183, 0.13790761041733007, 0.03583058281249843, 0.5633240951362054, 0.16762006475817362, 0.1324965954065443, 0.13656088919482492, 0.9772179415998361, 0.022767958020393577, 0.9998282153142782, 0.9996122227939607, 0.010239678423702615, 0.061737476344078335, 0.10257642771814374, 0.8254019145749523, 0.9999584082730326, 0.9998745964759991, 0.9999713760832972, 0.9995664057267939, 0.00389895596078858, 0.9960285275068478, 0.999971607596514, 0.9990612759459951, 0.5677962471772504, 0.3485639448744589, 0.06561305638939834, 0.018022231284161024, 0.9995298020401354, 0.890537600980869, 0.10886230228133544, 3.256912558903079e-05, 0.0005699596978080389, 0.10904694528608563, 0.1832217497683819, 0.6643092348810644, 0.043419124172231795, 0.051828288433645946, 0.7404479860194438, 0.15622827074775658, 0.051505068674159535, 0.16333912850124582, 0.8122425310231196, 0.021815242771187987, 0.0026018179451875578, 0.10038924107945171, 0.0056984231047514855, 0.8933591683016425, 0.0005658008756490837, 1.590781918306443e-05, 0.006665376237703996, 0.4038995290580059, 0.5894324241900863, 0.9999749564354014, 0.04830832950068886, 0.8554135864589338, 0.04741402135468715, 0.048873155698163626, 0.5693428715477779, 0.2378482583252353, 0.005999985696627209, 0.18680854343094377, 0.0015060093798595423, 0.058645777027471584, 0.010099121723763989, 0.929739320095641, 0.059193774219212604, 0.6685678232185958, 0.22556648119412961, 0.04666469148345895, 0.12279399949971907, 0.011013110730110937, 0.8656763913480952, 0.0005135081392016012, 0.9852605219396318, 0.0016522553559411076, 0.011049457692856158, 0.0019964752217621717, 0.4227199876925487, 0.19773890738730057, 0.07964654203781024, 0.29989705582960396, 0.9815492278695839, 0.01838107168295101, 0.8654296045674015, 0.006462587493872703, 0.1081926285612137, 0.0199003125242356, 0.28619128703598257, 0.5801257748452501, 0.13283873142895317, 0.0008486806693057549, 0.9999525333538237, 0.9994993407380313, 0.000281390580162734, 0.000281390580162734, 0.9995993847721958, 0.9174260395329328, 0.02765775101092128, 0.05492829350768966, 0.11896638343975859, 0.7271668120937441, 0.12007596989053956, 0.0337822284472716, 0.08571072117418123, 0.3623330782898851, 0.2675992047681959, 0.28435385166295507, 0.9998193924375006, 0.4236472303292913, 0.17415295127952873, 0.02944277266431676, 0.3727552928760293, 0.9998020833986345, 0.22043307107478693, 0.04135413614093518, 0.04462859333707749, 0.6935921359173505, 0.03271362614709524, 0.9671670764781305, 0.7330053066303324, 0.18779659323796177, 0.07590329384169218, 0.0032959827834324945, 0.9995859833203848, 0.9997902316378926, 0.032417425623352814, 0.9007721999875635, 0.0666302778966144, 0.00016624320832488623, 0.07116060848524983, 0.06106637875487801, 0.8431279604570486, 0.0246603516758532, 0.09095316426477472, 0.44989111460533665, 0.16686859689479003, 0.29228741484347504, 0.9996195400842123, 0.18204373714308286, 0.045833268754652795, 0.7414167970237033, 0.030706516038073648, 0.03793134280785152, 0.8866114427782431, 0.07543908686353415, 0.9997295669721381, 0.09217177818807876, 0.3237243806765841, 0.5474627264251342, 0.03663815652826839, 0.056129005388093484, 0.2925779650938416, 0.0619548506144883, 0.5893210747058644, 0.9994760135721864, 0.03554755086374511, 0.10759277146224787, 0.8459661851177533, 0.010893604296954146, 0.9998148956958202, 0.9993830758872532, 0.6670415786805259, 0.25278374506655815, 0.06581289954919126, 0.01436005718093043, 0.9994687977869514, 0.688859634917116, 0.29773128989744696, 0.0010280543803772367, 0.01237878594077181, 0.8510363382492847, 0.13930118727656535, 0.0033951923291270134, 0.006268629044201101, 0.43049069686597247, 0.03622383710889817, 0.0032124382346739606, 0.530100255560527, 0.19282096599694495, 0.524844637854911, 0.1654311947677007, 0.11689783947614225, 0.5460211849625835, 0.15301423164386518, 0.1717380587955109, 0.1292293298360214, 0.14352885118958672, 0.5580364321517409, 0.18266767239963813, 0.11575839929472949, 0.021982546803547862, 0.02028963802672291, 0.9526528300392701, 0.005078726330474851, 0.026685443224160818, 0.9711034611951969, 0.002242474220517716, 0.9998773141021317, 0.17167037992157097, 0.16872384304698115, 0.011588393345702176, 0.6480205828418337, 0.15086429795699022, 0.3174907946589329, 0.29845830150887337, 0.2331868090672152, 0.9775819025526313, 0.022389838625709587, 0.4000259033337722, 0.083318360691138, 0.48702916218677333, 0.0296313775844438, 0.9990107465301608, 0.000805783792974803, 0.0001611567585949606, 0.9996598368142533, 0.9975554235326775, 0.0012212970415434346, 8.14198027695623e-05, 0.0012212970415434346, 0.7494916851249995, 0.11136823807106931, 0.04365844074617036, 0.09548649989544147, 0.5661261440049522, 0.16783489387981984, 0.012827168698156918, 0.2532081298181503, 0.022885813211844217, 0.05249284317934348, 0.920890886131284, 0.0037324502233909026, 0.02075962624147409, 0.6804578625324779, 0.24455534595343223, 0.05423188672346833, 0.9826248059373833, 0.015481577109300758, 0.00024836754720803354, 0.0016557836480535569, 0.7110848105744412, 0.02890768587832004, 0.07432205722517393, 0.18569448798235522, 0.9973829449459986, 0.0008098927689370674, 0.0016197855378741349, 0.9974675280154867, 0.0019500831437252915, 0.00048752078593132286, 0.9133419962282514, 0.036333558219209354, 0.023238167408824645, 0.02709296929664144, 0.9706212913484706, 0.02936150551446264, 0.1711326287901397, 0.0008682135577558827, 0.7223536800528944, 0.10564697648336432, 0.8730261408997237, 0.09408587456585885, 0.023447636177531483, 0.009442783545144433, 0.9999383517697411, 0.9999397914803786, 0.015493129272859063, 0.0009485589350730038, 0.9835853520458847, 0.2659296582519754, 0.5025754109687978, 0.21388410211206704, 0.017615183823738317, 0.3317755153839601, 0.5638926187789172, 0.06986425061735553, 0.034471302055314616, 0.0013562522793908339, 0.9862214491637014, 0.012432312561082643, 0.25105645682592403, 0.43157269043651647, 0.19774668593847705, 0.11962558576787745, 0.9998346549170689, 0.9996617613066497, 0.9998626347411135, 0.9995287930588524, 0.0018826659099739945, 0.04226769542980831, 0.228430130410178, 0.7274104265889718, 0.5395976535700175, 0.3894230976060245, 0.0560370494187723, 0.01494810002104703, 0.9997914062636993, 0.971835248806807, 0.0281566639646709, 0.010190108415173111, 0.000531657830356858, 0.9891493933789343, 0.00017721927678561933, 0.09428827270791133, 0.0019037646838968882, 0.9029382826206223, 0.0008653475835894946, 0.04044728344616586, 0.12916775424995655, 0.1557112840115029, 0.6746682179614116, 0.04379779748752701, 0.09384535971023512, 0.8277378281544279, 0.03461103888154088, 0.00014166633658423632, 0.009916643560896544, 0.9899643600506435, 0.999192931200372, 0.000704649457828189, 0.00010840760889664446, 0.8914808015748624, 0.06311943007634266, 0.02405697937379266, 0.021330398056948002, 0.4456482414063695, 0.16008088028178316, 0.33415172870753007, 0.060118422640297105, 0.04779889668821422, 0.01836177128876522, 0.9291056272115201, 0.004721598331396771, 0.4772835494718799, 0.43616793565181167, 0.046531782068741194, 0.04001115920836204, 0.9768694197804312, 0.023033265705321642, 0.9999355985466318, 0.7690160066071219, 0.16688276509382566, 0.03322017372928162, 0.030879697030011657, 0.9638687323474843, 0.019979874007082076, 0.013514083876510326, 0.0026212662691507097, 0.8551369410251705, 0.08446027684951565, 0.036240951623419206, 0.024143643814757944, 0.999922844131946, 0.03203187835046839, 0.9526838534025193, 0.014717349512377367, 0.00048095913439141725, 0.8176944528946739, 0.10010733297551314, 0.08029805874705781, 0.0019125233046500209, 0.9999105861252957, 0.9998960856078962, 0.9998731286789402, 0.9995705153678278, 0.0003467720781848492, 0.9994999891533736, 0.5139976451015578, 0.31447100833689573, 0.1468191632260738, 0.02471540499855644, 0.7967361485677082, 0.1788568480192792, 0.02189321395473422, 0.0025031490357801923, 0.000223597029714371, 0.9997023198529528, 0.5323937643360892, 0.26138055095321894, 0.19139751432643165, 0.014827323840181985, 0.9992018500335353, 0.00035721549829329354, 0.9994889642246354, 0.0029086072547681485, 0.9970705669345212, 0.9997528737862558, 0.9997824964851573], \"Term\": [\"20022022\", \"20022022\", \"20022023\", \"20022023\", \"20152020\", \"20192025\", \"2020\", \"2020\", \"2020\", \"2020\", \"20202025\", \"20202026\", \"20202027\", \"2021\", \"2021\", \"2021\", \"2021\", \"20212026\", \"20212026\", \"20212027\", \"2022\", \"2022\", \"2022\", \"2022\", \"2023\", \"2023\", \"2023\", \"2023\", \"2025\", \"2025\", \"2025\", \"2025\", \"2026\", \"2026\", \"2026\", \"2026\", \"2027\", \"2027\", \"2027\", \"2028\", \"2028\", \"2028\", \"2028\", \"242017\", \"52018\", \"8887760942\", \"aboriginal\", \"aboriginal\", \"accused\", \"accused\", \"actress\", \"admits\", \"advertisement\", \"advertisement\", \"advertisement\", \"advertisement\", \"ago\", \"ago\", \"ago\", \"ago\", \"ai\", \"ai\", \"ai\", \"ai\", \"airconditioning\", \"allentown\", \"altman\", \"altman\", \"america\", \"america\", \"america\", \"america\", \"analysis\", \"analysis\", \"analysis\", \"analysis\", \"ap\", \"ap\", \"ap\", \"ap\", \"app\", \"app\", \"app\", \"app\", \"application\", \"application\", \"application\", \"application\", \"argonne\", \"armada\", \"arn\", \"arrested\", \"arrowrightalt\", \"artificial\", \"artificial\", \"artificial\", \"artificial\", \"bard\", \"bard\", \"bard\", \"beatles\", \"berk\", \"bestreviews\", \"biden\", \"biden\", \"biden\", \"biden\", \"bikini\", \"bing\", \"bing\", \"bing\", \"bing\", \"blog\", \"blog\", \"blog\", \"blog\", \"boyfriend\", \"brandvoice\", \"btc\", \"bureauinvestigate\", \"bureauinvestigate\", \"business\", \"business\", \"business\", \"business\", \"buyback\", \"cagr\", \"cagr\", \"camping\", \"camping\", \"camping\", \"camping\", \"capability\", \"capability\", \"capability\", \"capability\", \"captioningaudio\", \"captioningaudio\", \"cdtupdated\", \"cdtupdated\", \"chainlogistics\", \"chapter\", \"chapter\", \"chapter\", \"chapter\", \"chatbot\", \"chatbot\", \"chatbot\", \"chatbot\", \"chatgpt\", \"chatgpt\", \"chatgpt\", \"chatgpt\", \"cio\", \"cio\", \"cio\", \"cision\", \"cisos\", \"clearview\", \"clearview\", \"cloud\", \"cloud\", \"cloud\", \"cloud\", \"cmswire\", \"cna\", \"comment\", \"comment\", \"comment\", \"comment\", \"company\", \"company\", \"company\", \"company\", \"computer\", \"computer\", \"computer\", \"computer\", \"computing\", \"computing\", \"computing\", \"computing\", \"computinginternet\", \"consumer\", \"consumer\", \"consumer\", \"consumer\", \"contact\", \"contact\", \"contact\", \"contact\", \"content\", \"content\", \"content\", \"content\", \"corporation\", \"corporation\", \"corporation\", \"corporation\", \"could\", \"could\", \"could\", \"could\", \"courtesy\", \"courtesy\", \"courtesy\", \"credo\", \"credo\", \"cryptos\", \"culture\", \"culture\", \"culture\", \"culture\", \"customer\", \"customer\", \"customer\", \"customer\", \"data\", \"data\", \"data\", \"data\", \"datadecisionmakers\", \"daughter\", \"day\", \"day\", \"day\", \"day\", \"ddn\", \"ddn\", \"dead\", \"dead\", \"dead\", \"descriptiona\", \"descriptiona\", \"digi\", \"digital\", \"digital\", \"digital\", \"digital\", \"dress\", \"dy\", \"dy\", \"dy\", \"e96\", \"edt\", \"edt\", \"edt\", \"edtupdated\", \"edtupdated\", \"eedition\", \"eedition\", \"effectdismiss\", \"effectdismiss\", \"ein\", \"ein\", \"ein\", \"electronic\", \"electronic\", \"electronic\", \"electronic\", \"elon\", \"elon\", \"endorsed\", \"endorsed\", \"endorsed\", \"enduse\", \"energy\", \"energy\", \"energy\", \"energy\", \"englishonly\", \"enterprise\", \"enterprise\", \"enterprise\", \"enterprise\", \"entertainment\", \"entertainment\", \"entertainment\", \"entertainment\", \"environmental\", \"environmental\", \"environmental\", \"environmental\", \"epaper\", \"epaper\", \"epaper\", \"epr\", \"estate\", \"estate\", \"estate\", \"estate\", \"etcio\", \"etf\", \"etf\", \"etf\", \"eurekalert\", \"experience\", \"experience\", \"experience\", \"experience\", \"factmr\", \"file\", \"file\", \"file\", \"file\", \"financial\", \"financial\", \"financial\", \"financial\", \"fitnesswellness\", \"forbes\", \"forbes\", \"forbes\", \"forbes\", \"forecast\", \"forecast\", \"forecast\", \"forecast\", \"freddy\", \"freddy\", \"fsa\", \"gamesbeat\", \"gaudi\", \"gdpr\", \"gdpr\", \"gdpr\", \"gdpr\", \"general\", \"general\", \"general\", \"general\", \"generative\", \"generative\", \"generative\", \"generative\", \"get\", \"get\", \"get\", \"get\", \"girl\", \"girl\", \"girl\", \"girlfriend\", \"global\", \"global\", \"global\", \"global\", \"god\", \"google\", \"google\", \"google\", \"google\", \"gray\", \"gray\", \"gray\", \"group\", \"group\", \"group\", \"group\", \"growth\", \"growth\", \"growth\", \"growth\", \"harry\", \"harry\", \"harry\", \"harry\", \"health\", \"health\", \"health\", \"health\", \"heavy\", \"heavy\", \"heavy\", \"heavy\", \"help\", \"help\", \"help\", \"help\", \"hiking\", \"hiking\", \"hill\", \"hill\", \"hill\", \"hill\", \"hindu\", \"home\", \"home\", \"home\", \"home\", \"hour\", \"hour\", \"hour\", \"hour\", \"house\", \"house\", \"house\", \"house\", \"husband\", \"icon\", \"icon\", \"icon\", \"icon\", \"idg\", \"improve\", \"improve\", \"improve\", \"improve\", \"inc\", \"inc\", \"inc\", \"inc\", \"industry\", \"industry\", \"industry\", \"industry\", \"inforgrowth\", \"inlanguage\", \"innovation\", \"innovation\", \"innovation\", \"innovation\", \"inquiry\", \"inquiry\", \"inquiry\", \"inquiry\", \"inspection\", \"inspection\", \"inspection\", \"inspection\", \"intelligence\", \"intelligence\", \"intelligence\", \"intelligence\", \"interestall\", \"intermodal\", \"internet1\", \"investingall\", \"ir\", \"ir\", \"ir\", \"ir\", \"itwc\", \"job\", \"job\", \"job\", \"job\", \"journalist\", \"journalist\", \"journalist\", \"journalist\", \"journalistic\", \"kardashian\", \"key\", \"key\", \"key\", \"key\", \"keyboardarrowright\", \"killed\", \"killed\", \"killed\", \"kyrgyzstan\", \"lawmaker\", \"lawmaker\", \"learning\", \"learning\", \"learning\", \"learning\", \"lehigh\", \"letter\", \"letter\", \"letter\", \"lifestylegray\", \"lifestylegray\", \"lifewire\", \"like\", \"like\", \"like\", \"like\", \"lisk\", \"live\", \"live\", \"live\", \"live\", \"local\", \"local\", \"local\", \"local\", \"log\", \"log\", \"log\", \"log\", \"machine\", \"machine\", \"machine\", \"machine\", \"mailonline\", \"man\", \"man\", \"man\", \"man\", \"market\", \"market\", \"market\", \"market\", \"may\", \"may\", \"may\", \"may\", \"mccartney\", \"mediaall\", \"medium\", \"medium\", \"medium\", \"medium\", \"meghan\", \"metallurgy\", \"metalworking\", \"mining\", \"mining\", \"mining\", \"mining\", \"ml\", \"ml\", \"ml\", \"ml\", \"mlaas\", \"mlaas\", \"model\", \"model\", \"model\", \"model\", \"monthsthis\", \"musk\", \"musk\", \"nasdaq\", \"nasdaq\", \"nasdaq\", \"nasdaq\", \"necessarily\", \"necessarily\", \"necessarily\", \"new\", \"new\", \"new\", \"new\", \"news\", \"news\", \"news\", \"news\", \"newscastspress\", \"newscastspress\", \"newsnation\", \"newsplugin\", \"newswire\", \"newswire\", \"newswire\", \"newswire\", \"newswires\", \"newswise\", \"nexstar\", \"nonus\", \"npr\", \"npr\", \"nv\", \"ofkorea\", \"one\", \"one\", \"one\", \"one\", \"ooda\", \"openai\", \"openai\", \"openai\", \"openai\", \"opportunity\", \"opportunity\", \"opportunity\", \"opportunity\", \"organization\", \"organization\", \"organization\", \"organization\", \"original\", \"original\", \"original\", \"original\", \"outlook\", \"outlook\", \"outlook\", \"outlook\", \"overview\", \"overview\", \"overview\", \"overview\", \"overviewview\", \"patient\", \"patient\", \"patient\", \"patient\", \"people\", \"people\", \"people\", \"people\", \"peripheral\", \"peripheral\", \"peripheral\", \"peripheral\", \"platform\", \"platform\", \"platform\", \"platform\", \"player\", \"player\", \"player\", \"player\", \"police\", \"police\", \"police\", \"police\", \"policy\", \"policy\", \"policy\", \"policy\", \"policyeeo\", \"policyeeo\", \"politics\", \"politics\", \"politics\", \"politics\", \"press\", \"press\", \"press\", \"press\", \"presswire\", \"prince\", \"prince\", \"prince\", \"principality\", \"prnewswire\", \"prnewswire\", \"prnewswire\", \"process\", \"process\", \"process\", \"process\", \"product\", \"product\", \"product\", \"product\", \"profnet\", \"public\", \"public\", \"public\", \"public\", \"putin\", \"radio\", \"radio\", \"radio\", \"radio\", \"railroad\", \"railroad\", \"read\", \"read\", \"read\", \"read\", \"recapitalization\", \"redistributed\", \"reflect\", \"reflect\", \"reflect\", \"reflect\", \"region\", \"region\", \"region\", \"region\", \"release\", \"release\", \"release\", \"release\", \"renalytix\", \"report\", \"report\", \"report\", \"report\", \"republic\", \"republic\", \"republic\", \"republican\", \"research\", \"research\", \"research\", \"research\", \"resource\", \"resource\", \"resource\", \"resource\", \"resourcesall\", \"revenue\", \"revenue\", \"revenue\", \"revenue\", \"rewritten\", \"rezolve\", \"right\", \"right\", \"right\", \"right\", \"safetylit\", \"said\", \"said\", \"said\", \"said\", \"say\", \"say\", \"say\", \"say\", \"schedule\", \"schedule\", \"schedule\", \"schedule\", \"science\", \"science\", \"science\", \"science\", \"search\", \"search\", \"search\", \"search\", \"security\", \"security\", \"security\", \"security\", \"segment\", \"segment\", \"segment\", \"segment\", \"segmentation\", \"segmentation\", \"segmentation\", \"segmented\", \"send\", \"send\", \"send\", \"send\", \"service\", \"service\", \"service\", \"service\", \"serviceprivacy\", \"serviceprivacy\", \"share\", \"share\", \"share\", \"share\", \"shes\", \"shes\", \"shes\", \"shipbuilding\", \"shooting\", \"shooting\", \"shooting\", \"shooting\", \"show\", \"show\", \"show\", \"show\", \"sign\", \"sign\", \"sign\", \"sign\", \"size\", \"size\", \"size\", \"size\", \"solution\", \"solution\", \"solution\", \"solution\", \"song\", \"song\", \"song\", \"song\", \"sport\", \"sport\", \"sport\", \"sport\", \"sql\", \"sql\", \"sql\", \"ssd\", \"ssd\", \"ssd\", \"star\", \"star\", \"star\", \"star\", \"statementfcc\", \"statementfcc\", \"stock\", \"stock\", \"stock\", \"stock\", \"story\", \"story\", \"story\", \"story\", \"sunak\", \"swot\", \"symbol\", \"symbol\", \"symbol\", \"system\", \"system\", \"system\", \"system\", \"team\", \"team\", \"team\", \"team\", \"teamcontact\", \"teamcontact\", \"teamcontact\", \"technology\", \"technology\", \"technology\", \"technology\", \"technologyall\", \"techradar\", \"techrepublic\", \"techtarget\", \"telecommunication\", \"telecommunication\", \"telecommunication\", \"telecommunication\", \"time\", \"time\", \"time\", \"time\", \"toc\", \"told\", \"told\", \"traded\", \"traded\", \"traded\", \"traded\", \"trading\", \"trading\", \"trading\", \"trading\", \"transportation\", \"transportation\", \"transportation\", \"transportation\", \"trend\", \"trend\", \"trend\", \"trend\", \"trucking\", \"trucking\", \"trucking\", \"trump\", \"trump\", \"trump\", \"tv\", \"tv\", \"tv\", \"tv\", \"u\", \"u\", \"u\", \"u\", \"usd\", \"usd\", \"usd\", \"usd\", \"use\", \"use\", \"use\", \"use\", \"usmeet\", \"usmeet\", \"venturebeat\", \"video\", \"video\", \"video\", \"video\", \"war\", \"war\", \"war\", \"war\", \"watch\", \"watch\", \"watch\", \"watch\", \"wdpntv\", \"webinars\", \"webinars\", \"webinars\", \"webinars\", \"week\", \"week\", \"week\", \"week\", \"wfmzcom\", \"wfmztv\", \"wife\", \"windowclick\", \"windowclick\", \"wlrn\", \"world\", \"world\", \"world\", \"world\", \"would\", \"would\", \"would\", \"would\", \"xx\", \"xx\", \"year\", \"year\", \"year\", \"year\", \"yearhttpsto\", \"zacks\", \"zacks\", \"zdnet\", \"zdnet\", \"\\u010desko\", \"\\u0440\\u043e\\u0441\\u0441\\u0438\\u044f\"]}, \"R\": 30, \"lambda.step\": 0.01, \"plot.opts\": {\"xlab\": \"PC1\", \"ylab\": \"PC2\"}, \"topic.order\": [3, 2, 1, 4]};\n",
       "\n",
       "function LDAvis_load_lib(url, callback){\n",
       "  var s = document.createElement('script');\n",
       "  s.src = url;\n",
       "  s.async = true;\n",
       "  s.onreadystatechange = s.onload = callback;\n",
       "  s.onerror = function(){console.warn(\"failed to load library \" + url);};\n",
       "  document.getElementsByTagName(\"head\")[0].appendChild(s);\n",
       "}\n",
       "\n",
       "if(typeof(LDAvis) !== \"undefined\"){\n",
       "   // already loaded: just create the visualization\n",
       "   !function(LDAvis){\n",
       "       new LDAvis(\"#\" + \"ldavis_el520961406052386626405221378684\", ldavis_el520961406052386626405221378684_data);\n",
       "   }(LDAvis);\n",
       "}else if(typeof define === \"function\" && define.amd){\n",
       "   // require.js is available: use it to load d3/LDAvis\n",
       "   require.config({paths: {d3: \"https://d3js.org/d3.v5\"}});\n",
       "   require([\"d3\"], function(d3){\n",
       "      window.d3 = d3;\n",
       "      LDAvis_load_lib(\"https://cdn.jsdelivr.net/gh/bmabey/pyLDAvis@3.4.0/pyLDAvis/js/ldavis.v3.0.0.js\", function(){\n",
       "        new LDAvis(\"#\" + \"ldavis_el520961406052386626405221378684\", ldavis_el520961406052386626405221378684_data);\n",
       "      });\n",
       "    });\n",
       "}else{\n",
       "    // require.js not available: dynamically load d3 & LDAvis\n",
       "    LDAvis_load_lib(\"https://d3js.org/d3.v5.js\", function(){\n",
       "         LDAvis_load_lib(\"https://cdn.jsdelivr.net/gh/bmabey/pyLDAvis@3.4.0/pyLDAvis/js/ldavis.v3.0.0.js\", function(){\n",
       "                 new LDAvis(\"#\" + \"ldavis_el520961406052386626405221378684\", ldavis_el520961406052386626405221378684_data);\n",
       "            })\n",
       "         });\n",
       "}\n",
       "</script>"
      ],
      "text/plain": [
       "PreparedData(topic_coordinates=              x         y  topics  cluster       Freq\n",
       "topic                                                \n",
       "2      0.119313  0.118971       1        1  40.534561\n",
       "1      0.055850  0.018976       2        1  33.296772\n",
       "0      0.033956 -0.181434       3        1  19.317945\n",
       "3     -0.209119  0.043486       4        1   6.850722, topic_info=         Term           Freq         Total Category  logprob  loglift\n",
       "322    market  750603.000000  7.506030e+05  Default  30.0000  30.0000\n",
       "357      news  647344.000000  6.473440e+05  Default  29.0000  29.0000\n",
       "447    report  315665.000000  3.156650e+05  Default  28.0000  28.0000\n",
       "89   business  379661.000000  3.796610e+05  Default  27.0000  27.0000\n",
       "484   service  290187.000000  2.901870e+05  Default  26.0000  26.0000\n",
       "..        ...            ...           ...      ...      ...      ...\n",
       "387    people   30480.778999  1.631671e+05   Topic4  -5.4142   1.0031\n",
       "122  computer   26491.671931  1.069330e+05   Topic4  -5.5545   1.2854\n",
       "271  industry   29342.648357  2.540841e+05   Topic4  -5.4522   0.5222\n",
       "553         u   30965.905026  5.150834e+05   Topic4  -5.3984  -0.1306\n",
       "34         ai   32651.327262  1.217850e+06   Topic4  -5.3454  -0.9381\n",
       "\n",
       "[406 rows x 6 columns], token_table=       Topic      Freq      Term\n",
       "term                            \n",
       "8834       2  0.970974  20022022\n",
       "8834       3  0.028905  20022022\n",
       "591        2  0.984401  20022023\n",
       "591        3  0.015538  20022023\n",
       "13442      3  0.999694  20152020\n",
       "...      ...       ...       ...\n",
       "45895      3  0.999489     zacks\n",
       "54604      1  0.002909     zdnet\n",
       "54604      2  0.997071     zdnet\n",
       "5260       4  0.999753     česko\n",
       "5261       4  0.999782    россия\n",
       "\n",
       "[931 rows x 3 columns], R=30, lambda_step=0.01, plot_opts={'xlab': 'PC1', 'ylab': 'PC2'}, topic_order=[3, 2, 1, 4])"
      ]
     },
     "execution_count": 55,
     "metadata": {},
     "output_type": "execute_result"
    }
   ],
   "source": [
    "LDA_plot = pyLDAvis.gensim.prepare(tuned_lda_model, corpus, dictionary)\n",
    "\n",
    "LDA_plot"
   ]
  }
 ],
 "metadata": {
  "kernelspec": {
   "display_name": "Python 3 (ipykernel)",
   "language": "python",
   "name": "python3"
  },
  "language_info": {
   "codemirror_mode": {
    "name": "ipython",
    "version": 3
   },
   "file_extension": ".py",
   "mimetype": "text/x-python",
   "name": "python",
   "nbconvert_exporter": "python",
   "pygments_lexer": "ipython3",
   "version": "3.9.13"
  }
 },
 "nbformat": 4,
 "nbformat_minor": 4
}
